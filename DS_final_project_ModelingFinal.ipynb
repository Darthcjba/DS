{
 "cells": [
  {
   "cell_type": "markdown",
   "metadata": {
    "_cell_guid": "3df4ac0e-deca-44d0-b3c1-5211c1298518",
    "_uuid": "a0905212a24464984548f5e3e53e7777d818ba1c"
   },
   "source": [
    "<h1>Kickstarter: Modelado Prueba de Hipotesis y Pruebas</h1>"
   ]
  },
  {
   "cell_type": "markdown",
   "metadata": {
    "_cell_guid": "05caa640-e9b4-4c3e-be49-07c849f838b3",
    "_uuid": "cd857df5227428220f7d12b2cafe4786d411aaed"
   },
   "source": [
    "<h1>Un poco sobre Kickstarter: </h1>"
   ]
  },
  {
   "cell_type": "markdown",
   "metadata": {
    "_cell_guid": "e8a56605-99ea-400d-a205-16b297ac7e6d",
    "_uuid": "85f047da988f1d4dd659ebc1a015ef338be7937d"
   },
   "source": [
    "<b>Kickstarter</b>\n",
    ">Es una corporación estadounidense de beneficio público con sede en Brooklyn, Nueva York, que mantiene una plataforma global de financiación colectiva centrada en la creatividad. La misión declarada de la empresa es \"ayudar a dar vida a proyectos creativos\". Según los informes, Kickstarter ha recibido más de 1.9 mil millones de dolares en promesas de 9.4 millones de patrocinadores para financiar 257,000 proyectos creativos, como películas, música, espectáculos teatrales, cómics, periodismo, videojuegos, tecnología y proyectos relacionados con la comida.\n",
    ">A las personas que respaldan los proyectos de Kickstarter se les ofrecen recompensas o experiencias tangibles a cambio de sus promesas. Este modelo tiene sus raíces en el modelo de suscripción de patrocinio artístico, en el que los artistas acudían directamente a sus audiencias para financiar su trabajo.\n"
   ]
  },
  {
   "cell_type": "code",
   "execution_count": 1,
   "metadata": {},
   "outputs": [
    {
     "name": "stdout",
     "output_type": "stream",
     "text": [
      "Collecting pandas\n",
      "  Downloading pandas-1.1.3-cp37-cp37m-manylinux1_x86_64.whl (9.5 MB)\n",
      "\u001b[K     |████████████████████████████████| 9.5 MB 3.5 MB/s eta 0:00:01\n",
      "\u001b[?25hCollecting pytz>=2017.2\n",
      "  Downloading pytz-2020.1-py2.py3-none-any.whl (510 kB)\n",
      "\u001b[K     |████████████████████████████████| 510 kB 25.4 MB/s eta 0:00:01\n",
      "\u001b[?25hRequirement already satisfied: python-dateutil>=2.7.3 in /srv/conda/envs/notebook/lib/python3.7/site-packages (from pandas) (2.8.1)\n",
      "Collecting numpy>=1.15.4\n",
      "  Downloading numpy-1.19.2-cp37-cp37m-manylinux2010_x86_64.whl (14.5 MB)\n",
      "\u001b[K     |████████████████████████████████| 14.5 MB 38.1 MB/s eta 0:00:01\n",
      "\u001b[?25hRequirement already satisfied: six>=1.5 in /srv/conda/envs/notebook/lib/python3.7/site-packages (from python-dateutil>=2.7.3->pandas) (1.15.0)\n",
      "Installing collected packages: pytz, numpy, pandas\n",
      "Successfully installed numpy-1.19.2 pandas-1.1.3 pytz-2020.1\n",
      "Collecting seaborn\n",
      "  Downloading seaborn-0.11.0-py3-none-any.whl (283 kB)\n",
      "\u001b[K     |████████████████████████████████| 283 kB 3.4 MB/s eta 0:00:01\n",
      "\u001b[?25hRequirement already satisfied: numpy>=1.15 in /srv/conda/envs/notebook/lib/python3.7/site-packages (from seaborn) (1.19.2)\n",
      "Requirement already satisfied: pandas>=0.23 in /srv/conda/envs/notebook/lib/python3.7/site-packages (from seaborn) (1.1.3)\n",
      "Collecting scipy>=1.0\n",
      "  Downloading scipy-1.5.3-cp37-cp37m-manylinux1_x86_64.whl (25.9 MB)\n",
      "\u001b[K     |████████████████████████████████| 25.9 MB 9.8 MB/s eta 0:00:01\n",
      "\u001b[?25hCollecting matplotlib>=2.2\n",
      "  Downloading matplotlib-3.3.2-cp37-cp37m-manylinux1_x86_64.whl (11.6 MB)\n",
      "\u001b[K     |████████████████████████████████| 11.6 MB 51.1 MB/s eta 0:00:01\n",
      "\u001b[?25hRequirement already satisfied: pytz>=2017.2 in /srv/conda/envs/notebook/lib/python3.7/site-packages (from pandas>=0.23->seaborn) (2020.1)\n",
      "Requirement already satisfied: python-dateutil>=2.7.3 in /srv/conda/envs/notebook/lib/python3.7/site-packages (from pandas>=0.23->seaborn) (2.8.1)\n",
      "Collecting kiwisolver>=1.0.1\n",
      "  Downloading kiwisolver-1.3.0-cp37-cp37m-manylinux2010_x86_64.whl (1.6 MB)\n",
      "\u001b[K     |████████████████████████████████| 1.6 MB 51.3 MB/s eta 0:00:01\n",
      "\u001b[?25hCollecting pillow>=6.2.0\n",
      "  Downloading Pillow-8.0.1-cp37-cp37m-manylinux1_x86_64.whl (2.2 MB)\n",
      "\u001b[K     |████████████████████████████████| 2.2 MB 38.6 MB/s eta 0:00:01\n",
      "\u001b[?25hRequirement already satisfied: certifi>=2020.06.20 in /srv/conda/envs/notebook/lib/python3.7/site-packages (from matplotlib>=2.2->seaborn) (2020.6.20)\n",
      "Collecting cycler>=0.10\n",
      "  Downloading cycler-0.10.0-py2.py3-none-any.whl (6.5 kB)\n",
      "Requirement already satisfied: pyparsing!=2.0.4,!=2.1.2,!=2.1.6,>=2.0.3 in /srv/conda/envs/notebook/lib/python3.7/site-packages (from matplotlib>=2.2->seaborn) (2.4.7)\n",
      "Requirement already satisfied: six>=1.5 in /srv/conda/envs/notebook/lib/python3.7/site-packages (from python-dateutil>=2.7.3->pandas>=0.23->seaborn) (1.15.0)\n",
      "Installing collected packages: scipy, kiwisolver, pillow, cycler, matplotlib, seaborn\n",
      "Successfully installed cycler-0.10.0 kiwisolver-1.3.0 matplotlib-3.3.2 pillow-8.0.1 scipy-1.5.3 seaborn-0.11.0\n",
      "Collecting plotly\n",
      "  Downloading plotly-4.12.0-py2.py3-none-any.whl (13.1 MB)\n",
      "\u001b[K     |████████████████████████████████| 13.1 MB 3.4 MB/s eta 0:00:01\n",
      "\u001b[?25hRequirement already satisfied: six in /srv/conda/envs/notebook/lib/python3.7/site-packages (from plotly) (1.15.0)\n",
      "Collecting retrying>=1.3.3\n",
      "  Downloading retrying-1.3.3.tar.gz (10 kB)\n",
      "Building wheels for collected packages: retrying\n",
      "  Building wheel for retrying (setup.py) ... \u001b[?25ldone\n",
      "\u001b[?25h  Created wheel for retrying: filename=retrying-1.3.3-py3-none-any.whl size=11430 sha256=edc0f9f99ecf0a3fd8666e64bf9f3c3fe1a31ab62e3837aded11c36c45a83a42\n",
      "  Stored in directory: /home/jovyan/.cache/pip/wheels/f9/8d/8d/f6af3f7f9eea3553bc2fe6d53e4b287dad18b06a861ac56ddf\n",
      "Successfully built retrying\n",
      "Installing collected packages: retrying, plotly\n",
      "Successfully installed plotly-4.12.0 retrying-1.3.3\n"
     ]
    }
   ],
   "source": [
    "!pip install pandas\n",
    "!pip install seaborn\n",
    "!pip install plotly"
   ]
  },
  {
   "cell_type": "markdown",
   "metadata": {},
   "source": [
    "# Generacion de Hipotesis"
   ]
  },
  {
   "cell_type": "markdown",
   "metadata": {},
   "source": [
    ">>\n",
    "La generación de hipótesis es una técnica muy poderosa que puede ayudar a estructurar una solución muy perspicaz y relevante de un problema. Es un proceso de construcción de un enfoque intuitivo del problema sin siquiera pensar en los datos disponibles. En primera instancia entonces trataremos de hacer una lista completa de todos los factores que se pueden utilizar para obtener el resultado final. Por ejemplo, qué características deberían afectar mis predicciones o qué valores de esas características me darán el mejor resultado posible. En el caso del crowdfunding, la pregunta puede ser: qué características son muy importantes para decidir si un proyecto tendrá éxito o no.\n",
    "Entonces, para generar la hipótesis para el caso de uso, escribiremos una lista de factores (sin siquiera mirar los datos disponibles) que posiblemente pueden ser importantes para modelar el éxito del proyecto.\n",
    "    >>\n",
    "    - Cantidad total a recaudar: una cantidad mayor puede disminuir las posibilidades de que el proyecto tenga éxito.\n",
    "    - Duración total del proyecto: es posible que los proyectos que están activos durante períodos de tiempo muy cortos o muy largos no tengan éxito.\n",
    "    - Tema del proyecto: las personas pueden considerar hacer una donación a un proyecto que tenga una buena causa o un buen tema.\n",
    "    - Estilo de redacción de la descripción del proyecto: si el mensaje no es muy claro, es posible que el proyecto no obtenga la financiación completa.\n",
    "    - Longitud de la descripción del proyecto: es posible que los textos muy largos no funcionen bien en comparación con los textos más breves y nítidos.\n",
    "    - Hora de lanzamiento del proyecto: es posible que un proyecto que se inicie entre semana, en comparación con los fines de semana o feriados, no obtenga el monto total de la financiación.\n",
    ">>\n",
    "Así que esta es una lista incompleta de posibles factores que podemos pensar en esta etapa que pueden influir en el éxito del proyecto. Ahora, utilizando la capacidad de interpretación del aprendizaje automático, no solo podemos intentar comprender qué características son realmente importantes, sino también cuáles son los valores de las características que pueden adoptar estas características."
   ]
  },
  {
   "cell_type": "code",
   "execution_count": null,
   "metadata": {},
   "outputs": [],
   "source": [
    "!pip install sklearn\n",
    "!pip install xgboost\n",
    "!pip install pdpbox\n",
    "!pip install eli5\n",
    "!pip install networkx"
   ]
  },
  {
   "cell_type": "code",
   "execution_count": 3,
   "metadata": {
    "scrolled": true
   },
   "outputs": [
    {
     "data": {
      "text/html": [
       "        <script type=\"text/javascript\">\n",
       "        window.PlotlyConfig = {MathJaxConfig: 'local'};\n",
       "        if (window.MathJax) {MathJax.Hub.Config({SVG: {font: \"STIX-Web\"}});}\n",
       "        if (typeof require !== 'undefined') {\n",
       "        require.undef(\"plotly\");\n",
       "        requirejs.config({\n",
       "            paths: {\n",
       "                'plotly': ['https://cdn.plot.ly/plotly-latest.min']\n",
       "            }\n",
       "        });\n",
       "        require(['plotly'], function(Plotly) {\n",
       "            window._Plotly = Plotly;\n",
       "        });\n",
       "        }\n",
       "        </script>\n",
       "        "
      ]
     },
     "metadata": {},
     "output_type": "display_data"
    },
    {
     "name": "stdout",
     "output_type": "stream",
     "text": [
      "Total de Projectos:  378661 \n",
      "Total de columnas:  15\n"
     ]
    },
    {
     "data": {
      "text/html": [
       "<div>\n",
       "<style scoped>\n",
       "    .dataframe tbody tr th:only-of-type {\n",
       "        vertical-align: middle;\n",
       "    }\n",
       "\n",
       "    .dataframe tbody tr th {\n",
       "        vertical-align: top;\n",
       "    }\n",
       "\n",
       "    .dataframe thead th {\n",
       "        text-align: right;\n",
       "    }\n",
       "</style>\n",
       "<table border=\"1\" class=\"dataframe\">\n",
       "  <thead>\n",
       "    <tr style=\"text-align: right;\">\n",
       "      <th></th>\n",
       "      <th>ID</th>\n",
       "      <th>name</th>\n",
       "      <th>category</th>\n",
       "      <th>main_category</th>\n",
       "      <th>currency</th>\n",
       "      <th>deadline</th>\n",
       "      <th>goal</th>\n",
       "      <th>launched</th>\n",
       "      <th>pledged</th>\n",
       "      <th>state</th>\n",
       "      <th>backers</th>\n",
       "      <th>country</th>\n",
       "      <th>usd pledged</th>\n",
       "      <th>usd_pledged_real</th>\n",
       "      <th>usd_goal_real</th>\n",
       "    </tr>\n",
       "  </thead>\n",
       "  <tbody>\n",
       "    <tr>\n",
       "      <th>0</th>\n",
       "      <td>1000002330</td>\n",
       "      <td>The Songs of Adelaide &amp; Abullah</td>\n",
       "      <td>Poetry</td>\n",
       "      <td>Publishing</td>\n",
       "      <td>GBP</td>\n",
       "      <td>2015-10-09</td>\n",
       "      <td>1000.0</td>\n",
       "      <td>2015-08-11 12:12:28</td>\n",
       "      <td>0.0</td>\n",
       "      <td>failed</td>\n",
       "      <td>0</td>\n",
       "      <td>GB</td>\n",
       "      <td>0.0</td>\n",
       "      <td>0.0</td>\n",
       "      <td>1533.95</td>\n",
       "    </tr>\n",
       "    <tr>\n",
       "      <th>1</th>\n",
       "      <td>1000003930</td>\n",
       "      <td>Greeting From Earth: ZGAC Arts Capsule For ET</td>\n",
       "      <td>Narrative Film</td>\n",
       "      <td>Film &amp; Video</td>\n",
       "      <td>USD</td>\n",
       "      <td>2017-11-01</td>\n",
       "      <td>30000.0</td>\n",
       "      <td>2017-09-02 04:43:57</td>\n",
       "      <td>2421.0</td>\n",
       "      <td>failed</td>\n",
       "      <td>15</td>\n",
       "      <td>US</td>\n",
       "      <td>100.0</td>\n",
       "      <td>2421.0</td>\n",
       "      <td>30000.00</td>\n",
       "    </tr>\n",
       "    <tr>\n",
       "      <th>2</th>\n",
       "      <td>1000004038</td>\n",
       "      <td>Where is Hank?</td>\n",
       "      <td>Narrative Film</td>\n",
       "      <td>Film &amp; Video</td>\n",
       "      <td>USD</td>\n",
       "      <td>2013-02-26</td>\n",
       "      <td>45000.0</td>\n",
       "      <td>2013-01-12 00:20:50</td>\n",
       "      <td>220.0</td>\n",
       "      <td>failed</td>\n",
       "      <td>3</td>\n",
       "      <td>US</td>\n",
       "      <td>220.0</td>\n",
       "      <td>220.0</td>\n",
       "      <td>45000.00</td>\n",
       "    </tr>\n",
       "    <tr>\n",
       "      <th>3</th>\n",
       "      <td>1000007540</td>\n",
       "      <td>ToshiCapital Rekordz Needs Help to Complete Album</td>\n",
       "      <td>Music</td>\n",
       "      <td>Music</td>\n",
       "      <td>USD</td>\n",
       "      <td>2012-04-16</td>\n",
       "      <td>5000.0</td>\n",
       "      <td>2012-03-17 03:24:11</td>\n",
       "      <td>1.0</td>\n",
       "      <td>failed</td>\n",
       "      <td>1</td>\n",
       "      <td>US</td>\n",
       "      <td>1.0</td>\n",
       "      <td>1.0</td>\n",
       "      <td>5000.00</td>\n",
       "    </tr>\n",
       "    <tr>\n",
       "      <th>4</th>\n",
       "      <td>1000011046</td>\n",
       "      <td>Community Film Project: The Art of Neighborhoo...</td>\n",
       "      <td>Film &amp; Video</td>\n",
       "      <td>Film &amp; Video</td>\n",
       "      <td>USD</td>\n",
       "      <td>2015-08-29</td>\n",
       "      <td>19500.0</td>\n",
       "      <td>2015-07-04 08:35:03</td>\n",
       "      <td>1283.0</td>\n",
       "      <td>canceled</td>\n",
       "      <td>14</td>\n",
       "      <td>US</td>\n",
       "      <td>1283.0</td>\n",
       "      <td>1283.0</td>\n",
       "      <td>19500.00</td>\n",
       "    </tr>\n",
       "  </tbody>\n",
       "</table>\n",
       "</div>"
      ],
      "text/plain": [
       "           ID                                               name  \\\n",
       "0  1000002330                    The Songs of Adelaide & Abullah   \n",
       "1  1000003930      Greeting From Earth: ZGAC Arts Capsule For ET   \n",
       "2  1000004038                                     Where is Hank?   \n",
       "3  1000007540  ToshiCapital Rekordz Needs Help to Complete Album   \n",
       "4  1000011046  Community Film Project: The Art of Neighborhoo...   \n",
       "\n",
       "         category main_category currency   deadline     goal  \\\n",
       "0          Poetry    Publishing      GBP 2015-10-09   1000.0   \n",
       "1  Narrative Film  Film & Video      USD 2017-11-01  30000.0   \n",
       "2  Narrative Film  Film & Video      USD 2013-02-26  45000.0   \n",
       "3           Music         Music      USD 2012-04-16   5000.0   \n",
       "4    Film & Video  Film & Video      USD 2015-08-29  19500.0   \n",
       "\n",
       "             launched  pledged     state  backers country  usd pledged  \\\n",
       "0 2015-08-11 12:12:28      0.0    failed        0      GB          0.0   \n",
       "1 2017-09-02 04:43:57   2421.0    failed       15      US        100.0   \n",
       "2 2013-01-12 00:20:50    220.0    failed        3      US        220.0   \n",
       "3 2012-03-17 03:24:11      1.0    failed        1      US          1.0   \n",
       "4 2015-07-04 08:35:03   1283.0  canceled       14      US       1283.0   \n",
       "\n",
       "   usd_pledged_real  usd_goal_real  \n",
       "0               0.0        1533.95  \n",
       "1            2421.0       30000.00  \n",
       "2             220.0       45000.00  \n",
       "3               1.0        5000.00  \n",
       "4            1283.0       19500.00  "
      ]
     },
     "execution_count": 3,
     "metadata": {},
     "output_type": "execute_result"
    }
   ],
   "source": [
    "## load required libraries \n",
    "from plotly.offline import iplot, init_notebook_mode\n",
    "import plotly.graph_objs as go\n",
    "\n",
    "from sklearn.feature_extraction.text import TfidfVectorizer\n",
    "from sklearn.feature_extraction import DictVectorizer\n",
    "from sklearn.model_selection import train_test_split\n",
    "from sklearn.ensemble import RandomForestClassifier\n",
    "from pdpbox import pdp, get_dataset, info_plots\n",
    "from eli5.sklearn import PermutationImportance\n",
    "from sklearn.preprocessing import LabelEncoder\n",
    "from sklearn.metrics import accuracy_score\n",
    "from sklearn.pipeline import make_pipeline\n",
    "from sklearn.pipeline import FeatureUnion\n",
    "from collections import Counter\n",
    "import matplotlib.pyplot as plt \n",
    "import pandas as pd \n",
    "import numpy as np \n",
    "import warnings\n",
    "import eli5\n",
    "warnings.filterwarnings('ignore')\n",
    "init_notebook_mode(connected=True)\n",
    "\n",
    "def syllable_count(word):\n",
    "    word = word.lower()\n",
    "    vowels = \"aeiouy\"\n",
    "    count = 0\n",
    "    if word[0] in vowels:\n",
    "        count += 1\n",
    "    for index in range(1, len(word)):\n",
    "        if word[index] in vowels and word[index - 1] not in vowels:\n",
    "            count += 1\n",
    "    if word.endswith(\"e\"):\n",
    "        count -= 1\n",
    "    if count == 0:\n",
    "        count += 1\n",
    "    return count\n",
    "\n",
    "projects = pd.read_csv(\"ks-projects-201801.csv\", parse_dates = [\"launched\", \"deadline\"])\n",
    "\n",
    "print (\"Total de Projectos: \", projects.shape[0], \"\\nTotal de columnas: \", projects.shape[1])\n",
    "projects.head()"
   ]
  },
  {
   "cell_type": "markdown",
   "metadata": {},
   "source": [
    "## Preparacion de los datos"
   ]
  },
  {
   "cell_type": "markdown",
   "metadata": {},
   "source": [
    "En este conjunto de datos, podemos ver que una serie de características se refieren a la etapa activa del proyecto. Esto significa que un proyecto se lanzó en una fecha particular y ya se recaudó una cantidad parcial. El objetivo de nuestra declaración de problema es un poco diferente, queremos centrarnos en la etapa en la que el proyecto aún no se ha lanzado e identificar si tendrá éxito o no. Además, buscamos las características más importantes (y los valores de las características) que influyen en esta salida. Así que realizamos un procesamiento previo en este paso que incluye lo siguiente:\n",
    "    - Deshacerse de las columnas no deseadas (columnas de etapa activa)\n",
    "    - Eliminar duplicados\n",
    "    - Manejar valores perdidos\n",
    "    - Codificar las características categóricas"
   ]
  },
  {
   "cell_type": "code",
   "execution_count": 4,
   "metadata": {},
   "outputs": [
    {
     "data": {
      "text/html": [
       "<div>\n",
       "<style scoped>\n",
       "    .dataframe tbody tr th:only-of-type {\n",
       "        vertical-align: middle;\n",
       "    }\n",
       "\n",
       "    .dataframe tbody tr th {\n",
       "        vertical-align: top;\n",
       "    }\n",
       "\n",
       "    .dataframe thead th {\n",
       "        text-align: right;\n",
       "    }\n",
       "</style>\n",
       "<table border=\"1\" class=\"dataframe\">\n",
       "  <thead>\n",
       "    <tr style=\"text-align: right;\">\n",
       "      <th></th>\n",
       "      <th>name</th>\n",
       "      <th>category</th>\n",
       "      <th>main_category</th>\n",
       "      <th>deadline</th>\n",
       "      <th>goal</th>\n",
       "      <th>launched</th>\n",
       "      <th>state</th>\n",
       "    </tr>\n",
       "  </thead>\n",
       "  <tbody>\n",
       "    <tr>\n",
       "      <th>1</th>\n",
       "      <td>Greeting From Earth: ZGAC Arts Capsule For ET</td>\n",
       "      <td>Narrative Film</td>\n",
       "      <td>Film &amp; Video</td>\n",
       "      <td>2017-11-01</td>\n",
       "      <td>30000.0</td>\n",
       "      <td>2017-09-02 04:43:57</td>\n",
       "      <td>failed</td>\n",
       "    </tr>\n",
       "    <tr>\n",
       "      <th>2</th>\n",
       "      <td>Where is Hank?</td>\n",
       "      <td>Narrative Film</td>\n",
       "      <td>Film &amp; Video</td>\n",
       "      <td>2013-02-26</td>\n",
       "      <td>45000.0</td>\n",
       "      <td>2013-01-12 00:20:50</td>\n",
       "      <td>failed</td>\n",
       "    </tr>\n",
       "    <tr>\n",
       "      <th>3</th>\n",
       "      <td>ToshiCapital Rekordz Needs Help to Complete Album</td>\n",
       "      <td>Music</td>\n",
       "      <td>Music</td>\n",
       "      <td>2012-04-16</td>\n",
       "      <td>5000.0</td>\n",
       "      <td>2012-03-17 03:24:11</td>\n",
       "      <td>failed</td>\n",
       "    </tr>\n",
       "    <tr>\n",
       "      <th>5</th>\n",
       "      <td>Monarch Espresso Bar</td>\n",
       "      <td>Restaurants</td>\n",
       "      <td>Food</td>\n",
       "      <td>2016-04-01</td>\n",
       "      <td>50000.0</td>\n",
       "      <td>2016-02-26 13:38:27</td>\n",
       "      <td>successful</td>\n",
       "    </tr>\n",
       "    <tr>\n",
       "      <th>6</th>\n",
       "      <td>Support Solar Roasted Coffee &amp; Green Energy!  ...</td>\n",
       "      <td>Food</td>\n",
       "      <td>Food</td>\n",
       "      <td>2014-12-21</td>\n",
       "      <td>1000.0</td>\n",
       "      <td>2014-12-01 18:30:44</td>\n",
       "      <td>successful</td>\n",
       "    </tr>\n",
       "  </tbody>\n",
       "</table>\n",
       "</div>"
      ],
      "text/plain": [
       "                                                name        category  \\\n",
       "1      Greeting From Earth: ZGAC Arts Capsule For ET  Narrative Film   \n",
       "2                                     Where is Hank?  Narrative Film   \n",
       "3  ToshiCapital Rekordz Needs Help to Complete Album           Music   \n",
       "5                               Monarch Espresso Bar     Restaurants   \n",
       "6  Support Solar Roasted Coffee & Green Energy!  ...            Food   \n",
       "\n",
       "  main_category   deadline     goal            launched       state  \n",
       "1  Film & Video 2017-11-01  30000.0 2017-09-02 04:43:57      failed  \n",
       "2  Film & Video 2013-02-26  45000.0 2013-01-12 00:20:50      failed  \n",
       "3         Music 2012-04-16   5000.0 2012-03-17 03:24:11      failed  \n",
       "5          Food 2016-04-01  50000.0 2016-02-26 13:38:27  successful  \n",
       "6          Food 2014-12-21   1000.0 2014-12-01 18:30:44  successful  "
      ]
     },
     "execution_count": 4,
     "metadata": {},
     "output_type": "execute_result"
    }
   ],
   "source": [
    "projects = projects.dropna()\n",
    "projects = projects[projects[\"currency\"] == \"USD\"]\n",
    "projects = projects[projects[\"state\"].isin([\"failed\", \"successful\"])]\n",
    "projects = projects.drop([\"backers\", \"ID\", \"currency\", \"country\", \"pledged\", \"usd pledged\", \"usd_pledged_real\", \"usd_goal_real\"], axis = 1)\n",
    "projects.head(5)"
   ]
  },
  {
   "cell_type": "markdown",
   "metadata": {},
   "source": [
    "### Caracteristicas a tener en cuenta ..."
   ]
  },
  {
   "cell_type": "markdown",
   "metadata": {},
   "source": [
    "- <b>Características del nombre/descripción del proyecto:</b> A partir de nuestra hipótesis, sugerimos que la forma en que se escribe el nombre o la descripción del proyecto puede afectar el éxito del proyecto. Entonces creamos algunas características relacionadas con el nombre del proyecto. No tenemos una descripción del proyecto en este conjunto de datos, así que lo evitamos.\n",
    "\n",
    "    - Número de palabras utilizadas\n",
    "    - Número de caracteres utilizados\n",
    "    - Número de sílabas utilizadas (palabras difíciles)\n",
    "\n",
    "- <b>Características de la fecha de lanzamiento del proyecto:</b> Además, sugerimos que el primer lanzamiento del proyecto puede afectar su éxito. Así que creamos algunas características relacionadas con la fecha y la hora:\n",
    "\n",
    "    - Día de lanzamiento, mes, trimestre, semana\n",
    "    - Duración total del proyecto\n",
    "    - ¿Se lanzó el proyecto un día laboral o un fin de semana\n",
    "    - El proyecto se lanzó en un día festivo o regular\n",
    "    \n",
    "- <b>Características de la categoría del proyecto:</b> estas son más probablemente las características de alto nivel que proporcionan la idea sobre la categoría/subcategoría del proyecto. Además, agregamos información adicional con la categoría, como la popularidad de la categoría calculada a partir del número total de proyectos publicados en esa categoría.\n",
    "\n",
    "    - Recuento de categorías y recuento de subcategorías: generalmente, cuántos proyectos se publican en esas categorías. Esto da una idea de si el proyecto pertenece a una categoría más genérica o es más un proyecto raro.\n",
    "    - Meta media de categoría/subcategoría: Generalmente, cuál es la meta media establecida en esas categorías / subcategorías. Esto da una idea de si el objetivo del proyecto es mucho más alto o mucho más bajo que el objetivo medio estándar de esa categoría."
   ]
  },
  {
   "cell_type": "code",
   "execution_count": 5,
   "metadata": {},
   "outputs": [],
   "source": [
    "## filtrado de caracteristicas\n",
    "projects[\"syllable_count\"]   = projects[\"name\"].apply(lambda x: syllable_count(x))\n",
    "projects[\"launched_month\"]   = projects[\"launched\"].dt.month\n",
    "projects[\"launched_week\"]    = projects[\"launched\"].dt.week\n",
    "projects[\"launched_day\"]     = projects[\"launched\"].dt.weekday\n",
    "projects[\"is_weekend\"]       = projects[\"launched_day\"].apply(lambda x: 1 if x > 4 else 0)\n",
    "projects[\"num_words\"]        = projects[\"name\"].apply(lambda x: len(x.split()))\n",
    "projects[\"num_chars\"]        = projects[\"name\"].apply(lambda x: len(x.replace(\" \",\"\")))\n",
    "projects[\"duration\"]         = projects[\"deadline\"] - projects[\"launched\"]\n",
    "projects[\"duration\"]         = projects[\"duration\"].apply(lambda x: int(str(x).split()[0]))\n",
    "projects[\"state\"]            = projects[\"state\"].apply(lambda x: 1 if x==\"successful\" else 0)\n",
    "\n",
    "## etiquetar las categorias\n",
    "projects = pd.concat([projects, pd.get_dummies(projects[\"main_category\"])], axis = 1)\n",
    "le = LabelEncoder()\n",
    "for c in [\"category\", \"main_category\"]:\n",
    "    projects[c] = le.fit_transform(projects[c])"
   ]
  },
  {
   "cell_type": "code",
   "execution_count": 6,
   "metadata": {},
   "outputs": [
    {
     "data": {
      "text/html": [
       "<div>\n",
       "<style scoped>\n",
       "    .dataframe tbody tr th:only-of-type {\n",
       "        vertical-align: middle;\n",
       "    }\n",
       "\n",
       "    .dataframe tbody tr th {\n",
       "        vertical-align: top;\n",
       "    }\n",
       "\n",
       "    .dataframe thead th {\n",
       "        text-align: right;\n",
       "    }\n",
       "</style>\n",
       "<table border=\"1\" class=\"dataframe\">\n",
       "  <thead>\n",
       "    <tr style=\"text-align: right;\">\n",
       "      <th></th>\n",
       "      <th>category</th>\n",
       "      <th>main_category</th>\n",
       "      <th>goal</th>\n",
       "      <th>state</th>\n",
       "      <th>syllable_count</th>\n",
       "      <th>launched_month</th>\n",
       "      <th>launched_week</th>\n",
       "      <th>launched_day</th>\n",
       "      <th>is_weekend</th>\n",
       "      <th>num_words</th>\n",
       "      <th>...</th>\n",
       "      <th>Music</th>\n",
       "      <th>Photography</th>\n",
       "      <th>Publishing</th>\n",
       "      <th>Technology</th>\n",
       "      <th>Theater</th>\n",
       "      <th>mean_category_goal</th>\n",
       "      <th>category_count</th>\n",
       "      <th>mean_main_category_goal</th>\n",
       "      <th>main_category_count</th>\n",
       "      <th>diff_mean_category_goal</th>\n",
       "    </tr>\n",
       "  </thead>\n",
       "  <tbody>\n",
       "    <tr>\n",
       "      <th>0</th>\n",
       "      <td>93</td>\n",
       "      <td>6</td>\n",
       "      <td>30000.0</td>\n",
       "      <td>0</td>\n",
       "      <td>11</td>\n",
       "      <td>9</td>\n",
       "      <td>35</td>\n",
       "      <td>5</td>\n",
       "      <td>1</td>\n",
       "      <td>8</td>\n",
       "      <td>...</td>\n",
       "      <td>0</td>\n",
       "      <td>0</td>\n",
       "      <td>0</td>\n",
       "      <td>0</td>\n",
       "      <td>0</td>\n",
       "      <td>57623.76924</td>\n",
       "      <td>25506</td>\n",
       "      <td>72268.329369</td>\n",
       "      <td>3678111</td>\n",
       "      <td>42268.329369</td>\n",
       "    </tr>\n",
       "    <tr>\n",
       "      <th>1</th>\n",
       "      <td>93</td>\n",
       "      <td>6</td>\n",
       "      <td>45000.0</td>\n",
       "      <td>0</td>\n",
       "      <td>4</td>\n",
       "      <td>1</td>\n",
       "      <td>2</td>\n",
       "      <td>5</td>\n",
       "      <td>1</td>\n",
       "      <td>3</td>\n",
       "      <td>...</td>\n",
       "      <td>0</td>\n",
       "      <td>0</td>\n",
       "      <td>0</td>\n",
       "      <td>0</td>\n",
       "      <td>0</td>\n",
       "      <td>57623.76924</td>\n",
       "      <td>25506</td>\n",
       "      <td>72268.329369</td>\n",
       "      <td>3678111</td>\n",
       "      <td>27268.329369</td>\n",
       "    </tr>\n",
       "    <tr>\n",
       "      <th>2</th>\n",
       "      <td>93</td>\n",
       "      <td>6</td>\n",
       "      <td>8000.0</td>\n",
       "      <td>1</td>\n",
       "      <td>5</td>\n",
       "      <td>1</td>\n",
       "      <td>4</td>\n",
       "      <td>3</td>\n",
       "      <td>0</td>\n",
       "      <td>4</td>\n",
       "      <td>...</td>\n",
       "      <td>0</td>\n",
       "      <td>0</td>\n",
       "      <td>0</td>\n",
       "      <td>0</td>\n",
       "      <td>0</td>\n",
       "      <td>57623.76924</td>\n",
       "      <td>25506</td>\n",
       "      <td>72268.329369</td>\n",
       "      <td>3678111</td>\n",
       "      <td>64268.329369</td>\n",
       "    </tr>\n",
       "    <tr>\n",
       "      <th>3</th>\n",
       "      <td>93</td>\n",
       "      <td>6</td>\n",
       "      <td>60000.0</td>\n",
       "      <td>1</td>\n",
       "      <td>14</td>\n",
       "      <td>1</td>\n",
       "      <td>2</td>\n",
       "      <td>5</td>\n",
       "      <td>1</td>\n",
       "      <td>10</td>\n",
       "      <td>...</td>\n",
       "      <td>0</td>\n",
       "      <td>0</td>\n",
       "      <td>0</td>\n",
       "      <td>0</td>\n",
       "      <td>0</td>\n",
       "      <td>57623.76924</td>\n",
       "      <td>25506</td>\n",
       "      <td>72268.329369</td>\n",
       "      <td>3678111</td>\n",
       "      <td>12268.329369</td>\n",
       "    </tr>\n",
       "    <tr>\n",
       "      <th>4</th>\n",
       "      <td>93</td>\n",
       "      <td>6</td>\n",
       "      <td>50000.0</td>\n",
       "      <td>0</td>\n",
       "      <td>8</td>\n",
       "      <td>1</td>\n",
       "      <td>3</td>\n",
       "      <td>5</td>\n",
       "      <td>1</td>\n",
       "      <td>5</td>\n",
       "      <td>...</td>\n",
       "      <td>0</td>\n",
       "      <td>0</td>\n",
       "      <td>0</td>\n",
       "      <td>0</td>\n",
       "      <td>0</td>\n",
       "      <td>57623.76924</td>\n",
       "      <td>25506</td>\n",
       "      <td>72268.329369</td>\n",
       "      <td>3678111</td>\n",
       "      <td>22268.329369</td>\n",
       "    </tr>\n",
       "  </tbody>\n",
       "</table>\n",
       "<p>5 rows × 32 columns</p>\n",
       "</div>"
      ],
      "text/plain": [
       "   category  main_category     goal  state  syllable_count  launched_month  \\\n",
       "0        93              6  30000.0      0              11               9   \n",
       "1        93              6  45000.0      0               4               1   \n",
       "2        93              6   8000.0      1               5               1   \n",
       "3        93              6  60000.0      1              14               1   \n",
       "4        93              6  50000.0      0               8               1   \n",
       "\n",
       "   launched_week  launched_day  is_weekend  num_words  ...  Music  \\\n",
       "0             35             5           1          8  ...      0   \n",
       "1              2             5           1          3  ...      0   \n",
       "2              4             3           0          4  ...      0   \n",
       "3              2             5           1         10  ...      0   \n",
       "4              3             5           1          5  ...      0   \n",
       "\n",
       "   Photography  Publishing  Technology  Theater  mean_category_goal  \\\n",
       "0            0           0           0        0         57623.76924   \n",
       "1            0           0           0        0         57623.76924   \n",
       "2            0           0           0        0         57623.76924   \n",
       "3            0           0           0        0         57623.76924   \n",
       "4            0           0           0        0         57623.76924   \n",
       "\n",
       "   category_count  mean_main_category_goal  main_category_count  \\\n",
       "0           25506             72268.329369              3678111   \n",
       "1           25506             72268.329369              3678111   \n",
       "2           25506             72268.329369              3678111   \n",
       "3           25506             72268.329369              3678111   \n",
       "4           25506             72268.329369              3678111   \n",
       "\n",
       "   diff_mean_category_goal  \n",
       "0             42268.329369  \n",
       "1             27268.329369  \n",
       "2             64268.329369  \n",
       "3             12268.329369  \n",
       "4             22268.329369  \n",
       "\n",
       "[5 rows x 32 columns]"
      ]
     },
     "execution_count": 6,
     "metadata": {},
     "output_type": "execute_result"
    }
   ],
   "source": [
    "## Genrar un contador de caracteristicas sobre las categorias/subcategorias\n",
    "t2 = projects.groupby(\"main_category\").agg({\"goal\" : \"mean\", \"category\" : \"sum\"})\n",
    "t1 = projects.groupby(\"category\").agg({\"goal\" : \"mean\", \"main_category\" : \"sum\"})\n",
    "t2 = t2.reset_index().rename(columns={\"goal\" : \"mean_main_category_goal\", \"category\" : \"main_category_count\"})\n",
    "t1 = t1.reset_index().rename(columns={\"goal\" : \"mean_category_goal\", \"main_category\" : \"category_count\"})\n",
    "projects = projects.merge(t1, on = \"category\")\n",
    "projects = projects.merge(t2, on = \"main_category\")\n",
    "\n",
    "projects[\"diff_mean_category_goal\"] = projects[\"mean_category_goal\"] - projects[\"goal\"]\n",
    "projects[\"diff_mean_category_goal\"] = projects[\"mean_main_category_goal\"] - projects[\"goal\"]\n",
    "\n",
    "projects = projects.drop([\"launched\", \"deadline\"], axis = 1)\n",
    "projects[[c for c in projects.columns if c != \"name\"]].head()"
   ]
  },
  {
   "cell_type": "markdown",
   "metadata": {},
   "source": [
    "### Modelado del éxito del proyecto\n",
    "\n",
    "Ahora, con todas esas características preparadas, estamos listos para entrenar nuestro modelo. Entrenaremos un único modelo forest regression aleatorio para esta tarea de esta manera nos iremos centrando en los conocimientos del modelo predictivo."
   ]
  },
  {
   "cell_type": "code",
   "execution_count": 7,
   "metadata": {},
   "outputs": [],
   "source": [
    "## definir predicciones y etiquetas\n",
    "label = projects.state\n",
    "features = [c for c in projects.columns if c not in [\"state\", \"name\"]]\n",
    "\n",
    "## preparar, entrenar y testear el dataset\n",
    "X_train, X_test, y_train, y_test = train_test_split(projects[features], label, test_size = 0.025, random_state = 2)\n",
    "X_train1, y_train1 = X_train, y_train\n",
    "X_test1, y_test1 = X_test, y_test\n",
    "\n",
    "## entrenar el classifier \n",
    "model1 = RandomForestClassifier(n_estimators=50, random_state=0).fit(X_train1, y_train1)\n",
    "y_pred = model1.predict(X_test1)"
   ]
  },
  {
   "cell_type": "markdown",
   "metadata": {},
   "source": [
    "- Ahora tenemos un modelo que predice la probabilidad de que un proyecto dado tenga éxito o no. Luego, interpretaremos el modelo y sus predicciones. En otras palabras, intentaremos probar o refutar nuestra hipótesis."
   ]
  },
  {
   "cell_type": "markdown",
   "metadata": {},
   "source": [
    "### Perspectivas del modelado predictivo\n",
    "1. ¿Cuáles son las características más importantes (relativamente) de un proyecto? (Importancia relativa de la característica)\n",
    "2. ¿Qué características tienen el mayor impacto en el éxito del proyecto? (Importancia de la permutación)\n",
    "3. ¿Cómo afectan los cambios en esas características al éxito del proyecto? (Dependencias parciales)\n",
    "4.  Profundizar en las decisiones tomadas por el modelo (valores SHAP)"
   ]
  },
  {
   "cell_type": "markdown",
   "metadata": {},
   "source": [
    "### 1. ¿Cuáles son las características más importantes (relativamente) de un proyecto? \n",
    "En modelos basados en árboles como el bosque aleatorio, se entrenan varios árboles de decisión. Durante el proceso de construcción del árbol, se puede calcular en cuánto disminuye cada característica la impureza ponderada (o aumenta la ganancia de información) en un árbol. En el bosque aleatorio, se promedia la disminución de impurezas de cada característica y las características se clasifican de acuerdo con esta medida. A esto se le llama <b>importancia relativa de las características</b>. Cuanto más se utiliza un atributo para tomar decisiones clave con árboles de decisión, mayor es su importancia relativa. Esto indica que la característica particular es una de las características importantes necesarias para realizar predicciones precisas."
   ]
  },
  {
   "cell_type": "code",
   "execution_count": 8,
   "metadata": {},
   "outputs": [
    {
     "data": {
      "application/vnd.plotly.v1+json": {
       "config": {
        "linkText": "Export to plot.ly",
        "plotlyServerURL": "https://plot.ly",
        "showLink": false
       },
       "data": [
        {
         "marker": {
          "color": [
           "red",
           "red",
           "red",
           "red",
           "red",
           "red",
           "red",
           "red",
           "red",
           "blue",
           "blue",
           "blue",
           "blue",
           "blue",
           "blue"
          ],
          "opacity": 0.4
         },
         "name": "importancia de la caracteristica (relativa)",
         "orientation": "h",
         "type": "bar",
         "x": [
          0.008971374547585469,
          0.00924315639944397,
          0.011177582580262127,
          0.02956723022521437,
          0.032200206219958054,
          0.036965732987165593,
          0.06476222944952033,
          0.07126344233464604,
          0.0726669003829631,
          0.08450457428764194,
          0.09611773393329022,
          0.10468238658515536,
          0.11579872495533207,
          0.11580954201506767,
          0.11850286503459433
         ],
         "y": [
          "Is_Weekend  ",
          "Main_Category  ",
          "Main_Category_Count  ",
          "Category_Count  ",
          "Category  ",
          "Mean_Category_Goal  ",
          "Launched_Day  ",
          "Num_Words  ",
          "Launched_Month  ",
          "Syllable_Count  ",
          "Duration  ",
          "Diff_Mean_Category_Goal  ",
          "Launched_Week  ",
          "Num_Chars  ",
          "Goal  "
         ]
        }
       ],
       "layout": {
        "bargap": 0.25,
        "barmode": "group",
        "margin": {
         "l": 400
        },
        "template": {
         "data": {
          "bar": [
           {
            "error_x": {
             "color": "#2a3f5f"
            },
            "error_y": {
             "color": "#2a3f5f"
            },
            "marker": {
             "line": {
              "color": "#E5ECF6",
              "width": 0.5
             }
            },
            "type": "bar"
           }
          ],
          "barpolar": [
           {
            "marker": {
             "line": {
              "color": "#E5ECF6",
              "width": 0.5
             }
            },
            "type": "barpolar"
           }
          ],
          "carpet": [
           {
            "aaxis": {
             "endlinecolor": "#2a3f5f",
             "gridcolor": "white",
             "linecolor": "white",
             "minorgridcolor": "white",
             "startlinecolor": "#2a3f5f"
            },
            "baxis": {
             "endlinecolor": "#2a3f5f",
             "gridcolor": "white",
             "linecolor": "white",
             "minorgridcolor": "white",
             "startlinecolor": "#2a3f5f"
            },
            "type": "carpet"
           }
          ],
          "choropleth": [
           {
            "colorbar": {
             "outlinewidth": 0,
             "ticks": ""
            },
            "type": "choropleth"
           }
          ],
          "contour": [
           {
            "colorbar": {
             "outlinewidth": 0,
             "ticks": ""
            },
            "colorscale": [
             [
              0,
              "#0d0887"
             ],
             [
              0.1111111111111111,
              "#46039f"
             ],
             [
              0.2222222222222222,
              "#7201a8"
             ],
             [
              0.3333333333333333,
              "#9c179e"
             ],
             [
              0.4444444444444444,
              "#bd3786"
             ],
             [
              0.5555555555555556,
              "#d8576b"
             ],
             [
              0.6666666666666666,
              "#ed7953"
             ],
             [
              0.7777777777777778,
              "#fb9f3a"
             ],
             [
              0.8888888888888888,
              "#fdca26"
             ],
             [
              1,
              "#f0f921"
             ]
            ],
            "type": "contour"
           }
          ],
          "contourcarpet": [
           {
            "colorbar": {
             "outlinewidth": 0,
             "ticks": ""
            },
            "type": "contourcarpet"
           }
          ],
          "heatmap": [
           {
            "colorbar": {
             "outlinewidth": 0,
             "ticks": ""
            },
            "colorscale": [
             [
              0,
              "#0d0887"
             ],
             [
              0.1111111111111111,
              "#46039f"
             ],
             [
              0.2222222222222222,
              "#7201a8"
             ],
             [
              0.3333333333333333,
              "#9c179e"
             ],
             [
              0.4444444444444444,
              "#bd3786"
             ],
             [
              0.5555555555555556,
              "#d8576b"
             ],
             [
              0.6666666666666666,
              "#ed7953"
             ],
             [
              0.7777777777777778,
              "#fb9f3a"
             ],
             [
              0.8888888888888888,
              "#fdca26"
             ],
             [
              1,
              "#f0f921"
             ]
            ],
            "type": "heatmap"
           }
          ],
          "heatmapgl": [
           {
            "colorbar": {
             "outlinewidth": 0,
             "ticks": ""
            },
            "colorscale": [
             [
              0,
              "#0d0887"
             ],
             [
              0.1111111111111111,
              "#46039f"
             ],
             [
              0.2222222222222222,
              "#7201a8"
             ],
             [
              0.3333333333333333,
              "#9c179e"
             ],
             [
              0.4444444444444444,
              "#bd3786"
             ],
             [
              0.5555555555555556,
              "#d8576b"
             ],
             [
              0.6666666666666666,
              "#ed7953"
             ],
             [
              0.7777777777777778,
              "#fb9f3a"
             ],
             [
              0.8888888888888888,
              "#fdca26"
             ],
             [
              1,
              "#f0f921"
             ]
            ],
            "type": "heatmapgl"
           }
          ],
          "histogram": [
           {
            "marker": {
             "colorbar": {
              "outlinewidth": 0,
              "ticks": ""
             }
            },
            "type": "histogram"
           }
          ],
          "histogram2d": [
           {
            "colorbar": {
             "outlinewidth": 0,
             "ticks": ""
            },
            "colorscale": [
             [
              0,
              "#0d0887"
             ],
             [
              0.1111111111111111,
              "#46039f"
             ],
             [
              0.2222222222222222,
              "#7201a8"
             ],
             [
              0.3333333333333333,
              "#9c179e"
             ],
             [
              0.4444444444444444,
              "#bd3786"
             ],
             [
              0.5555555555555556,
              "#d8576b"
             ],
             [
              0.6666666666666666,
              "#ed7953"
             ],
             [
              0.7777777777777778,
              "#fb9f3a"
             ],
             [
              0.8888888888888888,
              "#fdca26"
             ],
             [
              1,
              "#f0f921"
             ]
            ],
            "type": "histogram2d"
           }
          ],
          "histogram2dcontour": [
           {
            "colorbar": {
             "outlinewidth": 0,
             "ticks": ""
            },
            "colorscale": [
             [
              0,
              "#0d0887"
             ],
             [
              0.1111111111111111,
              "#46039f"
             ],
             [
              0.2222222222222222,
              "#7201a8"
             ],
             [
              0.3333333333333333,
              "#9c179e"
             ],
             [
              0.4444444444444444,
              "#bd3786"
             ],
             [
              0.5555555555555556,
              "#d8576b"
             ],
             [
              0.6666666666666666,
              "#ed7953"
             ],
             [
              0.7777777777777778,
              "#fb9f3a"
             ],
             [
              0.8888888888888888,
              "#fdca26"
             ],
             [
              1,
              "#f0f921"
             ]
            ],
            "type": "histogram2dcontour"
           }
          ],
          "mesh3d": [
           {
            "colorbar": {
             "outlinewidth": 0,
             "ticks": ""
            },
            "type": "mesh3d"
           }
          ],
          "parcoords": [
           {
            "line": {
             "colorbar": {
              "outlinewidth": 0,
              "ticks": ""
             }
            },
            "type": "parcoords"
           }
          ],
          "pie": [
           {
            "automargin": true,
            "type": "pie"
           }
          ],
          "scatter": [
           {
            "marker": {
             "colorbar": {
              "outlinewidth": 0,
              "ticks": ""
             }
            },
            "type": "scatter"
           }
          ],
          "scatter3d": [
           {
            "line": {
             "colorbar": {
              "outlinewidth": 0,
              "ticks": ""
             }
            },
            "marker": {
             "colorbar": {
              "outlinewidth": 0,
              "ticks": ""
             }
            },
            "type": "scatter3d"
           }
          ],
          "scattercarpet": [
           {
            "marker": {
             "colorbar": {
              "outlinewidth": 0,
              "ticks": ""
             }
            },
            "type": "scattercarpet"
           }
          ],
          "scattergeo": [
           {
            "marker": {
             "colorbar": {
              "outlinewidth": 0,
              "ticks": ""
             }
            },
            "type": "scattergeo"
           }
          ],
          "scattergl": [
           {
            "marker": {
             "colorbar": {
              "outlinewidth": 0,
              "ticks": ""
             }
            },
            "type": "scattergl"
           }
          ],
          "scattermapbox": [
           {
            "marker": {
             "colorbar": {
              "outlinewidth": 0,
              "ticks": ""
             }
            },
            "type": "scattermapbox"
           }
          ],
          "scatterpolar": [
           {
            "marker": {
             "colorbar": {
              "outlinewidth": 0,
              "ticks": ""
             }
            },
            "type": "scatterpolar"
           }
          ],
          "scatterpolargl": [
           {
            "marker": {
             "colorbar": {
              "outlinewidth": 0,
              "ticks": ""
             }
            },
            "type": "scatterpolargl"
           }
          ],
          "scatterternary": [
           {
            "marker": {
             "colorbar": {
              "outlinewidth": 0,
              "ticks": ""
             }
            },
            "type": "scatterternary"
           }
          ],
          "surface": [
           {
            "colorbar": {
             "outlinewidth": 0,
             "ticks": ""
            },
            "colorscale": [
             [
              0,
              "#0d0887"
             ],
             [
              0.1111111111111111,
              "#46039f"
             ],
             [
              0.2222222222222222,
              "#7201a8"
             ],
             [
              0.3333333333333333,
              "#9c179e"
             ],
             [
              0.4444444444444444,
              "#bd3786"
             ],
             [
              0.5555555555555556,
              "#d8576b"
             ],
             [
              0.6666666666666666,
              "#ed7953"
             ],
             [
              0.7777777777777778,
              "#fb9f3a"
             ],
             [
              0.8888888888888888,
              "#fdca26"
             ],
             [
              1,
              "#f0f921"
             ]
            ],
            "type": "surface"
           }
          ],
          "table": [
           {
            "cells": {
             "fill": {
              "color": "#EBF0F8"
             },
             "line": {
              "color": "white"
             }
            },
            "header": {
             "fill": {
              "color": "#C8D4E3"
             },
             "line": {
              "color": "white"
             }
            },
            "type": "table"
           }
          ]
         },
         "layout": {
          "annotationdefaults": {
           "arrowcolor": "#2a3f5f",
           "arrowhead": 0,
           "arrowwidth": 1
          },
          "coloraxis": {
           "colorbar": {
            "outlinewidth": 0,
            "ticks": ""
           }
          },
          "colorscale": {
           "diverging": [
            [
             0,
             "#8e0152"
            ],
            [
             0.1,
             "#c51b7d"
            ],
            [
             0.2,
             "#de77ae"
            ],
            [
             0.3,
             "#f1b6da"
            ],
            [
             0.4,
             "#fde0ef"
            ],
            [
             0.5,
             "#f7f7f7"
            ],
            [
             0.6,
             "#e6f5d0"
            ],
            [
             0.7,
             "#b8e186"
            ],
            [
             0.8,
             "#7fbc41"
            ],
            [
             0.9,
             "#4d9221"
            ],
            [
             1,
             "#276419"
            ]
           ],
           "sequential": [
            [
             0,
             "#0d0887"
            ],
            [
             0.1111111111111111,
             "#46039f"
            ],
            [
             0.2222222222222222,
             "#7201a8"
            ],
            [
             0.3333333333333333,
             "#9c179e"
            ],
            [
             0.4444444444444444,
             "#bd3786"
            ],
            [
             0.5555555555555556,
             "#d8576b"
            ],
            [
             0.6666666666666666,
             "#ed7953"
            ],
            [
             0.7777777777777778,
             "#fb9f3a"
            ],
            [
             0.8888888888888888,
             "#fdca26"
            ],
            [
             1,
             "#f0f921"
            ]
           ],
           "sequentialminus": [
            [
             0,
             "#0d0887"
            ],
            [
             0.1111111111111111,
             "#46039f"
            ],
            [
             0.2222222222222222,
             "#7201a8"
            ],
            [
             0.3333333333333333,
             "#9c179e"
            ],
            [
             0.4444444444444444,
             "#bd3786"
            ],
            [
             0.5555555555555556,
             "#d8576b"
            ],
            [
             0.6666666666666666,
             "#ed7953"
            ],
            [
             0.7777777777777778,
             "#fb9f3a"
            ],
            [
             0.8888888888888888,
             "#fdca26"
            ],
            [
             1,
             "#f0f921"
            ]
           ]
          },
          "colorway": [
           "#636efa",
           "#EF553B",
           "#00cc96",
           "#ab63fa",
           "#FFA15A",
           "#19d3f3",
           "#FF6692",
           "#B6E880",
           "#FF97FF",
           "#FECB52"
          ],
          "font": {
           "color": "#2a3f5f"
          },
          "geo": {
           "bgcolor": "white",
           "lakecolor": "white",
           "landcolor": "#E5ECF6",
           "showlakes": true,
           "showland": true,
           "subunitcolor": "white"
          },
          "hoverlabel": {
           "align": "left"
          },
          "hovermode": "closest",
          "mapbox": {
           "style": "light"
          },
          "paper_bgcolor": "white",
          "plot_bgcolor": "#E5ECF6",
          "polar": {
           "angularaxis": {
            "gridcolor": "white",
            "linecolor": "white",
            "ticks": ""
           },
           "bgcolor": "#E5ECF6",
           "radialaxis": {
            "gridcolor": "white",
            "linecolor": "white",
            "ticks": ""
           }
          },
          "scene": {
           "xaxis": {
            "backgroundcolor": "#E5ECF6",
            "gridcolor": "white",
            "gridwidth": 2,
            "linecolor": "white",
            "showbackground": true,
            "ticks": "",
            "zerolinecolor": "white"
           },
           "yaxis": {
            "backgroundcolor": "#E5ECF6",
            "gridcolor": "white",
            "gridwidth": 2,
            "linecolor": "white",
            "showbackground": true,
            "ticks": "",
            "zerolinecolor": "white"
           },
           "zaxis": {
            "backgroundcolor": "#E5ECF6",
            "gridcolor": "white",
            "gridwidth": 2,
            "linecolor": "white",
            "showbackground": true,
            "ticks": "",
            "zerolinecolor": "white"
           }
          },
          "shapedefaults": {
           "line": {
            "color": "#2a3f5f"
           }
          },
          "ternary": {
           "aaxis": {
            "gridcolor": "white",
            "linecolor": "white",
            "ticks": ""
           },
           "baxis": {
            "gridcolor": "white",
            "linecolor": "white",
            "ticks": ""
           },
           "bgcolor": "#E5ECF6",
           "caxis": {
            "gridcolor": "white",
            "linecolor": "white",
            "ticks": ""
           }
          },
          "title": {
           "x": 0.05
          },
          "xaxis": {
           "automargin": true,
           "gridcolor": "white",
           "linecolor": "white",
           "ticks": "",
           "title": {
            "standoff": 15
           },
           "zerolinecolor": "white",
           "zerolinewidth": 2
          },
          "yaxis": {
           "automargin": true,
           "gridcolor": "white",
           "linecolor": "white",
           "ticks": "",
           "title": {
            "standoff": 15
           },
           "zerolinecolor": "white",
           "zerolinewidth": 2
          }
         }
        },
        "title": {
         "text": "Importancia relativa de la caracteristica (Cuales caracteristicas son importantes para hacer predicciones ?)"
        },
        "width": 1000,
        "xaxis": {
         "range": [
          0,
          0.15
         ]
        }
       }
      },
      "text/html": [
       "<div>                            <div id=\"424f6d36-a487-4de4-af5f-87b60efb8704\" class=\"plotly-graph-div\" style=\"height:525px; width:1000px;\"></div>            <script type=\"text/javascript\">                require([\"plotly\"], function(Plotly) {                    window.PLOTLYENV=window.PLOTLYENV || {};                                    if (document.getElementById(\"424f6d36-a487-4de4-af5f-87b60efb8704\")) {                    Plotly.newPlot(                        \"424f6d36-a487-4de4-af5f-87b60efb8704\",                        [{\"marker\": {\"color\": [\"red\", \"red\", \"red\", \"red\", \"red\", \"red\", \"red\", \"red\", \"red\", \"blue\", \"blue\", \"blue\", \"blue\", \"blue\", \"blue\"], \"opacity\": 0.4}, \"name\": \"importancia de la caracteristica (relativa)\", \"orientation\": \"h\", \"type\": \"bar\", \"x\": [0.008971374547585469, 0.00924315639944397, 0.011177582580262127, 0.02956723022521437, 0.032200206219958054, 0.036965732987165593, 0.06476222944952033, 0.07126344233464604, 0.0726669003829631, 0.08450457428764194, 0.09611773393329022, 0.10468238658515536, 0.11579872495533207, 0.11580954201506767, 0.11850286503459433], \"y\": [\"Is_Weekend  \", \"Main_Category  \", \"Main_Category_Count  \", \"Category_Count  \", \"Category  \", \"Mean_Category_Goal  \", \"Launched_Day  \", \"Num_Words  \", \"Launched_Month  \", \"Syllable_Count  \", \"Duration  \", \"Diff_Mean_Category_Goal  \", \"Launched_Week  \", \"Num_Chars  \", \"Goal  \"]}],                        {\"bargap\": 0.25, \"barmode\": \"group\", \"margin\": {\"l\": 400}, \"template\": {\"data\": {\"bar\": [{\"error_x\": {\"color\": \"#2a3f5f\"}, \"error_y\": {\"color\": \"#2a3f5f\"}, \"marker\": {\"line\": {\"color\": \"#E5ECF6\", \"width\": 0.5}}, \"type\": \"bar\"}], \"barpolar\": [{\"marker\": {\"line\": {\"color\": \"#E5ECF6\", \"width\": 0.5}}, \"type\": \"barpolar\"}], \"carpet\": [{\"aaxis\": {\"endlinecolor\": \"#2a3f5f\", \"gridcolor\": \"white\", \"linecolor\": \"white\", \"minorgridcolor\": \"white\", \"startlinecolor\": \"#2a3f5f\"}, \"baxis\": {\"endlinecolor\": \"#2a3f5f\", \"gridcolor\": \"white\", \"linecolor\": \"white\", \"minorgridcolor\": \"white\", \"startlinecolor\": \"#2a3f5f\"}, \"type\": \"carpet\"}], \"choropleth\": [{\"colorbar\": {\"outlinewidth\": 0, \"ticks\": \"\"}, \"type\": \"choropleth\"}], \"contour\": [{\"colorbar\": {\"outlinewidth\": 0, \"ticks\": \"\"}, \"colorscale\": [[0.0, \"#0d0887\"], [0.1111111111111111, \"#46039f\"], [0.2222222222222222, \"#7201a8\"], [0.3333333333333333, \"#9c179e\"], [0.4444444444444444, \"#bd3786\"], [0.5555555555555556, \"#d8576b\"], [0.6666666666666666, \"#ed7953\"], [0.7777777777777778, \"#fb9f3a\"], [0.8888888888888888, \"#fdca26\"], [1.0, \"#f0f921\"]], \"type\": \"contour\"}], \"contourcarpet\": [{\"colorbar\": {\"outlinewidth\": 0, \"ticks\": \"\"}, \"type\": \"contourcarpet\"}], \"heatmap\": [{\"colorbar\": {\"outlinewidth\": 0, \"ticks\": \"\"}, \"colorscale\": [[0.0, \"#0d0887\"], [0.1111111111111111, \"#46039f\"], [0.2222222222222222, \"#7201a8\"], [0.3333333333333333, \"#9c179e\"], [0.4444444444444444, \"#bd3786\"], [0.5555555555555556, \"#d8576b\"], [0.6666666666666666, \"#ed7953\"], [0.7777777777777778, \"#fb9f3a\"], [0.8888888888888888, \"#fdca26\"], [1.0, \"#f0f921\"]], \"type\": \"heatmap\"}], \"heatmapgl\": [{\"colorbar\": {\"outlinewidth\": 0, \"ticks\": \"\"}, \"colorscale\": [[0.0, \"#0d0887\"], [0.1111111111111111, \"#46039f\"], [0.2222222222222222, \"#7201a8\"], [0.3333333333333333, \"#9c179e\"], [0.4444444444444444, \"#bd3786\"], [0.5555555555555556, \"#d8576b\"], [0.6666666666666666, \"#ed7953\"], [0.7777777777777778, \"#fb9f3a\"], [0.8888888888888888, \"#fdca26\"], [1.0, \"#f0f921\"]], \"type\": \"heatmapgl\"}], \"histogram\": [{\"marker\": {\"colorbar\": {\"outlinewidth\": 0, \"ticks\": \"\"}}, \"type\": \"histogram\"}], \"histogram2d\": [{\"colorbar\": {\"outlinewidth\": 0, \"ticks\": \"\"}, \"colorscale\": [[0.0, \"#0d0887\"], [0.1111111111111111, \"#46039f\"], [0.2222222222222222, \"#7201a8\"], [0.3333333333333333, \"#9c179e\"], [0.4444444444444444, \"#bd3786\"], [0.5555555555555556, \"#d8576b\"], [0.6666666666666666, \"#ed7953\"], [0.7777777777777778, \"#fb9f3a\"], [0.8888888888888888, \"#fdca26\"], [1.0, \"#f0f921\"]], \"type\": \"histogram2d\"}], \"histogram2dcontour\": [{\"colorbar\": {\"outlinewidth\": 0, \"ticks\": \"\"}, \"colorscale\": [[0.0, \"#0d0887\"], [0.1111111111111111, \"#46039f\"], [0.2222222222222222, \"#7201a8\"], [0.3333333333333333, \"#9c179e\"], [0.4444444444444444, \"#bd3786\"], [0.5555555555555556, \"#d8576b\"], [0.6666666666666666, \"#ed7953\"], [0.7777777777777778, \"#fb9f3a\"], [0.8888888888888888, \"#fdca26\"], [1.0, \"#f0f921\"]], \"type\": \"histogram2dcontour\"}], \"mesh3d\": [{\"colorbar\": {\"outlinewidth\": 0, \"ticks\": \"\"}, \"type\": \"mesh3d\"}], \"parcoords\": [{\"line\": {\"colorbar\": {\"outlinewidth\": 0, \"ticks\": \"\"}}, \"type\": \"parcoords\"}], \"pie\": [{\"automargin\": true, \"type\": \"pie\"}], \"scatter\": [{\"marker\": {\"colorbar\": {\"outlinewidth\": 0, \"ticks\": \"\"}}, \"type\": \"scatter\"}], \"scatter3d\": [{\"line\": {\"colorbar\": {\"outlinewidth\": 0, \"ticks\": \"\"}}, \"marker\": {\"colorbar\": {\"outlinewidth\": 0, \"ticks\": \"\"}}, \"type\": \"scatter3d\"}], \"scattercarpet\": [{\"marker\": {\"colorbar\": {\"outlinewidth\": 0, \"ticks\": \"\"}}, \"type\": \"scattercarpet\"}], \"scattergeo\": [{\"marker\": {\"colorbar\": {\"outlinewidth\": 0, \"ticks\": \"\"}}, \"type\": \"scattergeo\"}], \"scattergl\": [{\"marker\": {\"colorbar\": {\"outlinewidth\": 0, \"ticks\": \"\"}}, \"type\": \"scattergl\"}], \"scattermapbox\": [{\"marker\": {\"colorbar\": {\"outlinewidth\": 0, \"ticks\": \"\"}}, \"type\": \"scattermapbox\"}], \"scatterpolar\": [{\"marker\": {\"colorbar\": {\"outlinewidth\": 0, \"ticks\": \"\"}}, \"type\": \"scatterpolar\"}], \"scatterpolargl\": [{\"marker\": {\"colorbar\": {\"outlinewidth\": 0, \"ticks\": \"\"}}, \"type\": \"scatterpolargl\"}], \"scatterternary\": [{\"marker\": {\"colorbar\": {\"outlinewidth\": 0, \"ticks\": \"\"}}, \"type\": \"scatterternary\"}], \"surface\": [{\"colorbar\": {\"outlinewidth\": 0, \"ticks\": \"\"}, \"colorscale\": [[0.0, \"#0d0887\"], [0.1111111111111111, \"#46039f\"], [0.2222222222222222, \"#7201a8\"], [0.3333333333333333, \"#9c179e\"], [0.4444444444444444, \"#bd3786\"], [0.5555555555555556, \"#d8576b\"], [0.6666666666666666, \"#ed7953\"], [0.7777777777777778, \"#fb9f3a\"], [0.8888888888888888, \"#fdca26\"], [1.0, \"#f0f921\"]], \"type\": \"surface\"}], \"table\": [{\"cells\": {\"fill\": {\"color\": \"#EBF0F8\"}, \"line\": {\"color\": \"white\"}}, \"header\": {\"fill\": {\"color\": \"#C8D4E3\"}, \"line\": {\"color\": \"white\"}}, \"type\": \"table\"}]}, \"layout\": {\"annotationdefaults\": {\"arrowcolor\": \"#2a3f5f\", \"arrowhead\": 0, \"arrowwidth\": 1}, \"coloraxis\": {\"colorbar\": {\"outlinewidth\": 0, \"ticks\": \"\"}}, \"colorscale\": {\"diverging\": [[0, \"#8e0152\"], [0.1, \"#c51b7d\"], [0.2, \"#de77ae\"], [0.3, \"#f1b6da\"], [0.4, \"#fde0ef\"], [0.5, \"#f7f7f7\"], [0.6, \"#e6f5d0\"], [0.7, \"#b8e186\"], [0.8, \"#7fbc41\"], [0.9, \"#4d9221\"], [1, \"#276419\"]], \"sequential\": [[0.0, \"#0d0887\"], [0.1111111111111111, \"#46039f\"], [0.2222222222222222, \"#7201a8\"], [0.3333333333333333, \"#9c179e\"], [0.4444444444444444, \"#bd3786\"], [0.5555555555555556, \"#d8576b\"], [0.6666666666666666, \"#ed7953\"], [0.7777777777777778, \"#fb9f3a\"], [0.8888888888888888, \"#fdca26\"], [1.0, \"#f0f921\"]], \"sequentialminus\": [[0.0, \"#0d0887\"], [0.1111111111111111, \"#46039f\"], [0.2222222222222222, \"#7201a8\"], [0.3333333333333333, \"#9c179e\"], [0.4444444444444444, \"#bd3786\"], [0.5555555555555556, \"#d8576b\"], [0.6666666666666666, \"#ed7953\"], [0.7777777777777778, \"#fb9f3a\"], [0.8888888888888888, \"#fdca26\"], [1.0, \"#f0f921\"]]}, \"colorway\": [\"#636efa\", \"#EF553B\", \"#00cc96\", \"#ab63fa\", \"#FFA15A\", \"#19d3f3\", \"#FF6692\", \"#B6E880\", \"#FF97FF\", \"#FECB52\"], \"font\": {\"color\": \"#2a3f5f\"}, \"geo\": {\"bgcolor\": \"white\", \"lakecolor\": \"white\", \"landcolor\": \"#E5ECF6\", \"showlakes\": true, \"showland\": true, \"subunitcolor\": \"white\"}, \"hoverlabel\": {\"align\": \"left\"}, \"hovermode\": \"closest\", \"mapbox\": {\"style\": \"light\"}, \"paper_bgcolor\": \"white\", \"plot_bgcolor\": \"#E5ECF6\", \"polar\": {\"angularaxis\": {\"gridcolor\": \"white\", \"linecolor\": \"white\", \"ticks\": \"\"}, \"bgcolor\": \"#E5ECF6\", \"radialaxis\": {\"gridcolor\": \"white\", \"linecolor\": \"white\", \"ticks\": \"\"}}, \"scene\": {\"xaxis\": {\"backgroundcolor\": \"#E5ECF6\", \"gridcolor\": \"white\", \"gridwidth\": 2, \"linecolor\": \"white\", \"showbackground\": true, \"ticks\": \"\", \"zerolinecolor\": \"white\"}, \"yaxis\": {\"backgroundcolor\": \"#E5ECF6\", \"gridcolor\": \"white\", \"gridwidth\": 2, \"linecolor\": \"white\", \"showbackground\": true, \"ticks\": \"\", \"zerolinecolor\": \"white\"}, \"zaxis\": {\"backgroundcolor\": \"#E5ECF6\", \"gridcolor\": \"white\", \"gridwidth\": 2, \"linecolor\": \"white\", \"showbackground\": true, \"ticks\": \"\", \"zerolinecolor\": \"white\"}}, \"shapedefaults\": {\"line\": {\"color\": \"#2a3f5f\"}}, \"ternary\": {\"aaxis\": {\"gridcolor\": \"white\", \"linecolor\": \"white\", \"ticks\": \"\"}, \"baxis\": {\"gridcolor\": \"white\", \"linecolor\": \"white\", \"ticks\": \"\"}, \"bgcolor\": \"#E5ECF6\", \"caxis\": {\"gridcolor\": \"white\", \"linecolor\": \"white\", \"ticks\": \"\"}}, \"title\": {\"x\": 0.05}, \"xaxis\": {\"automargin\": true, \"gridcolor\": \"white\", \"linecolor\": \"white\", \"ticks\": \"\", \"title\": {\"standoff\": 15}, \"zerolinecolor\": \"white\", \"zerolinewidth\": 2}, \"yaxis\": {\"automargin\": true, \"gridcolor\": \"white\", \"linecolor\": \"white\", \"ticks\": \"\", \"title\": {\"standoff\": 15}, \"zerolinecolor\": \"white\", \"zerolinewidth\": 2}}}, \"title\": {\"text\": \"Importancia relativa de la caracteristica (Cuales caracteristicas son importantes para hacer predicciones ?)\"}, \"width\": 1000, \"xaxis\": {\"range\": [0.0, 0.15]}},                        {\"responsive\": true}                    ).then(function(){\n",
       "                            \n",
       "var gd = document.getElementById('424f6d36-a487-4de4-af5f-87b60efb8704');\n",
       "var x = new MutationObserver(function (mutations, observer) {{\n",
       "        var display = window.getComputedStyle(gd).display;\n",
       "        if (!display || display === 'none') {{\n",
       "            console.log([gd, 'removed!']);\n",
       "            Plotly.purge(gd);\n",
       "            observer.disconnect();\n",
       "        }}\n",
       "}});\n",
       "\n",
       "// Listen for the removal of the full notebook cells\n",
       "var notebookContainer = gd.closest('#notebook-container');\n",
       "if (notebookContainer) {{\n",
       "    x.observe(notebookContainer, {childList: true});\n",
       "}}\n",
       "\n",
       "// Listen for the clearing of the current output cell\n",
       "var outputEl = gd.closest('.output');\n",
       "if (outputEl) {{\n",
       "    x.observe(outputEl, {childList: true});\n",
       "}}\n",
       "\n",
       "                        })                };                });            </script>        </div>"
      ]
     },
     "metadata": {},
     "output_type": "display_data"
    },
    {
     "data": {
      "text/html": [
       "<div> Mas Importantes (Relativa) : <span><font color='green'>Goal</font> &nbsp;|&nbsp; </span><span><font color='green'>NumChars</font> &nbsp;|&nbsp; </span><span><font color='green'>LaunchedWeek</font> &nbsp;|&nbsp; </span><span><font color='green'>DiffMeanCategoryGoal</font> &nbsp;|&nbsp; </span><span><font color='green'>Duration</font> &nbsp;|&nbsp; </span><span><font color='green'>SyllableCount</font> &nbsp;|&nbsp; </span><span><font color='green'>LaunchedMonth</font> &nbsp;|&nbsp; </span><span><font color='green'>NumWords</font> &nbsp;|&nbsp; </span><span><font color='green'>LaunchedDay</font> &nbsp;|&nbsp; </span><span><font color='green'>MeanCategoryGoal</font> &nbsp;|&nbsp; </span><br>Menos importantes (Relativa) : <span><font color='red'>Music</font> &nbsp;|&nbsp; </span><span><font color='red'>Theater</font> &nbsp;|&nbsp; </span><span><font color='red'>Fashion</font> &nbsp;|&nbsp; </span><span><font color='red'>Comics</font> &nbsp;|&nbsp; </span><span><font color='red'>Games</font> &nbsp;|&nbsp; </span><span><font color='red'>Publishing</font> &nbsp;|&nbsp; </span><span><font color='red'>Technology</font> &nbsp;|&nbsp; </span><span><font color='red'>Film & Video</font> &nbsp;|&nbsp; </span><span><font color='red'>Food</font> &nbsp;|&nbsp; </span><span><font color='red'>Crafts</font> &nbsp;|&nbsp; </span><span><font color='red'>Design</font> &nbsp;|&nbsp; </span><span><font color='red'>Dance</font> &nbsp;|&nbsp; </span><span><font color='red'>Art</font> &nbsp;|&nbsp; </span><span><font color='red'>Photography</font> &nbsp;|&nbsp; </span><span><font color='red'>Journalism</font> &nbsp;|&nbsp; </span></div>"
      ],
      "text/plain": [
       "<IPython.core.display.HTML object>"
      ]
     },
     "metadata": {},
     "output_type": "display_data"
    }
   ],
   "source": [
    "feature_importances = pd.DataFrame(model1.feature_importances_, index = X_train.columns, columns=['importance'])\n",
    "feature_importances = feature_importances.sort_values('importance', ascending=False)\n",
    "\n",
    "colors = [\"red\"] * 9 + [\"blue\"]*6\n",
    "trace1 = go.Bar(y = [x.title()+\"  \" for x in feature_importances.index[:15][::-1]], \n",
    "                x = feature_importances.importance[:15][::-1], \n",
    "                name=\"importancia de la caracteristica (relativa)\",\n",
    "                marker=dict(color=colors, opacity=0.4), orientation = \"h\")\n",
    "\n",
    "data = [trace1]\n",
    "\n",
    "layout = go.Layout(\n",
    "    margin=dict(l=400), width = 1000,\n",
    "    xaxis=dict(range=(0.0,0.15)),\n",
    "    title='Importancia relativa de la caracteristica (Cuales caracteristicas son importantes para hacer predicciones ?)',\n",
    "    barmode='group',\n",
    "    bargap=0.25\n",
    ")\n",
    "fig = go.Figure(data=data, layout=layout)\n",
    "iplot(fig)\n",
    "\n",
    "from IPython.display import display\n",
    "from IPython.core.display import HTML\n",
    "\n",
    "tag = \"<div> Mas Importantes (Relativa) : \"\n",
    "for feat in feature_importances.index[:10]:\n",
    "    tag += \"<span><font color='green'>\" +feat.title().replace(\"_\",\"\")+ \"</font> &nbsp;|&nbsp; </span>\" \n",
    "tag += \"<br>Menos importantes (Relativa) : \"\n",
    "for feat in feature_importances.index[-15:]:\n",
    "    tag += \"<span><font color='red'>\" +feat.title().replace(\"_\",\"\")+ \"</font> &nbsp;|&nbsp; </span>\" \n",
    "tag += \"</div>\"\n",
    "display(HTML(tag))"
   ]
  },
  {
   "cell_type": "markdown",
   "metadata": {},
   "source": [
    "Inferencias\n",
    "\n",
    "- A partir del gráfico, queda claro que las características que son importantes para predecir el éxito del proyecto son: objetivo del proyecto, duración del nombre del proyecto, semana de lanzamiento, duración y número de sílabas presentes en el nombre. Si bien las características menos importantes están relacionadas principalmente con las categorías de proyectos\n",
    "- ¿Qué significa esto para el propietario del proyecto? Para alguien que esté dispuesto a recaudar fondos, debería considerar evaluar el objetivo y la duración ideales del proyecto. Un objetivo de proyecto alto o medio-alto casi puede conducir al caso de fracaso. Además, la cantidad de caracteres utilizados en el título del proyecto también afectará si el proyecto tiene éxito o falla.\n",
    "- ¿Qué significa esto para la empresa? La empresa puede identificar los proyectos de gran importancia en función de sus meta características, como la duración del proyecto.\n",
    "\n",
    "Al aplicar este enfoque, obtuvimos principalmente los factores para mirar a un nivel alto, pero aún tenemos que responder, cuáles son los valores óptimos de estas características. Antes de pasar a esas técnicas, pasaremos a explorar un poco más sobre la importancia relativa de las características utilizando una perspectiva de teoría de grafos. "
   ]
  },
  {
   "cell_type": "markdown",
   "metadata": {},
   "source": [
    "## Adicional (testeando casos de estudio alternativos)\n",
    "<b>Una perspectiva de la teoría de grafos: importancia relativa de las características</b>\n",
    "La idea de la importancia relativa de las características es muy simple (es más importante las veces que una característica aparece en las divisiones del árbol de decisión), pero muchas veces la gente olvida un concepto importante subyacente de que estas importancias son \"relativas\". Esto significa que en comparación con otras características, ¿cuál es la importancia de una característica en particular?\n",
    "\n",
    "Pero la pregunta es: incluso si es relativo, ¿y si se eliminan algunas características de un conjunto de características, seguimos obteniendo la misma importancia de característica?. De hecho, este problema se puede formular como un problema de gráfico. Considere una estructura basada en gráficos, en la que cada característica (del conjunto de datos) es un nodo, y los bordes se definen entre dos características (nodos) si las dos características aparecen en las 10 principales características importantes del árbol de decisión individual.\n",
    "\n",
    "Pero, ¿cuál es el beneficio? Bueno, algunos de los problemas cuando se ven como problemas de red o gráficos pueden ayudar a identificar las soluciones rápida y fácilmente. Por ejemplo, utilizando las propiedades del gráfico se puede identificar cuál es el nodo más importante de la red. Un nodo que tiene un grado más alto de centralidad (conexiones) indica que el nodo está altamente conectado a la red. Lo que significa que si se elimina un nodo de la red, la gran mayoría de la red se verá interrumpida.\n",
    "\n",
    "Esta idea se puede aplicar a la importancia relativa de las características, una característica que es muy importante, que aparece en la mayoría de las 10 características principales del árbol de decisiones y se puede identificar claramente en el gráfico de red de importancia de características. Si esta característica se elimina del conjunto de datos, las predicciones se verán afectadas. Tracemos esta red."
   ]
  },
  {
   "cell_type": "code",
   "execution_count": 12,
   "metadata": {},
   "outputs": [
    {
     "data": {
      "image/png": "[encoded data removed]",
      "text/plain": [
       "<Figure size 1296x432 with 2 Axes>"
      ]
     },
     "metadata": {},
     "output_type": "display_data"
    }
   ],
   "source": [
    "import itertools \n",
    "import networkx as nx \n",
    "G = nx.Graph()\n",
    "for tree_in_forest in model1.estimators_:\n",
    "    doc = {}\n",
    "    for i,key in enumerate(X_test1.columns):\n",
    "        doc[key] = tree_in_forest.feature_importances_[i]\n",
    "    sorted_doc = sorted(doc.items(), key=lambda kv: kv[1], reverse = True)[:10]\n",
    "    sorted_doc = [c for c in sorted_doc if c[0] != \"diff_mean_category_goal\"]\n",
    "    for i, j in itertools.product(sorted_doc, sorted_doc):\n",
    "        if i == j:\n",
    "            continue\n",
    "        if i[1] >= 0.08 or j[1] >= 0.08:\n",
    "            if np.absolute(i[1] - j[1]) <= 0.05:\n",
    "                G.add_edge(i[0], j[0])\n",
    "\n",
    "k = dict(G.degree()).keys()\n",
    "v = dict(G.degree()).values()\n",
    "\n",
    "plt.figure(figsize=(18, 6))\n",
    "ax = plt.subplot(111)\n",
    "plt.bar(k, v, width=0.80, color='#c4c4c4')\n",
    "plt.title(\"Grado de centralidad de las caracteristicas\")\n",
    "plt.ylabel(\"Grado de centralidad\", fontsize=16)\n",
    "plt.xticks(rotation=15, fontsize=16)\n",
    "plt.yticks(color=\"white\")\n",
    "\n",
    "ax.spines['right'].set_visible(False)\n",
    "ax.spines['bottom'].set_visible(False)\n",
    "ax.spines['top'].set_visible(False)\n",
    "ax.spines['left'].set_visible(False)\n",
    "ax.xaxis.set_ticks_position('bottom')\n",
    "\n",
    "def simpleaxis(ax):\n",
    "    ax.spines['top'].set_visible(False)\n",
    "    ax.spines['right'].set_visible(False)\n",
    "    ax.get_xaxis().tick_bottom()\n",
    "    ax.get_yaxis().tick_left()\n",
    "\n",
    "\n",
    "labels = {}    \n",
    "for node in G.nodes():\n",
    "    labels[node] = node\n",
    "        \n",
    "plt.axes([0.5, 0.4, 0.5, 0.5])\n",
    "pos = nx.spring_layout(G)\n",
    "plt.axis('off')\n",
    "nx.draw_networkx_nodes(G, pos, node_color = \"red\", node_size=20)\n",
    "nx.draw_networkx_labels(G, pos, labels, font_size=16, font_color='black')\n",
    "nx.draw_networkx_edges(G, pos, alpha=0.4)\n",
    "plt.show()"
   ]
  },
  {
   "cell_type": "markdown",
   "metadata": {},
   "source": [
    "- A partir del gráfico anterior, podemos identificar que los nodos de centralidad de grado máximo son: duration, syllable count, goal etc. Desde la perspectiva de la red, significa que si eliminamos estos nodos de la red (nodos de centralidad de alto grado), esto conducirá a la interrupción de la red. Esto es similar a lo que obtuvimos en la gráfica de importancia relativa de características. La conclusión clave de este gráfico es que uno no puede permitirse ignorar estas características mientras optimiza cualquier proyecto de crowdfunding."
   ]
  },
  {
   "cell_type": "markdown",
   "metadata": {},
   "source": [
    "## 2. ¿Qué características tienen el mayor impacto en el éxito del proyecto? \n",
    "Ya identificamos principalmente cuáles son las características a un nivel muy alto que son relativamente importantes para el resultado del modelo. En esta sección, profundizaremos un poco más y entenderemos qué características tienen el mayor impacto en las predicciones del modelo (en sentido absoluto). Una de las formas de identificar tal comportamiento es utilizar la importancia de la permutación <b>(permutation importance)</b>.\n",
    "\n",
    "La idea de la importancia de la permutación es muy sencilla. Después de entrenar un modelo, se obtienen los resultados del modelo. Las características más importantes para el modelo son aquellas si los valores de esas características se mezclan aleatoriamente, entonces conducen a mayores caídas en la precisión de los resultados del modelo. Veamos la importancia de la permutación de las características de nuestro modelo."
   ]
  },
  {
   "cell_type": "code",
   "execution_count": 13,
   "metadata": {},
   "outputs": [
    {
     "data": {
      "application/vnd.plotly.v1+json": {
       "config": {
        "linkText": "Export to plot.ly",
        "plotlyServerURL": "https://plot.ly",
        "showLink": false
       },
       "data": [
        {
         "error_x": {
          "array": [
           0.0024287523017909236,
           0.0006420623496603445,
           0.0010031202698606476,
           0.0009937363379704954,
           0.0005441196459942195,
           0.00015607650791530874,
           0.0018893540694228498,
           0.0001676530632094257,
           0.00011452884563126674,
           0.00041745276085052496,
           0.00082701292232056,
           0.0002967664436741122,
           0.0007046748964322716,
           0.0003121530158306066,
           0.0005176472153439691,
           0.0007307827601048954,
           0.00022493018758337673,
           0.0011799409407650277,
           0.00202575967037332,
           0.0034268548589548612,
           0.0017190230893295371,
           0.0014146580971277933,
           0.001486985956717638,
           0.0030341653569749,
           0.0013391272025850942,
           0.002440297695499809,
           0.002267142232891489,
           0.00446242781182621,
           0.0039822455331502546,
           0.0021837843871119517,
           0.0044352606517734745
          ],
          "color": "#9fa3a3",
          "type": "data",
          "visible": true
         },
         "marker": {
          "color": [
           "red",
           "red",
           "red",
           "red",
           "red",
           "red",
           "red",
           "red",
           "blue",
           "blue",
           "blue",
           "blue",
           "blue",
           "blue",
           "blue",
           "blue",
           "blue",
           "blue",
           "blue",
           "blue",
           "blue",
           "blue",
           "blue",
           "blue",
           "blue",
           "blue",
           "blue",
           "blue",
           "blue",
           "blue",
           "blue"
          ],
          "opacity": 0.5
         },
         "name": "gastos",
         "orientation": "h",
         "type": "bar",
         "x": [
          -0.0020814202632385204,
          -0.0010713192531375038,
          -0.0010407101316192823,
          -0.0006427915518825156,
          -0.0002142638506275274,
          -0.0002142638506275274,
          -4.4408920985006264e-17,
          -2.2204460492503132e-17,
          3.060912151817696e-05,
          0.00024487297214565996,
          0.0003060912151820583,
          0.000581573308845984,
          0.00153045607591058,
          0.0015610651974287792,
          0.0015916743189469784,
          0.0018365472910926827,
          0.0018671564126109042,
          0.0025405570860115743,
          0.0036730945821854323,
          0.0044077134986225674,
          0.004713804713804693,
          0.005264768901132455,
          0.007040097949188829,
          0.007438016528925573,
          0.00798898071625338,
          0.008203244566880864,
          0.009397000306091164,
          0.012733394551576339,
          0.013376186103458787,
          0.019130700948882695,
          0.032078359351086605
         ],
         "y": [
          "launched_week",
          "Art",
          "is_weekend",
          "Film & Video",
          "Games",
          "Dance",
          "launched_month",
          "Crafts",
          "Journalism",
          "Food",
          "Technology",
          "Photography",
          "Fashion",
          "Theater",
          "Comics",
          "Publishing",
          "Design",
          "mean_main_category_goal",
          "num_chars",
          "launched_day",
          "syllable_count",
          "Music",
          "main_category",
          "category",
          "main_category_count",
          "category_count",
          "diff_mean_category_goal",
          "mean_category_goal",
          "num_words",
          "duration",
          "goal"
         ]
        }
       ],
       "layout": {
        "height": 800,
        "margin": {
         "l": 300
        },
        "template": {
         "data": {
          "bar": [
           {
            "error_x": {
             "color": "#2a3f5f"
            },
            "error_y": {
             "color": "#2a3f5f"
            },
            "marker": {
             "line": {
              "color": "#E5ECF6",
              "width": 0.5
             }
            },
            "type": "bar"
           }
          ],
          "barpolar": [
           {
            "marker": {
             "line": {
              "color": "#E5ECF6",
              "width": 0.5
             }
            },
            "type": "barpolar"
           }
          ],
          "carpet": [
           {
            "aaxis": {
             "endlinecolor": "#2a3f5f",
             "gridcolor": "white",
             "linecolor": "white",
             "minorgridcolor": "white",
             "startlinecolor": "#2a3f5f"
            },
            "baxis": {
             "endlinecolor": "#2a3f5f",
             "gridcolor": "white",
             "linecolor": "white",
             "minorgridcolor": "white",
             "startlinecolor": "#2a3f5f"
            },
            "type": "carpet"
           }
          ],
          "choropleth": [
           {
            "colorbar": {
             "outlinewidth": 0,
             "ticks": ""
            },
            "type": "choropleth"
           }
          ],
          "contour": [
           {
            "colorbar": {
             "outlinewidth": 0,
             "ticks": ""
            },
            "colorscale": [
             [
              0,
              "#0d0887"
             ],
             [
              0.1111111111111111,
              "#46039f"
             ],
             [
              0.2222222222222222,
              "#7201a8"
             ],
             [
              0.3333333333333333,
              "#9c179e"
             ],
             [
              0.4444444444444444,
              "#bd3786"
             ],
             [
              0.5555555555555556,
              "#d8576b"
             ],
             [
              0.6666666666666666,
              "#ed7953"
             ],
             [
              0.7777777777777778,
              "#fb9f3a"
             ],
             [
              0.8888888888888888,
              "#fdca26"
             ],
             [
              1,
              "#f0f921"
             ]
            ],
            "type": "contour"
           }
          ],
          "contourcarpet": [
           {
            "colorbar": {
             "outlinewidth": 0,
             "ticks": ""
            },
            "type": "contourcarpet"
           }
          ],
          "heatmap": [
           {
            "colorbar": {
             "outlinewidth": 0,
             "ticks": ""
            },
            "colorscale": [
             [
              0,
              "#0d0887"
             ],
             [
              0.1111111111111111,
              "#46039f"
             ],
             [
              0.2222222222222222,
              "#7201a8"
             ],
             [
              0.3333333333333333,
              "#9c179e"
             ],
             [
              0.4444444444444444,
              "#bd3786"
             ],
             [
              0.5555555555555556,
              "#d8576b"
             ],
             [
              0.6666666666666666,
              "#ed7953"
             ],
             [
              0.7777777777777778,
              "#fb9f3a"
             ],
             [
              0.8888888888888888,
              "#fdca26"
             ],
             [
              1,
              "#f0f921"
             ]
            ],
            "type": "heatmap"
           }
          ],
          "heatmapgl": [
           {
            "colorbar": {
             "outlinewidth": 0,
             "ticks": ""
            },
            "colorscale": [
             [
              0,
              "#0d0887"
             ],
             [
              0.1111111111111111,
              "#46039f"
             ],
             [
              0.2222222222222222,
              "#7201a8"
             ],
             [
              0.3333333333333333,
              "#9c179e"
             ],
             [
              0.4444444444444444,
              "#bd3786"
             ],
             [
              0.5555555555555556,
              "#d8576b"
             ],
             [
              0.6666666666666666,
              "#ed7953"
             ],
             [
              0.7777777777777778,
              "#fb9f3a"
             ],
             [
              0.8888888888888888,
              "#fdca26"
             ],
             [
              1,
              "#f0f921"
             ]
            ],
            "type": "heatmapgl"
           }
          ],
          "histogram": [
           {
            "marker": {
             "colorbar": {
              "outlinewidth": 0,
              "ticks": ""
             }
            },
            "type": "histogram"
           }
          ],
          "histogram2d": [
           {
            "colorbar": {
             "outlinewidth": 0,
             "ticks": ""
            },
            "colorscale": [
             [
              0,
              "#0d0887"
             ],
             [
              0.1111111111111111,
              "#46039f"
             ],
             [
              0.2222222222222222,
              "#7201a8"
             ],
             [
              0.3333333333333333,
              "#9c179e"
             ],
             [
              0.4444444444444444,
              "#bd3786"
             ],
             [
              0.5555555555555556,
              "#d8576b"
             ],
             [
              0.6666666666666666,
              "#ed7953"
             ],
             [
              0.7777777777777778,
              "#fb9f3a"
             ],
             [
              0.8888888888888888,
              "#fdca26"
             ],
             [
              1,
              "#f0f921"
             ]
            ],
            "type": "histogram2d"
           }
          ],
          "histogram2dcontour": [
           {
            "colorbar": {
             "outlinewidth": 0,
             "ticks": ""
            },
            "colorscale": [
             [
              0,
              "#0d0887"
             ],
             [
              0.1111111111111111,
              "#46039f"
             ],
             [
              0.2222222222222222,
              "#7201a8"
             ],
             [
              0.3333333333333333,
              "#9c179e"
             ],
             [
              0.4444444444444444,
              "#bd3786"
             ],
             [
              0.5555555555555556,
              "#d8576b"
             ],
             [
              0.6666666666666666,
              "#ed7953"
             ],
             [
              0.7777777777777778,
              "#fb9f3a"
             ],
             [
              0.8888888888888888,
              "#fdca26"
             ],
             [
              1,
              "#f0f921"
             ]
            ],
            "type": "histogram2dcontour"
           }
          ],
          "mesh3d": [
           {
            "colorbar": {
             "outlinewidth": 0,
             "ticks": ""
            },
            "type": "mesh3d"
           }
          ],
          "parcoords": [
           {
            "line": {
             "colorbar": {
              "outlinewidth": 0,
              "ticks": ""
             }
            },
            "type": "parcoords"
           }
          ],
          "pie": [
           {
            "automargin": true,
            "type": "pie"
           }
          ],
          "scatter": [
           {
            "marker": {
             "colorbar": {
              "outlinewidth": 0,
              "ticks": ""
             }
            },
            "type": "scatter"
           }
          ],
          "scatter3d": [
           {
            "line": {
             "colorbar": {
              "outlinewidth": 0,
              "ticks": ""
             }
            },
            "marker": {
             "colorbar": {
              "outlinewidth": 0,
              "ticks": ""
             }
            },
            "type": "scatter3d"
           }
          ],
          "scattercarpet": [
           {
            "marker": {
             "colorbar": {
              "outlinewidth": 0,
              "ticks": ""
             }
            },
            "type": "scattercarpet"
           }
          ],
          "scattergeo": [
           {
            "marker": {
             "colorbar": {
              "outlinewidth": 0,
              "ticks": ""
             }
            },
            "type": "scattergeo"
           }
          ],
          "scattergl": [
           {
            "marker": {
             "colorbar": {
              "outlinewidth": 0,
              "ticks": ""
             }
            },
            "type": "scattergl"
           }
          ],
          "scattermapbox": [
           {
            "marker": {
             "colorbar": {
              "outlinewidth": 0,
              "ticks": ""
             }
            },
            "type": "scattermapbox"
           }
          ],
          "scatterpolar": [
           {
            "marker": {
             "colorbar": {
              "outlinewidth": 0,
              "ticks": ""
             }
            },
            "type": "scatterpolar"
           }
          ],
          "scatterpolargl": [
           {
            "marker": {
             "colorbar": {
              "outlinewidth": 0,
              "ticks": ""
             }
            },
            "type": "scatterpolargl"
           }
          ],
          "scatterternary": [
           {
            "marker": {
             "colorbar": {
              "outlinewidth": 0,
              "ticks": ""
             }
            },
            "type": "scatterternary"
           }
          ],
          "surface": [
           {
            "colorbar": {
             "outlinewidth": 0,
             "ticks": ""
            },
            "colorscale": [
             [
              0,
              "#0d0887"
             ],
             [
              0.1111111111111111,
              "#46039f"
             ],
             [
              0.2222222222222222,
              "#7201a8"
             ],
             [
              0.3333333333333333,
              "#9c179e"
             ],
             [
              0.4444444444444444,
              "#bd3786"
             ],
             [
              0.5555555555555556,
              "#d8576b"
             ],
             [
              0.6666666666666666,
              "#ed7953"
             ],
             [
              0.7777777777777778,
              "#fb9f3a"
             ],
             [
              0.8888888888888888,
              "#fdca26"
             ],
             [
              1,
              "#f0f921"
             ]
            ],
            "type": "surface"
           }
          ],
          "table": [
           {
            "cells": {
             "fill": {
              "color": "#EBF0F8"
             },
             "line": {
              "color": "white"
             }
            },
            "header": {
             "fill": {
              "color": "#C8D4E3"
             },
             "line": {
              "color": "white"
             }
            },
            "type": "table"
           }
          ]
         },
         "layout": {
          "annotationdefaults": {
           "arrowcolor": "#2a3f5f",
           "arrowhead": 0,
           "arrowwidth": 1
          },
          "coloraxis": {
           "colorbar": {
            "outlinewidth": 0,
            "ticks": ""
           }
          },
          "colorscale": {
           "diverging": [
            [
             0,
             "#8e0152"
            ],
            [
             0.1,
             "#c51b7d"
            ],
            [
             0.2,
             "#de77ae"
            ],
            [
             0.3,
             "#f1b6da"
            ],
            [
             0.4,
             "#fde0ef"
            ],
            [
             0.5,
             "#f7f7f7"
            ],
            [
             0.6,
             "#e6f5d0"
            ],
            [
             0.7,
             "#b8e186"
            ],
            [
             0.8,
             "#7fbc41"
            ],
            [
             0.9,
             "#4d9221"
            ],
            [
             1,
             "#276419"
            ]
           ],
           "sequential": [
            [
             0,
             "#0d0887"
            ],
            [
             0.1111111111111111,
             "#46039f"
            ],
            [
             0.2222222222222222,
             "#7201a8"
            ],
            [
             0.3333333333333333,
             "#9c179e"
            ],
            [
             0.4444444444444444,
             "#bd3786"
            ],
            [
             0.5555555555555556,
             "#d8576b"
            ],
            [
             0.6666666666666666,
             "#ed7953"
            ],
            [
             0.7777777777777778,
             "#fb9f3a"
            ],
            [
             0.8888888888888888,
             "#fdca26"
            ],
            [
             1,
             "#f0f921"
            ]
           ],
           "sequentialminus": [
            [
             0,
             "#0d0887"
            ],
            [
             0.1111111111111111,
             "#46039f"
            ],
            [
             0.2222222222222222,
             "#7201a8"
            ],
            [
             0.3333333333333333,
             "#9c179e"
            ],
            [
             0.4444444444444444,
             "#bd3786"
            ],
            [
             0.5555555555555556,
             "#d8576b"
            ],
            [
             0.6666666666666666,
             "#ed7953"
            ],
            [
             0.7777777777777778,
             "#fb9f3a"
            ],
            [
             0.8888888888888888,
             "#fdca26"
            ],
            [
             1,
             "#f0f921"
            ]
           ]
          },
          "colorway": [
           "#636efa",
           "#EF553B",
           "#00cc96",
           "#ab63fa",
           "#FFA15A",
           "#19d3f3",
           "#FF6692",
           "#B6E880",
           "#FF97FF",
           "#FECB52"
          ],
          "font": {
           "color": "#2a3f5f"
          },
          "geo": {
           "bgcolor": "white",
           "lakecolor": "white",
           "landcolor": "#E5ECF6",
           "showlakes": true,
           "showland": true,
           "subunitcolor": "white"
          },
          "hoverlabel": {
           "align": "left"
          },
          "hovermode": "closest",
          "mapbox": {
           "style": "light"
          },
          "paper_bgcolor": "white",
          "plot_bgcolor": "#E5ECF6",
          "polar": {
           "angularaxis": {
            "gridcolor": "white",
            "linecolor": "white",
            "ticks": ""
           },
           "bgcolor": "#E5ECF6",
           "radialaxis": {
            "gridcolor": "white",
            "linecolor": "white",
            "ticks": ""
           }
          },
          "scene": {
           "xaxis": {
            "backgroundcolor": "#E5ECF6",
            "gridcolor": "white",
            "gridwidth": 2,
            "linecolor": "white",
            "showbackground": true,
            "ticks": "",
            "zerolinecolor": "white"
           },
           "yaxis": {
            "backgroundcolor": "#E5ECF6",
            "gridcolor": "white",
            "gridwidth": 2,
            "linecolor": "white",
            "showbackground": true,
            "ticks": "",
            "zerolinecolor": "white"
           },
           "zaxis": {
            "backgroundcolor": "#E5ECF6",
            "gridcolor": "white",
            "gridwidth": 2,
            "linecolor": "white",
            "showbackground": true,
            "ticks": "",
            "zerolinecolor": "white"
           }
          },
          "shapedefaults": {
           "line": {
            "color": "#2a3f5f"
           }
          },
          "ternary": {
           "aaxis": {
            "gridcolor": "white",
            "linecolor": "white",
            "ticks": ""
           },
           "baxis": {
            "gridcolor": "white",
            "linecolor": "white",
            "ticks": ""
           },
           "bgcolor": "#E5ECF6",
           "caxis": {
            "gridcolor": "white",
            "linecolor": "white",
            "ticks": ""
           }
          },
          "title": {
           "x": 0.05
          },
          "xaxis": {
           "automargin": true,
           "gridcolor": "white",
           "linecolor": "white",
           "ticks": "",
           "title": {
            "standoff": 15
           },
           "zerolinecolor": "white",
           "zerolinewidth": 2
          },
          "yaxis": {
           "automargin": true,
           "gridcolor": "white",
           "linecolor": "white",
           "ticks": "",
           "title": {
            "standoff": 15
           },
           "zerolinecolor": "white",
           "zerolinewidth": 2
          }
         }
        },
        "title": {
         "text": "Permutation Importance"
        }
       }
      },
      "text/html": [
       "<div>                            <div id=\"1862f672-9a13-4eed-9b56-3e0081276b63\" class=\"plotly-graph-div\" style=\"height:800px; width:100%;\"></div>            <script type=\"text/javascript\">                require([\"plotly\"], function(Plotly) {                    window.PLOTLYENV=window.PLOTLYENV || {};                                    if (document.getElementById(\"1862f672-9a13-4eed-9b56-3e0081276b63\")) {                    Plotly.newPlot(                        \"1862f672-9a13-4eed-9b56-3e0081276b63\",                        [{\"error_x\": {\"array\": [0.0024287523017909236, 0.0006420623496603445, 0.0010031202698606476, 0.0009937363379704954, 0.0005441196459942195, 0.00015607650791530874, 0.0018893540694228498, 0.0001676530632094257, 0.00011452884563126674, 0.00041745276085052496, 0.00082701292232056, 0.0002967664436741122, 0.0007046748964322716, 0.0003121530158306066, 0.0005176472153439691, 0.0007307827601048954, 0.00022493018758337673, 0.0011799409407650277, 0.00202575967037332, 0.0034268548589548612, 0.0017190230893295371, 0.0014146580971277933, 0.001486985956717638, 0.0030341653569749, 0.0013391272025850942, 0.002440297695499809, 0.002267142232891489, 0.00446242781182621, 0.0039822455331502546, 0.0021837843871119517, 0.0044352606517734745], \"color\": \"#9fa3a3\", \"type\": \"data\", \"visible\": true}, \"marker\": {\"color\": [\"red\", \"red\", \"red\", \"red\", \"red\", \"red\", \"red\", \"red\", \"blue\", \"blue\", \"blue\", \"blue\", \"blue\", \"blue\", \"blue\", \"blue\", \"blue\", \"blue\", \"blue\", \"blue\", \"blue\", \"blue\", \"blue\", \"blue\", \"blue\", \"blue\", \"blue\", \"blue\", \"blue\", \"blue\", \"blue\"], \"opacity\": 0.5}, \"name\": \"gastos\", \"orientation\": \"h\", \"type\": \"bar\", \"x\": [-0.0020814202632385204, -0.0010713192531375038, -0.0010407101316192823, -0.0006427915518825156, -0.0002142638506275274, -0.0002142638506275274, -4.4408920985006264e-17, -2.2204460492503132e-17, 3.060912151817696e-05, 0.00024487297214565996, 0.0003060912151820583, 0.000581573308845984, 0.00153045607591058, 0.0015610651974287792, 0.0015916743189469784, 0.0018365472910926827, 0.0018671564126109042, 0.0025405570860115743, 0.0036730945821854323, 0.0044077134986225674, 0.004713804713804693, 0.005264768901132455, 0.007040097949188829, 0.007438016528925573, 0.00798898071625338, 0.008203244566880864, 0.009397000306091164, 0.012733394551576339, 0.013376186103458787, 0.019130700948882695, 0.032078359351086605], \"y\": [\"launched_week\", \"Art\", \"is_weekend\", \"Film & Video\", \"Games\", \"Dance\", \"launched_month\", \"Crafts\", \"Journalism\", \"Food\", \"Technology\", \"Photography\", \"Fashion\", \"Theater\", \"Comics\", \"Publishing\", \"Design\", \"mean_main_category_goal\", \"num_chars\", \"launched_day\", \"syllable_count\", \"Music\", \"main_category\", \"category\", \"main_category_count\", \"category_count\", \"diff_mean_category_goal\", \"mean_category_goal\", \"num_words\", \"duration\", \"goal\"]}],                        {\"height\": 800, \"margin\": {\"l\": 300}, \"template\": {\"data\": {\"bar\": [{\"error_x\": {\"color\": \"#2a3f5f\"}, \"error_y\": {\"color\": \"#2a3f5f\"}, \"marker\": {\"line\": {\"color\": \"#E5ECF6\", \"width\": 0.5}}, \"type\": \"bar\"}], \"barpolar\": [{\"marker\": {\"line\": {\"color\": \"#E5ECF6\", \"width\": 0.5}}, \"type\": \"barpolar\"}], \"carpet\": [{\"aaxis\": {\"endlinecolor\": \"#2a3f5f\", \"gridcolor\": \"white\", \"linecolor\": \"white\", \"minorgridcolor\": \"white\", \"startlinecolor\": \"#2a3f5f\"}, \"baxis\": {\"endlinecolor\": \"#2a3f5f\", \"gridcolor\": \"white\", \"linecolor\": \"white\", \"minorgridcolor\": \"white\", \"startlinecolor\": \"#2a3f5f\"}, \"type\": \"carpet\"}], \"choropleth\": [{\"colorbar\": {\"outlinewidth\": 0, \"ticks\": \"\"}, \"type\": \"choropleth\"}], \"contour\": [{\"colorbar\": {\"outlinewidth\": 0, \"ticks\": \"\"}, \"colorscale\": [[0.0, \"#0d0887\"], [0.1111111111111111, \"#46039f\"], [0.2222222222222222, \"#7201a8\"], [0.3333333333333333, \"#9c179e\"], [0.4444444444444444, \"#bd3786\"], [0.5555555555555556, \"#d8576b\"], [0.6666666666666666, \"#ed7953\"], [0.7777777777777778, \"#fb9f3a\"], [0.8888888888888888, \"#fdca26\"], [1.0, \"#f0f921\"]], \"type\": \"contour\"}], \"contourcarpet\": [{\"colorbar\": {\"outlinewidth\": 0, \"ticks\": \"\"}, \"type\": \"contourcarpet\"}], \"heatmap\": [{\"colorbar\": {\"outlinewidth\": 0, \"ticks\": \"\"}, \"colorscale\": [[0.0, \"#0d0887\"], [0.1111111111111111, \"#46039f\"], [0.2222222222222222, \"#7201a8\"], [0.3333333333333333, \"#9c179e\"], [0.4444444444444444, \"#bd3786\"], [0.5555555555555556, \"#d8576b\"], [0.6666666666666666, \"#ed7953\"], [0.7777777777777778, \"#fb9f3a\"], [0.8888888888888888, \"#fdca26\"], [1.0, \"#f0f921\"]], \"type\": \"heatmap\"}], \"heatmapgl\": [{\"colorbar\": {\"outlinewidth\": 0, \"ticks\": \"\"}, \"colorscale\": [[0.0, \"#0d0887\"], [0.1111111111111111, \"#46039f\"], [0.2222222222222222, \"#7201a8\"], [0.3333333333333333, \"#9c179e\"], [0.4444444444444444, \"#bd3786\"], [0.5555555555555556, \"#d8576b\"], [0.6666666666666666, \"#ed7953\"], [0.7777777777777778, \"#fb9f3a\"], [0.8888888888888888, \"#fdca26\"], [1.0, \"#f0f921\"]], \"type\": \"heatmapgl\"}], \"histogram\": [{\"marker\": {\"colorbar\": {\"outlinewidth\": 0, \"ticks\": \"\"}}, \"type\": \"histogram\"}], \"histogram2d\": [{\"colorbar\": {\"outlinewidth\": 0, \"ticks\": \"\"}, \"colorscale\": [[0.0, \"#0d0887\"], [0.1111111111111111, \"#46039f\"], [0.2222222222222222, \"#7201a8\"], [0.3333333333333333, \"#9c179e\"], [0.4444444444444444, \"#bd3786\"], [0.5555555555555556, \"#d8576b\"], [0.6666666666666666, \"#ed7953\"], [0.7777777777777778, \"#fb9f3a\"], [0.8888888888888888, \"#fdca26\"], [1.0, \"#f0f921\"]], \"type\": \"histogram2d\"}], \"histogram2dcontour\": [{\"colorbar\": {\"outlinewidth\": 0, \"ticks\": \"\"}, \"colorscale\": [[0.0, \"#0d0887\"], [0.1111111111111111, \"#46039f\"], [0.2222222222222222, \"#7201a8\"], [0.3333333333333333, \"#9c179e\"], [0.4444444444444444, \"#bd3786\"], [0.5555555555555556, \"#d8576b\"], [0.6666666666666666, \"#ed7953\"], [0.7777777777777778, \"#fb9f3a\"], [0.8888888888888888, \"#fdca26\"], [1.0, \"#f0f921\"]], \"type\": \"histogram2dcontour\"}], \"mesh3d\": [{\"colorbar\": {\"outlinewidth\": 0, \"ticks\": \"\"}, \"type\": \"mesh3d\"}], \"parcoords\": [{\"line\": {\"colorbar\": {\"outlinewidth\": 0, \"ticks\": \"\"}}, \"type\": \"parcoords\"}], \"pie\": [{\"automargin\": true, \"type\": \"pie\"}], \"scatter\": [{\"marker\": {\"colorbar\": {\"outlinewidth\": 0, \"ticks\": \"\"}}, \"type\": \"scatter\"}], \"scatter3d\": [{\"line\": {\"colorbar\": {\"outlinewidth\": 0, \"ticks\": \"\"}}, \"marker\": {\"colorbar\": {\"outlinewidth\": 0, \"ticks\": \"\"}}, \"type\": \"scatter3d\"}], \"scattercarpet\": [{\"marker\": {\"colorbar\": {\"outlinewidth\": 0, \"ticks\": \"\"}}, \"type\": \"scattercarpet\"}], \"scattergeo\": [{\"marker\": {\"colorbar\": {\"outlinewidth\": 0, \"ticks\": \"\"}}, \"type\": \"scattergeo\"}], \"scattergl\": [{\"marker\": {\"colorbar\": {\"outlinewidth\": 0, \"ticks\": \"\"}}, \"type\": \"scattergl\"}], \"scattermapbox\": [{\"marker\": {\"colorbar\": {\"outlinewidth\": 0, \"ticks\": \"\"}}, \"type\": \"scattermapbox\"}], \"scatterpolar\": [{\"marker\": {\"colorbar\": {\"outlinewidth\": 0, \"ticks\": \"\"}}, \"type\": \"scatterpolar\"}], \"scatterpolargl\": [{\"marker\": {\"colorbar\": {\"outlinewidth\": 0, \"ticks\": \"\"}}, \"type\": \"scatterpolargl\"}], \"scatterternary\": [{\"marker\": {\"colorbar\": {\"outlinewidth\": 0, \"ticks\": \"\"}}, \"type\": \"scatterternary\"}], \"surface\": [{\"colorbar\": {\"outlinewidth\": 0, \"ticks\": \"\"}, \"colorscale\": [[0.0, \"#0d0887\"], [0.1111111111111111, \"#46039f\"], [0.2222222222222222, \"#7201a8\"], [0.3333333333333333, \"#9c179e\"], [0.4444444444444444, \"#bd3786\"], [0.5555555555555556, \"#d8576b\"], [0.6666666666666666, \"#ed7953\"], [0.7777777777777778, \"#fb9f3a\"], [0.8888888888888888, \"#fdca26\"], [1.0, \"#f0f921\"]], \"type\": \"surface\"}], \"table\": [{\"cells\": {\"fill\": {\"color\": \"#EBF0F8\"}, \"line\": {\"color\": \"white\"}}, \"header\": {\"fill\": {\"color\": \"#C8D4E3\"}, \"line\": {\"color\": \"white\"}}, \"type\": \"table\"}]}, \"layout\": {\"annotationdefaults\": {\"arrowcolor\": \"#2a3f5f\", \"arrowhead\": 0, \"arrowwidth\": 1}, \"coloraxis\": {\"colorbar\": {\"outlinewidth\": 0, \"ticks\": \"\"}}, \"colorscale\": {\"diverging\": [[0, \"#8e0152\"], [0.1, \"#c51b7d\"], [0.2, \"#de77ae\"], [0.3, \"#f1b6da\"], [0.4, \"#fde0ef\"], [0.5, \"#f7f7f7\"], [0.6, \"#e6f5d0\"], [0.7, \"#b8e186\"], [0.8, \"#7fbc41\"], [0.9, \"#4d9221\"], [1, \"#276419\"]], \"sequential\": [[0.0, \"#0d0887\"], [0.1111111111111111, \"#46039f\"], [0.2222222222222222, \"#7201a8\"], [0.3333333333333333, \"#9c179e\"], [0.4444444444444444, \"#bd3786\"], [0.5555555555555556, \"#d8576b\"], [0.6666666666666666, \"#ed7953\"], [0.7777777777777778, \"#fb9f3a\"], [0.8888888888888888, \"#fdca26\"], [1.0, \"#f0f921\"]], \"sequentialminus\": [[0.0, \"#0d0887\"], [0.1111111111111111, \"#46039f\"], [0.2222222222222222, \"#7201a8\"], [0.3333333333333333, \"#9c179e\"], [0.4444444444444444, \"#bd3786\"], [0.5555555555555556, \"#d8576b\"], [0.6666666666666666, \"#ed7953\"], [0.7777777777777778, \"#fb9f3a\"], [0.8888888888888888, \"#fdca26\"], [1.0, \"#f0f921\"]]}, \"colorway\": [\"#636efa\", \"#EF553B\", \"#00cc96\", \"#ab63fa\", \"#FFA15A\", \"#19d3f3\", \"#FF6692\", \"#B6E880\", \"#FF97FF\", \"#FECB52\"], \"font\": {\"color\": \"#2a3f5f\"}, \"geo\": {\"bgcolor\": \"white\", \"lakecolor\": \"white\", \"landcolor\": \"#E5ECF6\", \"showlakes\": true, \"showland\": true, \"subunitcolor\": \"white\"}, \"hoverlabel\": {\"align\": \"left\"}, \"hovermode\": \"closest\", \"mapbox\": {\"style\": \"light\"}, \"paper_bgcolor\": \"white\", \"plot_bgcolor\": \"#E5ECF6\", \"polar\": {\"angularaxis\": {\"gridcolor\": \"white\", \"linecolor\": \"white\", \"ticks\": \"\"}, \"bgcolor\": \"#E5ECF6\", \"radialaxis\": {\"gridcolor\": \"white\", \"linecolor\": \"white\", \"ticks\": \"\"}}, \"scene\": {\"xaxis\": {\"backgroundcolor\": \"#E5ECF6\", \"gridcolor\": \"white\", \"gridwidth\": 2, \"linecolor\": \"white\", \"showbackground\": true, \"ticks\": \"\", \"zerolinecolor\": \"white\"}, \"yaxis\": {\"backgroundcolor\": \"#E5ECF6\", \"gridcolor\": \"white\", \"gridwidth\": 2, \"linecolor\": \"white\", \"showbackground\": true, \"ticks\": \"\", \"zerolinecolor\": \"white\"}, \"zaxis\": {\"backgroundcolor\": \"#E5ECF6\", \"gridcolor\": \"white\", \"gridwidth\": 2, \"linecolor\": \"white\", \"showbackground\": true, \"ticks\": \"\", \"zerolinecolor\": \"white\"}}, \"shapedefaults\": {\"line\": {\"color\": \"#2a3f5f\"}}, \"ternary\": {\"aaxis\": {\"gridcolor\": \"white\", \"linecolor\": \"white\", \"ticks\": \"\"}, \"baxis\": {\"gridcolor\": \"white\", \"linecolor\": \"white\", \"ticks\": \"\"}, \"bgcolor\": \"#E5ECF6\", \"caxis\": {\"gridcolor\": \"white\", \"linecolor\": \"white\", \"ticks\": \"\"}}, \"title\": {\"x\": 0.05}, \"xaxis\": {\"automargin\": true, \"gridcolor\": \"white\", \"linecolor\": \"white\", \"ticks\": \"\", \"title\": {\"standoff\": 15}, \"zerolinecolor\": \"white\", \"zerolinewidth\": 2}, \"yaxis\": {\"automargin\": true, \"gridcolor\": \"white\", \"linecolor\": \"white\", \"ticks\": \"\", \"title\": {\"standoff\": 15}, \"zerolinecolor\": \"white\", \"zerolinewidth\": 2}}}, \"title\": {\"text\": \"Permutation Importance\"}},                        {\"responsive\": true}                    ).then(function(){\n",
       "                            \n",
       "var gd = document.getElementById('1862f672-9a13-4eed-9b56-3e0081276b63');\n",
       "var x = new MutationObserver(function (mutations, observer) {{\n",
       "        var display = window.getComputedStyle(gd).display;\n",
       "        if (!display || display === 'none') {{\n",
       "            console.log([gd, 'removed!']);\n",
       "            Plotly.purge(gd);\n",
       "            observer.disconnect();\n",
       "        }}\n",
       "}});\n",
       "\n",
       "// Listen for the removal of the full notebook cells\n",
       "var notebookContainer = gd.closest('#notebook-container');\n",
       "if (notebookContainer) {{\n",
       "    x.observe(notebookContainer, {childList: true});\n",
       "}}\n",
       "\n",
       "// Listen for the clearing of the current output cell\n",
       "var outputEl = gd.closest('.output');\n",
       "if (outputEl) {{\n",
       "    x.observe(outputEl, {childList: true});\n",
       "}}\n",
       "\n",
       "                        })                };                });            </script>        </div>"
      ]
     },
     "metadata": {},
     "output_type": "display_data"
    }
   ],
   "source": [
    "from eli5.sklearn import PermutationImportance\n",
    "import eli5\n",
    "perm = PermutationImportance(model1, random_state=1).fit(X_test, y_test)\n",
    "pi_df = eli5.explain_weights_df(perm, feature_names = X_test.columns.tolist())\n",
    "pi_df[\"color\"] = pi_df[\"weight\"].apply(lambda x : \"blue\" if x > 0 else \"red\")\n",
    "\n",
    "data = [\n",
    "    go.Bar(\n",
    "        orientation = \"h\",\n",
    "        y = pi_df.feature[::-1],\n",
    "        x = pi_df.weight[::-1],\n",
    "        marker = dict(\n",
    "            opacity = 0.5,\n",
    "            color = pi_df.color[::-1]        ),\n",
    "        error_x = dict( type='data', color=\"#9fa3a3\",\n",
    "            array=list(pi_df[\"std\"][::-1]),\n",
    "            visible=True),\n",
    "        name = 'gastos'\n",
    "    )\n",
    "]\n",
    "\n",
    "\n",
    "layout = go.Layout(title=\"Permutation Importance\", height = 800, margin=dict(l=300))\n",
    "\n",
    "annotations = []\n",
    "for i, row in pi_df.iterrows():\n",
    "    dict(y=row.feature, x=row.weight, text=\"d\",\n",
    "                                  font=dict(family='Arial', size=14,\n",
    "                                  color='rgba(245, 246, 249, 1)'),\n",
    "                                  showarrow=False,)\n",
    "layout['annotations'] = annotations\n",
    "fig = go.Figure(data=data, layout = layout)\n",
    "iplot(fig, filename='base-bar')"
   ]
  },
  {
   "cell_type": "markdown",
   "metadata": {},
   "source": [
    "Inferencias\n",
    "\n",
    "- Esta es una gráfica interesante. Podemos observar que las características que se muestran en la parte superior y en azul son las más importantes, ya que si sus valores son aleatorios, el rendimiento del resultado se ve afectado.\n",
    "- Podemos observar que las características principales son las características que más vimos en la sección de importancia relativa, pero usando este gráfico podemos cuantificar la cantidad de importancia asociada con ellas. Y también obtenga los que son menos importantes, por ejemplo, semana de lanzamiento, si fue fin de semana o no, etc.\n",
    "\n",
    "Con este método, obtuvimos la importancia de una característica en un sentido más absoluto que en un sentido relativo. Supongamos que nuestro espacio de características forma la mayor parte del universo. Ahora, será interesante trazar tanto la permutación como la importancia relativa de las características y hacer algunas observaciones clave."
   ]
  },
  {
   "cell_type": "code",
   "execution_count": 16,
   "metadata": {},
   "outputs": [
    {
     "data": {
      "application/vnd.plotly.v1+json": {
       "config": {
        "linkText": "Export to plot.ly",
        "plotlyServerURL": "https://plot.ly",
        "showLink": false
       },
       "data": [
        {
         "marker": {
          "color": "red",
          "opacity": 0.5,
          "size": 10
         },
         "mode": "markers+text",
         "text": [
          "Goal",
          "Num_Chars",
          "Launched_Week",
          "Diff_Mean_Category_Goal",
          "Duration",
          "Syllable_Count",
          "Launched_Month",
          "Num_Words",
          "Launched_Day",
          "Mean_Category_Goal",
          "Category",
          "Category_Count",
          "Main_Category_Count",
          "Main_Category",
          "Is_Weekend",
          "Mean_Main_Category_Goal",
          "",
          "",
          "",
          "",
          "",
          "",
          "",
          "",
          "",
          "",
          "",
          "",
          "",
          "",
          ""
         ],
         "textposition": "top center",
         "type": "scatter",
         "x": [
          0.11850286503459433,
          0.11580954201506767,
          0.11579872495533207,
          0.10468238658515536,
          0.09611773393329022,
          0.08450457428764194,
          0.0726669003829631,
          0.07126344233464604,
          0.06476222944952033,
          0.036965732987165593,
          0.032200206219958054,
          0.02956723022521437,
          0.011177582580262127,
          0.00924315639944397,
          0.008971374547585469,
          0.008479484873391284,
          0.0032745387925493907,
          0.0019822718512125925,
          0.0018307792281292978,
          0.001604142832323074,
          0.001484652226410256,
          0.001251774104612709,
          0.0011667161293887306,
          0.001149286640758308,
          0.0011376174691461545,
          0.0010779857058928588,
          0.000831371424213223,
          0.00079784426324758,
          0.0007245014555337778,
          0.0006483164415764596,
          0.0003250346237738975
         ],
         "y": [
          0.032078359351086605,
          0.0036730945821854323,
          -0.0020814202632385204,
          0.009397000306091164,
          0.019130700948882695,
          0.004713804713804693,
          -4.4408920985006264e-17,
          0.013376186103458787,
          0.0044077134986225674,
          0.012733394551576339,
          0.007438016528925573,
          0.008203244566880864,
          0.00798898071625338,
          0.007040097949188829,
          -0.0010407101316192823,
          0.0025405570860115743,
          0.005264768901132455,
          0.0015610651974287792,
          0.00153045607591058,
          0.0015916743189469784,
          -0.0002142638506275274,
          0.0018365472910926827,
          0.0003060912151820583,
          -0.0006427915518825156,
          0.00024487297214565996,
          -2.2204460492503132e-17,
          0.0018671564126109042,
          -0.0002142638506275274,
          -0.0010713192531375038,
          0.000581573308845984,
          3.060912151817696e-05
         ]
        }
       ],
       "layout": {
        "showlegend": false,
        "template": {
         "data": {
          "bar": [
           {
            "error_x": {
             "color": "#2a3f5f"
            },
            "error_y": {
             "color": "#2a3f5f"
            },
            "marker": {
             "line": {
              "color": "#E5ECF6",
              "width": 0.5
             }
            },
            "type": "bar"
           }
          ],
          "barpolar": [
           {
            "marker": {
             "line": {
              "color": "#E5ECF6",
              "width": 0.5
             }
            },
            "type": "barpolar"
           }
          ],
          "carpet": [
           {
            "aaxis": {
             "endlinecolor": "#2a3f5f",
             "gridcolor": "white",
             "linecolor": "white",
             "minorgridcolor": "white",
             "startlinecolor": "#2a3f5f"
            },
            "baxis": {
             "endlinecolor": "#2a3f5f",
             "gridcolor": "white",
             "linecolor": "white",
             "minorgridcolor": "white",
             "startlinecolor": "#2a3f5f"
            },
            "type": "carpet"
           }
          ],
          "choropleth": [
           {
            "colorbar": {
             "outlinewidth": 0,
             "ticks": ""
            },
            "type": "choropleth"
           }
          ],
          "contour": [
           {
            "colorbar": {
             "outlinewidth": 0,
             "ticks": ""
            },
            "colorscale": [
             [
              0,
              "#0d0887"
             ],
             [
              0.1111111111111111,
              "#46039f"
             ],
             [
              0.2222222222222222,
              "#7201a8"
             ],
             [
              0.3333333333333333,
              "#9c179e"
             ],
             [
              0.4444444444444444,
              "#bd3786"
             ],
             [
              0.5555555555555556,
              "#d8576b"
             ],
             [
              0.6666666666666666,
              "#ed7953"
             ],
             [
              0.7777777777777778,
              "#fb9f3a"
             ],
             [
              0.8888888888888888,
              "#fdca26"
             ],
             [
              1,
              "#f0f921"
             ]
            ],
            "type": "contour"
           }
          ],
          "contourcarpet": [
           {
            "colorbar": {
             "outlinewidth": 0,
             "ticks": ""
            },
            "type": "contourcarpet"
           }
          ],
          "heatmap": [
           {
            "colorbar": {
             "outlinewidth": 0,
             "ticks": ""
            },
            "colorscale": [
             [
              0,
              "#0d0887"
             ],
             [
              0.1111111111111111,
              "#46039f"
             ],
             [
              0.2222222222222222,
              "#7201a8"
             ],
             [
              0.3333333333333333,
              "#9c179e"
             ],
             [
              0.4444444444444444,
              "#bd3786"
             ],
             [
              0.5555555555555556,
              "#d8576b"
             ],
             [
              0.6666666666666666,
              "#ed7953"
             ],
             [
              0.7777777777777778,
              "#fb9f3a"
             ],
             [
              0.8888888888888888,
              "#fdca26"
             ],
             [
              1,
              "#f0f921"
             ]
            ],
            "type": "heatmap"
           }
          ],
          "heatmapgl": [
           {
            "colorbar": {
             "outlinewidth": 0,
             "ticks": ""
            },
            "colorscale": [
             [
              0,
              "#0d0887"
             ],
             [
              0.1111111111111111,
              "#46039f"
             ],
             [
              0.2222222222222222,
              "#7201a8"
             ],
             [
              0.3333333333333333,
              "#9c179e"
             ],
             [
              0.4444444444444444,
              "#bd3786"
             ],
             [
              0.5555555555555556,
              "#d8576b"
             ],
             [
              0.6666666666666666,
              "#ed7953"
             ],
             [
              0.7777777777777778,
              "#fb9f3a"
             ],
             [
              0.8888888888888888,
              "#fdca26"
             ],
             [
              1,
              "#f0f921"
             ]
            ],
            "type": "heatmapgl"
           }
          ],
          "histogram": [
           {
            "marker": {
             "colorbar": {
              "outlinewidth": 0,
              "ticks": ""
             }
            },
            "type": "histogram"
           }
          ],
          "histogram2d": [
           {
            "colorbar": {
             "outlinewidth": 0,
             "ticks": ""
            },
            "colorscale": [
             [
              0,
              "#0d0887"
             ],
             [
              0.1111111111111111,
              "#46039f"
             ],
             [
              0.2222222222222222,
              "#7201a8"
             ],
             [
              0.3333333333333333,
              "#9c179e"
             ],
             [
              0.4444444444444444,
              "#bd3786"
             ],
             [
              0.5555555555555556,
              "#d8576b"
             ],
             [
              0.6666666666666666,
              "#ed7953"
             ],
             [
              0.7777777777777778,
              "#fb9f3a"
             ],
             [
              0.8888888888888888,
              "#fdca26"
             ],
             [
              1,
              "#f0f921"
             ]
            ],
            "type": "histogram2d"
           }
          ],
          "histogram2dcontour": [
           {
            "colorbar": {
             "outlinewidth": 0,
             "ticks": ""
            },
            "colorscale": [
             [
              0,
              "#0d0887"
             ],
             [
              0.1111111111111111,
              "#46039f"
             ],
             [
              0.2222222222222222,
              "#7201a8"
             ],
             [
              0.3333333333333333,
              "#9c179e"
             ],
             [
              0.4444444444444444,
              "#bd3786"
             ],
             [
              0.5555555555555556,
              "#d8576b"
             ],
             [
              0.6666666666666666,
              "#ed7953"
             ],
             [
              0.7777777777777778,
              "#fb9f3a"
             ],
             [
              0.8888888888888888,
              "#fdca26"
             ],
             [
              1,
              "#f0f921"
             ]
            ],
            "type": "histogram2dcontour"
           }
          ],
          "mesh3d": [
           {
            "colorbar": {
             "outlinewidth": 0,
             "ticks": ""
            },
            "type": "mesh3d"
           }
          ],
          "parcoords": [
           {
            "line": {
             "colorbar": {
              "outlinewidth": 0,
              "ticks": ""
             }
            },
            "type": "parcoords"
           }
          ],
          "pie": [
           {
            "automargin": true,
            "type": "pie"
           }
          ],
          "scatter": [
           {
            "marker": {
             "colorbar": {
              "outlinewidth": 0,
              "ticks": ""
             }
            },
            "type": "scatter"
           }
          ],
          "scatter3d": [
           {
            "line": {
             "colorbar": {
              "outlinewidth": 0,
              "ticks": ""
             }
            },
            "marker": {
             "colorbar": {
              "outlinewidth": 0,
              "ticks": ""
             }
            },
            "type": "scatter3d"
           }
          ],
          "scattercarpet": [
           {
            "marker": {
             "colorbar": {
              "outlinewidth": 0,
              "ticks": ""
             }
            },
            "type": "scattercarpet"
           }
          ],
          "scattergeo": [
           {
            "marker": {
             "colorbar": {
              "outlinewidth": 0,
              "ticks": ""
             }
            },
            "type": "scattergeo"
           }
          ],
          "scattergl": [
           {
            "marker": {
             "colorbar": {
              "outlinewidth": 0,
              "ticks": ""
             }
            },
            "type": "scattergl"
           }
          ],
          "scattermapbox": [
           {
            "marker": {
             "colorbar": {
              "outlinewidth": 0,
              "ticks": ""
             }
            },
            "type": "scattermapbox"
           }
          ],
          "scatterpolar": [
           {
            "marker": {
             "colorbar": {
              "outlinewidth": 0,
              "ticks": ""
             }
            },
            "type": "scatterpolar"
           }
          ],
          "scatterpolargl": [
           {
            "marker": {
             "colorbar": {
              "outlinewidth": 0,
              "ticks": ""
             }
            },
            "type": "scatterpolargl"
           }
          ],
          "scatterternary": [
           {
            "marker": {
             "colorbar": {
              "outlinewidth": 0,
              "ticks": ""
             }
            },
            "type": "scatterternary"
           }
          ],
          "surface": [
           {
            "colorbar": {
             "outlinewidth": 0,
             "ticks": ""
            },
            "colorscale": [
             [
              0,
              "#0d0887"
             ],
             [
              0.1111111111111111,
              "#46039f"
             ],
             [
              0.2222222222222222,
              "#7201a8"
             ],
             [
              0.3333333333333333,
              "#9c179e"
             ],
             [
              0.4444444444444444,
              "#bd3786"
             ],
             [
              0.5555555555555556,
              "#d8576b"
             ],
             [
              0.6666666666666666,
              "#ed7953"
             ],
             [
              0.7777777777777778,
              "#fb9f3a"
             ],
             [
              0.8888888888888888,
              "#fdca26"
             ],
             [
              1,
              "#f0f921"
             ]
            ],
            "type": "surface"
           }
          ],
          "table": [
           {
            "cells": {
             "fill": {
              "color": "#EBF0F8"
             },
             "line": {
              "color": "white"
             }
            },
            "header": {
             "fill": {
              "color": "#C8D4E3"
             },
             "line": {
              "color": "white"
             }
            },
            "type": "table"
           }
          ]
         },
         "layout": {
          "annotationdefaults": {
           "arrowcolor": "#2a3f5f",
           "arrowhead": 0,
           "arrowwidth": 1
          },
          "coloraxis": {
           "colorbar": {
            "outlinewidth": 0,
            "ticks": ""
           }
          },
          "colorscale": {
           "diverging": [
            [
             0,
             "#8e0152"
            ],
            [
             0.1,
             "#c51b7d"
            ],
            [
             0.2,
             "#de77ae"
            ],
            [
             0.3,
             "#f1b6da"
            ],
            [
             0.4,
             "#fde0ef"
            ],
            [
             0.5,
             "#f7f7f7"
            ],
            [
             0.6,
             "#e6f5d0"
            ],
            [
             0.7,
             "#b8e186"
            ],
            [
             0.8,
             "#7fbc41"
            ],
            [
             0.9,
             "#4d9221"
            ],
            [
             1,
             "#276419"
            ]
           ],
           "sequential": [
            [
             0,
             "#0d0887"
            ],
            [
             0.1111111111111111,
             "#46039f"
            ],
            [
             0.2222222222222222,
             "#7201a8"
            ],
            [
             0.3333333333333333,
             "#9c179e"
            ],
            [
             0.4444444444444444,
             "#bd3786"
            ],
            [
             0.5555555555555556,
             "#d8576b"
            ],
            [
             0.6666666666666666,
             "#ed7953"
            ],
            [
             0.7777777777777778,
             "#fb9f3a"
            ],
            [
             0.8888888888888888,
             "#fdca26"
            ],
            [
             1,
             "#f0f921"
            ]
           ],
           "sequentialminus": [
            [
             0,
             "#0d0887"
            ],
            [
             0.1111111111111111,
             "#46039f"
            ],
            [
             0.2222222222222222,
             "#7201a8"
            ],
            [
             0.3333333333333333,
             "#9c179e"
            ],
            [
             0.4444444444444444,
             "#bd3786"
            ],
            [
             0.5555555555555556,
             "#d8576b"
            ],
            [
             0.6666666666666666,
             "#ed7953"
            ],
            [
             0.7777777777777778,
             "#fb9f3a"
            ],
            [
             0.8888888888888888,
             "#fdca26"
            ],
            [
             1,
             "#f0f921"
            ]
           ]
          },
          "colorway": [
           "#636efa",
           "#EF553B",
           "#00cc96",
           "#ab63fa",
           "#FFA15A",
           "#19d3f3",
           "#FF6692",
           "#B6E880",
           "#FF97FF",
           "#FECB52"
          ],
          "font": {
           "color": "#2a3f5f"
          },
          "geo": {
           "bgcolor": "white",
           "lakecolor": "white",
           "landcolor": "#E5ECF6",
           "showlakes": true,
           "showland": true,
           "subunitcolor": "white"
          },
          "hoverlabel": {
           "align": "left"
          },
          "hovermode": "closest",
          "mapbox": {
           "style": "light"
          },
          "paper_bgcolor": "white",
          "plot_bgcolor": "#E5ECF6",
          "polar": {
           "angularaxis": {
            "gridcolor": "white",
            "linecolor": "white",
            "ticks": ""
           },
           "bgcolor": "#E5ECF6",
           "radialaxis": {
            "gridcolor": "white",
            "linecolor": "white",
            "ticks": ""
           }
          },
          "scene": {
           "xaxis": {
            "backgroundcolor": "#E5ECF6",
            "gridcolor": "white",
            "gridwidth": 2,
            "linecolor": "white",
            "showbackground": true,
            "ticks": "",
            "zerolinecolor": "white"
           },
           "yaxis": {
            "backgroundcolor": "#E5ECF6",
            "gridcolor": "white",
            "gridwidth": 2,
            "linecolor": "white",
            "showbackground": true,
            "ticks": "",
            "zerolinecolor": "white"
           },
           "zaxis": {
            "backgroundcolor": "#E5ECF6",
            "gridcolor": "white",
            "gridwidth": 2,
            "linecolor": "white",
            "showbackground": true,
            "ticks": "",
            "zerolinecolor": "white"
           }
          },
          "shapedefaults": {
           "line": {
            "color": "#2a3f5f"
           }
          },
          "ternary": {
           "aaxis": {
            "gridcolor": "white",
            "linecolor": "white",
            "ticks": ""
           },
           "baxis": {
            "gridcolor": "white",
            "linecolor": "white",
            "ticks": ""
           },
           "bgcolor": "#E5ECF6",
           "caxis": {
            "gridcolor": "white",
            "linecolor": "white",
            "ticks": ""
           }
          },
          "title": {
           "x": 0.05
          },
          "xaxis": {
           "automargin": true,
           "gridcolor": "white",
           "linecolor": "white",
           "ticks": "",
           "title": {
            "standoff": 15
           },
           "zerolinecolor": "white",
           "zerolinewidth": 2
          },
          "yaxis": {
           "automargin": true,
           "gridcolor": "white",
           "linecolor": "white",
           "ticks": "",
           "title": {
            "standoff": 15
           },
           "zerolinecolor": "white",
           "zerolinewidth": 2
          }
         }
        },
        "title": {
         "text": "Caracteristicas : Relativa Importancia VS Importancia Permutada"
        },
        "xaxis": {
         "showgrid": false,
         "title": {
          "text": "(Relativa)"
         }
        },
        "yaxis": {
         "showgrid": false,
         "title": {
          "text": "Permutada"
         }
        }
       }
      },
      "text/html": [
       "<div>                            <div id=\"0673d309-082b-4baa-a648-03af3d04a1b6\" class=\"plotly-graph-div\" style=\"height:525px; width:100%;\"></div>            <script type=\"text/javascript\">                require([\"plotly\"], function(Plotly) {                    window.PLOTLYENV=window.PLOTLYENV || {};                                    if (document.getElementById(\"0673d309-082b-4baa-a648-03af3d04a1b6\")) {                    Plotly.newPlot(                        \"0673d309-082b-4baa-a648-03af3d04a1b6\",                        [{\"marker\": {\"color\": \"red\", \"opacity\": 0.5, \"size\": 10}, \"mode\": \"markers+text\", \"text\": [\"Goal\", \"Num_Chars\", \"Launched_Week\", \"Diff_Mean_Category_Goal\", \"Duration\", \"Syllable_Count\", \"Launched_Month\", \"Num_Words\", \"Launched_Day\", \"Mean_Category_Goal\", \"Category\", \"Category_Count\", \"Main_Category_Count\", \"Main_Category\", \"Is_Weekend\", \"Mean_Main_Category_Goal\", \"\", \"\", \"\", \"\", \"\", \"\", \"\", \"\", \"\", \"\", \"\", \"\", \"\", \"\", \"\"], \"textposition\": \"top center\", \"type\": \"scatter\", \"x\": [0.11850286503459433, 0.11580954201506767, 0.11579872495533207, 0.10468238658515536, 0.09611773393329022, 0.08450457428764194, 0.0726669003829631, 0.07126344233464604, 0.06476222944952033, 0.036965732987165593, 0.032200206219958054, 0.02956723022521437, 0.011177582580262127, 0.00924315639944397, 0.008971374547585469, 0.008479484873391284, 0.0032745387925493907, 0.0019822718512125925, 0.0018307792281292978, 0.001604142832323074, 0.001484652226410256, 0.001251774104612709, 0.0011667161293887306, 0.001149286640758308, 0.0011376174691461545, 0.0010779857058928588, 0.000831371424213223, 0.00079784426324758, 0.0007245014555337778, 0.0006483164415764596, 0.0003250346237738975], \"y\": [0.032078359351086605, 0.0036730945821854323, -0.0020814202632385204, 0.009397000306091164, 0.019130700948882695, 0.004713804713804693, -4.4408920985006264e-17, 0.013376186103458787, 0.0044077134986225674, 0.012733394551576339, 0.007438016528925573, 0.008203244566880864, 0.00798898071625338, 0.007040097949188829, -0.0010407101316192823, 0.0025405570860115743, 0.005264768901132455, 0.0015610651974287792, 0.00153045607591058, 0.0015916743189469784, -0.0002142638506275274, 0.0018365472910926827, 0.0003060912151820583, -0.0006427915518825156, 0.00024487297214565996, -2.2204460492503132e-17, 0.0018671564126109042, -0.0002142638506275274, -0.0010713192531375038, 0.000581573308845984, 3.060912151817696e-05]}],                        {\"showlegend\": false, \"template\": {\"data\": {\"bar\": [{\"error_x\": {\"color\": \"#2a3f5f\"}, \"error_y\": {\"color\": \"#2a3f5f\"}, \"marker\": {\"line\": {\"color\": \"#E5ECF6\", \"width\": 0.5}}, \"type\": \"bar\"}], \"barpolar\": [{\"marker\": {\"line\": {\"color\": \"#E5ECF6\", \"width\": 0.5}}, \"type\": \"barpolar\"}], \"carpet\": [{\"aaxis\": {\"endlinecolor\": \"#2a3f5f\", \"gridcolor\": \"white\", \"linecolor\": \"white\", \"minorgridcolor\": \"white\", \"startlinecolor\": \"#2a3f5f\"}, \"baxis\": {\"endlinecolor\": \"#2a3f5f\", \"gridcolor\": \"white\", \"linecolor\": \"white\", \"minorgridcolor\": \"white\", \"startlinecolor\": \"#2a3f5f\"}, \"type\": \"carpet\"}], \"choropleth\": [{\"colorbar\": {\"outlinewidth\": 0, \"ticks\": \"\"}, \"type\": \"choropleth\"}], \"contour\": [{\"colorbar\": {\"outlinewidth\": 0, \"ticks\": \"\"}, \"colorscale\": [[0.0, \"#0d0887\"], [0.1111111111111111, \"#46039f\"], [0.2222222222222222, \"#7201a8\"], [0.3333333333333333, \"#9c179e\"], [0.4444444444444444, \"#bd3786\"], [0.5555555555555556, \"#d8576b\"], [0.6666666666666666, \"#ed7953\"], [0.7777777777777778, \"#fb9f3a\"], [0.8888888888888888, \"#fdca26\"], [1.0, \"#f0f921\"]], \"type\": \"contour\"}], \"contourcarpet\": [{\"colorbar\": {\"outlinewidth\": 0, \"ticks\": \"\"}, \"type\": \"contourcarpet\"}], \"heatmap\": [{\"colorbar\": {\"outlinewidth\": 0, \"ticks\": \"\"}, \"colorscale\": [[0.0, \"#0d0887\"], [0.1111111111111111, \"#46039f\"], [0.2222222222222222, \"#7201a8\"], [0.3333333333333333, \"#9c179e\"], [0.4444444444444444, \"#bd3786\"], [0.5555555555555556, \"#d8576b\"], [0.6666666666666666, \"#ed7953\"], [0.7777777777777778, \"#fb9f3a\"], [0.8888888888888888, \"#fdca26\"], [1.0, \"#f0f921\"]], \"type\": \"heatmap\"}], \"heatmapgl\": [{\"colorbar\": {\"outlinewidth\": 0, \"ticks\": \"\"}, \"colorscale\": [[0.0, \"#0d0887\"], [0.1111111111111111, \"#46039f\"], [0.2222222222222222, \"#7201a8\"], [0.3333333333333333, \"#9c179e\"], [0.4444444444444444, \"#bd3786\"], [0.5555555555555556, \"#d8576b\"], [0.6666666666666666, \"#ed7953\"], [0.7777777777777778, \"#fb9f3a\"], [0.8888888888888888, \"#fdca26\"], [1.0, \"#f0f921\"]], \"type\": \"heatmapgl\"}], \"histogram\": [{\"marker\": {\"colorbar\": {\"outlinewidth\": 0, \"ticks\": \"\"}}, \"type\": \"histogram\"}], \"histogram2d\": [{\"colorbar\": {\"outlinewidth\": 0, \"ticks\": \"\"}, \"colorscale\": [[0.0, \"#0d0887\"], [0.1111111111111111, \"#46039f\"], [0.2222222222222222, \"#7201a8\"], [0.3333333333333333, \"#9c179e\"], [0.4444444444444444, \"#bd3786\"], [0.5555555555555556, \"#d8576b\"], [0.6666666666666666, \"#ed7953\"], [0.7777777777777778, \"#fb9f3a\"], [0.8888888888888888, \"#fdca26\"], [1.0, \"#f0f921\"]], \"type\": \"histogram2d\"}], \"histogram2dcontour\": [{\"colorbar\": {\"outlinewidth\": 0, \"ticks\": \"\"}, \"colorscale\": [[0.0, \"#0d0887\"], [0.1111111111111111, \"#46039f\"], [0.2222222222222222, \"#7201a8\"], [0.3333333333333333, \"#9c179e\"], [0.4444444444444444, \"#bd3786\"], [0.5555555555555556, \"#d8576b\"], [0.6666666666666666, \"#ed7953\"], [0.7777777777777778, \"#fb9f3a\"], [0.8888888888888888, \"#fdca26\"], [1.0, \"#f0f921\"]], \"type\": \"histogram2dcontour\"}], \"mesh3d\": [{\"colorbar\": {\"outlinewidth\": 0, \"ticks\": \"\"}, \"type\": \"mesh3d\"}], \"parcoords\": [{\"line\": {\"colorbar\": {\"outlinewidth\": 0, \"ticks\": \"\"}}, \"type\": \"parcoords\"}], \"pie\": [{\"automargin\": true, \"type\": \"pie\"}], \"scatter\": [{\"marker\": {\"colorbar\": {\"outlinewidth\": 0, \"ticks\": \"\"}}, \"type\": \"scatter\"}], \"scatter3d\": [{\"line\": {\"colorbar\": {\"outlinewidth\": 0, \"ticks\": \"\"}}, \"marker\": {\"colorbar\": {\"outlinewidth\": 0, \"ticks\": \"\"}}, \"type\": \"scatter3d\"}], \"scattercarpet\": [{\"marker\": {\"colorbar\": {\"outlinewidth\": 0, \"ticks\": \"\"}}, \"type\": \"scattercarpet\"}], \"scattergeo\": [{\"marker\": {\"colorbar\": {\"outlinewidth\": 0, \"ticks\": \"\"}}, \"type\": \"scattergeo\"}], \"scattergl\": [{\"marker\": {\"colorbar\": {\"outlinewidth\": 0, \"ticks\": \"\"}}, \"type\": \"scattergl\"}], \"scattermapbox\": [{\"marker\": {\"colorbar\": {\"outlinewidth\": 0, \"ticks\": \"\"}}, \"type\": \"scattermapbox\"}], \"scatterpolar\": [{\"marker\": {\"colorbar\": {\"outlinewidth\": 0, \"ticks\": \"\"}}, \"type\": \"scatterpolar\"}], \"scatterpolargl\": [{\"marker\": {\"colorbar\": {\"outlinewidth\": 0, \"ticks\": \"\"}}, \"type\": \"scatterpolargl\"}], \"scatterternary\": [{\"marker\": {\"colorbar\": {\"outlinewidth\": 0, \"ticks\": \"\"}}, \"type\": \"scatterternary\"}], \"surface\": [{\"colorbar\": {\"outlinewidth\": 0, \"ticks\": \"\"}, \"colorscale\": [[0.0, \"#0d0887\"], [0.1111111111111111, \"#46039f\"], [0.2222222222222222, \"#7201a8\"], [0.3333333333333333, \"#9c179e\"], [0.4444444444444444, \"#bd3786\"], [0.5555555555555556, \"#d8576b\"], [0.6666666666666666, \"#ed7953\"], [0.7777777777777778, \"#fb9f3a\"], [0.8888888888888888, \"#fdca26\"], [1.0, \"#f0f921\"]], \"type\": \"surface\"}], \"table\": [{\"cells\": {\"fill\": {\"color\": \"#EBF0F8\"}, \"line\": {\"color\": \"white\"}}, \"header\": {\"fill\": {\"color\": \"#C8D4E3\"}, \"line\": {\"color\": \"white\"}}, \"type\": \"table\"}]}, \"layout\": {\"annotationdefaults\": {\"arrowcolor\": \"#2a3f5f\", \"arrowhead\": 0, \"arrowwidth\": 1}, \"coloraxis\": {\"colorbar\": {\"outlinewidth\": 0, \"ticks\": \"\"}}, \"colorscale\": {\"diverging\": [[0, \"#8e0152\"], [0.1, \"#c51b7d\"], [0.2, \"#de77ae\"], [0.3, \"#f1b6da\"], [0.4, \"#fde0ef\"], [0.5, \"#f7f7f7\"], [0.6, \"#e6f5d0\"], [0.7, \"#b8e186\"], [0.8, \"#7fbc41\"], [0.9, \"#4d9221\"], [1, \"#276419\"]], \"sequential\": [[0.0, \"#0d0887\"], [0.1111111111111111, \"#46039f\"], [0.2222222222222222, \"#7201a8\"], [0.3333333333333333, \"#9c179e\"], [0.4444444444444444, \"#bd3786\"], [0.5555555555555556, \"#d8576b\"], [0.6666666666666666, \"#ed7953\"], [0.7777777777777778, \"#fb9f3a\"], [0.8888888888888888, \"#fdca26\"], [1.0, \"#f0f921\"]], \"sequentialminus\": [[0.0, \"#0d0887\"], [0.1111111111111111, \"#46039f\"], [0.2222222222222222, \"#7201a8\"], [0.3333333333333333, \"#9c179e\"], [0.4444444444444444, \"#bd3786\"], [0.5555555555555556, \"#d8576b\"], [0.6666666666666666, \"#ed7953\"], [0.7777777777777778, \"#fb9f3a\"], [0.8888888888888888, \"#fdca26\"], [1.0, \"#f0f921\"]]}, \"colorway\": [\"#636efa\", \"#EF553B\", \"#00cc96\", \"#ab63fa\", \"#FFA15A\", \"#19d3f3\", \"#FF6692\", \"#B6E880\", \"#FF97FF\", \"#FECB52\"], \"font\": {\"color\": \"#2a3f5f\"}, \"geo\": {\"bgcolor\": \"white\", \"lakecolor\": \"white\", \"landcolor\": \"#E5ECF6\", \"showlakes\": true, \"showland\": true, \"subunitcolor\": \"white\"}, \"hoverlabel\": {\"align\": \"left\"}, \"hovermode\": \"closest\", \"mapbox\": {\"style\": \"light\"}, \"paper_bgcolor\": \"white\", \"plot_bgcolor\": \"#E5ECF6\", \"polar\": {\"angularaxis\": {\"gridcolor\": \"white\", \"linecolor\": \"white\", \"ticks\": \"\"}, \"bgcolor\": \"#E5ECF6\", \"radialaxis\": {\"gridcolor\": \"white\", \"linecolor\": \"white\", \"ticks\": \"\"}}, \"scene\": {\"xaxis\": {\"backgroundcolor\": \"#E5ECF6\", \"gridcolor\": \"white\", \"gridwidth\": 2, \"linecolor\": \"white\", \"showbackground\": true, \"ticks\": \"\", \"zerolinecolor\": \"white\"}, \"yaxis\": {\"backgroundcolor\": \"#E5ECF6\", \"gridcolor\": \"white\", \"gridwidth\": 2, \"linecolor\": \"white\", \"showbackground\": true, \"ticks\": \"\", \"zerolinecolor\": \"white\"}, \"zaxis\": {\"backgroundcolor\": \"#E5ECF6\", \"gridcolor\": \"white\", \"gridwidth\": 2, \"linecolor\": \"white\", \"showbackground\": true, \"ticks\": \"\", \"zerolinecolor\": \"white\"}}, \"shapedefaults\": {\"line\": {\"color\": \"#2a3f5f\"}}, \"ternary\": {\"aaxis\": {\"gridcolor\": \"white\", \"linecolor\": \"white\", \"ticks\": \"\"}, \"baxis\": {\"gridcolor\": \"white\", \"linecolor\": \"white\", \"ticks\": \"\"}, \"bgcolor\": \"#E5ECF6\", \"caxis\": {\"gridcolor\": \"white\", \"linecolor\": \"white\", \"ticks\": \"\"}}, \"title\": {\"x\": 0.05}, \"xaxis\": {\"automargin\": true, \"gridcolor\": \"white\", \"linecolor\": \"white\", \"ticks\": \"\", \"title\": {\"standoff\": 15}, \"zerolinecolor\": \"white\", \"zerolinewidth\": 2}, \"yaxis\": {\"automargin\": true, \"gridcolor\": \"white\", \"linecolor\": \"white\", \"ticks\": \"\", \"title\": {\"standoff\": 15}, \"zerolinecolor\": \"white\", \"zerolinewidth\": 2}}}, \"title\": {\"text\": \"Caracteristicas : Relativa Importancia VS Importancia Permutada\"}, \"xaxis\": {\"showgrid\": false, \"title\": {\"text\": \"(Relativa)\"}}, \"yaxis\": {\"showgrid\": false, \"title\": {\"text\": \"Permutada\"}}},                        {\"responsive\": true}                    ).then(function(){\n",
       "                            \n",
       "var gd = document.getElementById('0673d309-082b-4baa-a648-03af3d04a1b6');\n",
       "var x = new MutationObserver(function (mutations, observer) {{\n",
       "        var display = window.getComputedStyle(gd).display;\n",
       "        if (!display || display === 'none') {{\n",
       "            console.log([gd, 'removed!']);\n",
       "            Plotly.purge(gd);\n",
       "            observer.disconnect();\n",
       "        }}\n",
       "}});\n",
       "\n",
       "// Listen for the removal of the full notebook cells\n",
       "var notebookContainer = gd.closest('#notebook-container');\n",
       "if (notebookContainer) {{\n",
       "    x.observe(notebookContainer, {childList: true});\n",
       "}}\n",
       "\n",
       "// Listen for the clearing of the current output cell\n",
       "var outputEl = gd.closest('.output');\n",
       "if (outputEl) {{\n",
       "    x.observe(outputEl, {childList: true});\n",
       "}}\n",
       "\n",
       "                        })                };                });            </script>        </div>"
      ]
     },
     "metadata": {},
     "output_type": "display_data"
    }
   ],
   "source": [
    "imp_df = feature_importances.reset_index().rename(columns = {\"index\" : \"feature\"})\n",
    "combined_df = imp_df.merge(pi_df, on=\"feature\")\n",
    "\n",
    "trace0 = go.Scatter(\n",
    "    x = combined_df.importance,\n",
    "    y = combined_df.weight,\n",
    "    text = [v.title() if i < 16 else \"\" for i,v in enumerate(list(combined_df.feature)) ],\n",
    "    mode='markers+text',\n",
    "    textposition='top center',\n",
    "    marker=dict(\n",
    "        size = 10, color=\"red\", opacity=0.5,\n",
    "    ),\n",
    ")\n",
    "\n",
    "trace1 = go.Scatter(\n",
    "    x=[0.034, 0.095],\n",
    "    y=[0.008, 0.020],\n",
    "    text=['Caracteristicas',\n",
    "          'Muy importantes caracteristicas'],\n",
    "    mode='text',\n",
    ")\n",
    "\n",
    "data = [trace0]\n",
    "layout = go.Layout(title = \"Caracteristicas : Relativa Importancia VS Importancia Permutada\", \n",
    "                   showlegend = False, yaxis=dict(title=\"(Permutada)\", showgrid=False),\n",
    "                   xaxis=dict(title=\"(Relativa)\", showgrid=False))\n",
    "#                       shapes = [{ 'type': 'circle', 'xref': 'x', 'yref': 'y',\n",
    "#                                   'x0': 0.024, 'y0': 0.007, 'x1': 0.045, 'y1': 0.001,'opacity': 1.0,\n",
    "#                                   'line': { 'color': 'rgba(50, 171, 96, 1)', 'dash': 'dot',}},\n",
    "#                                { 'type': 'rect', 'x0': 0.065, 'y0': 0.019, 'x1': 0.12, 'y1': 0.0002,\n",
    "#                                 'line': { 'color': 'rgba(128, 0, 128, 1)' , 'dash' : 'dot' }}])\n",
    "fig = go.Figure(data = data, layout = layout)\n",
    "iplot(fig, filename='bubblechart-size-ref')"
   ]
  },
  {
   "cell_type": "markdown",
   "metadata": {},
   "source": [
    "Inferencias\n",
    "\n",
    "- Se pueden obtener ideas muy interesantes de la gráfica anterior. Hay algunas características que se mostraron más altas en la importancia relativa de las características, pero cuando miramos su importancia de permutaciones, vemos que no son importantes. (Sin embargo, los resultados de la importancia de la permutación no se pueden reproducir exactamente debido a la aleatoriedad, pero cuando tracé esta gráfica por primera vez, observé que la semana y el mes lanzados tenían una alta importancia de características pero una menor importancia de permutación).\n",
    "- A partir de esta trama, nuevamente podemos observar que nuestra hipótesis es casi cierta, el objetivo del proyecto, la duración, el número de caracteres, el número de palabras son las características más importantes que uno debe tener en cuenta al crear una nueva página de proyecto."
   ]
  },
  {
   "cell_type": "markdown",
   "metadata": {},
   "source": [
    "## Presencia de qué palabras clave tienen el mayor impacto en las predicciones.\n",
    "Utilizando la importancia de la permutación, también podemos evaluar qué palabras clave tienen el mayor impacto en la predicción del modelo. Entrenemos otro modelo que también usa palabras clave utilizadas en el nombre del proyecto y observemos la importancia de la permutación."
   ]
  },
  {
   "cell_type": "code",
   "execution_count": 17,
   "metadata": {
    "scrolled": true
   },
   "outputs": [
    {
     "data": {
      "application/vnd.plotly.v1+json": {
       "config": {
        "linkText": "Export to plot.ly",
        "plotlyServerURL": "https://plot.ly",
        "showLink": false
       },
       "data": [
        {
         "error_x": {
          "array": [
           0.0006324555320336764,
           0,
           0.0006324555320336764,
           0,
           0,
           0,
           0,
           0.0008944271909999167,
           0,
           0.0010954451150103333,
           0.00040000000000000034,
           0.00040000000000000034,
           0.00040000000000000034,
           0.00040000000000000034,
           0
          ],
          "color": "#9fa3a3",
          "type": "data",
          "visible": true
         },
         "marker": {
          "color": "green",
          "opacity": 0.4
         },
         "orientation": "h",
         "type": "bar",
         "x": [
          0.0010000000000000009,
          0.0010000000000000009,
          0.0010000000000000009,
          0.0010000000000000009,
          0.0010000000000000009,
          0.0010000000000000009,
          0.0010000000000000009,
          0.0010000000000000009,
          0.0010000000000000009,
          0.0010000000000000009,
          0.001200000000000001,
          0.001200000000000001,
          0.001200000000000001,
          0.001200000000000001,
          0.0020000000000000018
         ],
         "xaxis": "x",
         "y": [
          "feature",
          "city",
          "story",
          "documentary",
          "kids",
          "feature film",
          "man",
          "new",
          "journey",
          "art",
          "design",
          "edition",
          "recording",
          "card",
          "band"
         ],
         "yaxis": "y"
        },
        {
         "error_x": {
          "array": [
           0.0004000000000000003,
           0.0004000000000000003,
           0.0004000000000000003,
           0.0004000000000000003,
           0.0004000000000000003,
           0.00040000000000000034,
           0.0007483314773547889,
           0.0004000000000000003,
           0.0004000000000000003,
           0.0004000000000000003,
           0.000489897948556636,
           0.0008000000000000007,
           0.000489897948556636,
           0.0014966629547095778,
           0.00040000000000000034
          ],
          "color": "#9fa3a3",
          "type": "data",
          "visible": true
         },
         "marker": {
          "color": "yellow",
          "opacity": 0.4
         },
         "orientation": "h",
         "type": "bar",
         "x": [
          0.00020000000000000017,
          0.00020000000000000017,
          0.00020000000000000017,
          0.00020000000000000017,
          0.00020000000000000017,
          0.00020000000000000017,
          0.00020000000000000017,
          0.00020000000000000017,
          0.00020000000000000017,
          0.00020000000000000017,
          0.00040000000000000034,
          0.00040000000000000034,
          0.00040000000000000034,
          0.0006000000000000005,
          0.0008000000000000007
         ],
         "xaxis": "x3",
         "y": [
          "time",
          "dance",
          "release",
          "black",
          "love",
          "launch",
          "cd",
          "free",
          "horror",
          "coffee",
          "new album",
          "film",
          "live",
          "make",
          "record"
         ],
         "yaxis": "y3"
        },
        {
         "error_x": {
          "array": [
           0.001264911064067353,
           0.000489897948556636,
           0.0006324555320336764,
           0.0008000000000000007,
           0.0018547236990991425,
           0.0004898979485566361,
           0.0007483314773547889,
           0.0007483314773547889,
           0.00040000000000000034,
           0.00040000000000000034,
           0.0006324555320336764,
           0,
           0,
           0,
           0.0008944271909999167,
           0.0004000000000000003,
           0.00040000000000000034,
           0.0009797958971132722,
           0.000979795897113272,
           0.00040000000000000034,
           0.001496662954709578,
           0.0004898979485566361,
           0.0004898979485566361,
           0.0013564659966250547
          ],
          "color": "#9fa3a3",
          "type": "data",
          "visible": true
         },
         "marker": {
          "color": "red",
          "opacity": 0.4
         },
         "orientation": "h",
         "type": "bar",
         "x": [
          -0.0006000000000000005,
          -0.0006000000000000005,
          -0.0006000000000000005,
          -0.0006000000000000005,
          -0.0008000000000000007,
          -0.0008000000000000007,
          -0.0008000000000000007,
          -0.0008000000000000007,
          -0.0008000000000000007,
          -0.0010000000000000009,
          -0.0010000000000000009,
          -0.0010000000000000009,
          -0.0010000000000000009,
          -0.0010000000000000009,
          -0.001200000000000001,
          -0.001200000000000001,
          -0.001200000000000001,
          -0.001200000000000001,
          -0.0014000000000000013,
          -0.0014000000000000013,
          -0.0016000000000000014,
          -0.0020000000000000018,
          -0.0026000000000000025,
          -0.0030000000000000027
         ],
         "xaxis": "x5",
         "y": [
          "video",
          "music",
          "dream",
          "project",
          "tour",
          "short",
          "series",
          "cards",
          "magazine",
          "debut",
          "season",
          "length",
          "music video",
          "play",
          "artist",
          "home",
          "children",
          "help",
          "short film",
          "album",
          "game",
          "ep",
          "playing",
          "book"
         ],
         "yaxis": "y5"
        }
       ],
       "layout": {
        "annotations": [
         {
          "font": {
           "size": 16
          },
          "showarrow": false,
          "text": "Impacto Positivo",
          "x": 0.08399999999999999,
          "xanchor": "center",
          "xref": "paper",
          "y": 1,
          "yanchor": "bottom",
          "yref": "paper"
         },
         {
          "font": {
           "size": 16
          },
          "showarrow": false,
          "text": "Moderado",
          "x": 0.5,
          "xanchor": "center",
          "xref": "paper",
          "y": 1,
          "yanchor": "bottom",
          "yref": "paper"
         },
         {
          "font": {
           "size": 16
          },
          "showarrow": false,
          "text": "Impacto Negativo",
          "x": 0.9159999999999999,
          "xanchor": "center",
          "xref": "paper",
          "y": 1,
          "yanchor": "bottom",
          "yref": "paper"
         }
        ],
        "showlegend": false,
        "template": {
         "data": {
          "bar": [
           {
            "error_x": {
             "color": "#2a3f5f"
            },
            "error_y": {
             "color": "#2a3f5f"
            },
            "marker": {
             "line": {
              "color": "#E5ECF6",
              "width": 0.5
             }
            },
            "type": "bar"
           }
          ],
          "barpolar": [
           {
            "marker": {
             "line": {
              "color": "#E5ECF6",
              "width": 0.5
             }
            },
            "type": "barpolar"
           }
          ],
          "carpet": [
           {
            "aaxis": {
             "endlinecolor": "#2a3f5f",
             "gridcolor": "white",
             "linecolor": "white",
             "minorgridcolor": "white",
             "startlinecolor": "#2a3f5f"
            },
            "baxis": {
             "endlinecolor": "#2a3f5f",
             "gridcolor": "white",
             "linecolor": "white",
             "minorgridcolor": "white",
             "startlinecolor": "#2a3f5f"
            },
            "type": "carpet"
           }
          ],
          "choropleth": [
           {
            "colorbar": {
             "outlinewidth": 0,
             "ticks": ""
            },
            "type": "choropleth"
           }
          ],
          "contour": [
           {
            "colorbar": {
             "outlinewidth": 0,
             "ticks": ""
            },
            "colorscale": [
             [
              0,
              "#0d0887"
             ],
             [
              0.1111111111111111,
              "#46039f"
             ],
             [
              0.2222222222222222,
              "#7201a8"
             ],
             [
              0.3333333333333333,
              "#9c179e"
             ],
             [
              0.4444444444444444,
              "#bd3786"
             ],
             [
              0.5555555555555556,
              "#d8576b"
             ],
             [
              0.6666666666666666,
              "#ed7953"
             ],
             [
              0.7777777777777778,
              "#fb9f3a"
             ],
             [
              0.8888888888888888,
              "#fdca26"
             ],
             [
              1,
              "#f0f921"
             ]
            ],
            "type": "contour"
           }
          ],
          "contourcarpet": [
           {
            "colorbar": {
             "outlinewidth": 0,
             "ticks": ""
            },
            "type": "contourcarpet"
           }
          ],
          "heatmap": [
           {
            "colorbar": {
             "outlinewidth": 0,
             "ticks": ""
            },
            "colorscale": [
             [
              0,
              "#0d0887"
             ],
             [
              0.1111111111111111,
              "#46039f"
             ],
             [
              0.2222222222222222,
              "#7201a8"
             ],
             [
              0.3333333333333333,
              "#9c179e"
             ],
             [
              0.4444444444444444,
              "#bd3786"
             ],
             [
              0.5555555555555556,
              "#d8576b"
             ],
             [
              0.6666666666666666,
              "#ed7953"
             ],
             [
              0.7777777777777778,
              "#fb9f3a"
             ],
             [
              0.8888888888888888,
              "#fdca26"
             ],
             [
              1,
              "#f0f921"
             ]
            ],
            "type": "heatmap"
           }
          ],
          "heatmapgl": [
           {
            "colorbar": {
             "outlinewidth": 0,
             "ticks": ""
            },
            "colorscale": [
             [
              0,
              "#0d0887"
             ],
             [
              0.1111111111111111,
              "#46039f"
             ],
             [
              0.2222222222222222,
              "#7201a8"
             ],
             [
              0.3333333333333333,
              "#9c179e"
             ],
             [
              0.4444444444444444,
              "#bd3786"
             ],
             [
              0.5555555555555556,
              "#d8576b"
             ],
             [
              0.6666666666666666,
              "#ed7953"
             ],
             [
              0.7777777777777778,
              "#fb9f3a"
             ],
             [
              0.8888888888888888,
              "#fdca26"
             ],
             [
              1,
              "#f0f921"
             ]
            ],
            "type": "heatmapgl"
           }
          ],
          "histogram": [
           {
            "marker": {
             "colorbar": {
              "outlinewidth": 0,
              "ticks": ""
             }
            },
            "type": "histogram"
           }
          ],
          "histogram2d": [
           {
            "colorbar": {
             "outlinewidth": 0,
             "ticks": ""
            },
            "colorscale": [
             [
              0,
              "#0d0887"
             ],
             [
              0.1111111111111111,
              "#46039f"
             ],
             [
              0.2222222222222222,
              "#7201a8"
             ],
             [
              0.3333333333333333,
              "#9c179e"
             ],
             [
              0.4444444444444444,
              "#bd3786"
             ],
             [
              0.5555555555555556,
              "#d8576b"
             ],
             [
              0.6666666666666666,
              "#ed7953"
             ],
             [
              0.7777777777777778,
              "#fb9f3a"
             ],
             [
              0.8888888888888888,
              "#fdca26"
             ],
             [
              1,
              "#f0f921"
             ]
            ],
            "type": "histogram2d"
           }
          ],
          "histogram2dcontour": [
           {
            "colorbar": {
             "outlinewidth": 0,
             "ticks": ""
            },
            "colorscale": [
             [
              0,
              "#0d0887"
             ],
             [
              0.1111111111111111,
              "#46039f"
             ],
             [
              0.2222222222222222,
              "#7201a8"
             ],
             [
              0.3333333333333333,
              "#9c179e"
             ],
             [
              0.4444444444444444,
              "#bd3786"
             ],
             [
              0.5555555555555556,
              "#d8576b"
             ],
             [
              0.6666666666666666,
              "#ed7953"
             ],
             [
              0.7777777777777778,
              "#fb9f3a"
             ],
             [
              0.8888888888888888,
              "#fdca26"
             ],
             [
              1,
              "#f0f921"
             ]
            ],
            "type": "histogram2dcontour"
           }
          ],
          "mesh3d": [
           {
            "colorbar": {
             "outlinewidth": 0,
             "ticks": ""
            },
            "type": "mesh3d"
           }
          ],
          "parcoords": [
           {
            "line": {
             "colorbar": {
              "outlinewidth": 0,
              "ticks": ""
             }
            },
            "type": "parcoords"
           }
          ],
          "pie": [
           {
            "automargin": true,
            "type": "pie"
           }
          ],
          "scatter": [
           {
            "marker": {
             "colorbar": {
              "outlinewidth": 0,
              "ticks": ""
             }
            },
            "type": "scatter"
           }
          ],
          "scatter3d": [
           {
            "line": {
             "colorbar": {
              "outlinewidth": 0,
              "ticks": ""
             }
            },
            "marker": {
             "colorbar": {
              "outlinewidth": 0,
              "ticks": ""
             }
            },
            "type": "scatter3d"
           }
          ],
          "scattercarpet": [
           {
            "marker": {
             "colorbar": {
              "outlinewidth": 0,
              "ticks": ""
             }
            },
            "type": "scattercarpet"
           }
          ],
          "scattergeo": [
           {
            "marker": {
             "colorbar": {
              "outlinewidth": 0,
              "ticks": ""
             }
            },
            "type": "scattergeo"
           }
          ],
          "scattergl": [
           {
            "marker": {
             "colorbar": {
              "outlinewidth": 0,
              "ticks": ""
             }
            },
            "type": "scattergl"
           }
          ],
          "scattermapbox": [
           {
            "marker": {
             "colorbar": {
              "outlinewidth": 0,
              "ticks": ""
             }
            },
            "type": "scattermapbox"
           }
          ],
          "scatterpolar": [
           {
            "marker": {
             "colorbar": {
              "outlinewidth": 0,
              "ticks": ""
             }
            },
            "type": "scatterpolar"
           }
          ],
          "scatterpolargl": [
           {
            "marker": {
             "colorbar": {
              "outlinewidth": 0,
              "ticks": ""
             }
            },
            "type": "scatterpolargl"
           }
          ],
          "scatterternary": [
           {
            "marker": {
             "colorbar": {
              "outlinewidth": 0,
              "ticks": ""
             }
            },
            "type": "scatterternary"
           }
          ],
          "surface": [
           {
            "colorbar": {
             "outlinewidth": 0,
             "ticks": ""
            },
            "colorscale": [
             [
              0,
              "#0d0887"
             ],
             [
              0.1111111111111111,
              "#46039f"
             ],
             [
              0.2222222222222222,
              "#7201a8"
             ],
             [
              0.3333333333333333,
              "#9c179e"
             ],
             [
              0.4444444444444444,
              "#bd3786"
             ],
             [
              0.5555555555555556,
              "#d8576b"
             ],
             [
              0.6666666666666666,
              "#ed7953"
             ],
             [
              0.7777777777777778,
              "#fb9f3a"
             ],
             [
              0.8888888888888888,
              "#fdca26"
             ],
             [
              1,
              "#f0f921"
             ]
            ],
            "type": "surface"
           }
          ],
          "table": [
           {
            "cells": {
             "fill": {
              "color": "#EBF0F8"
             },
             "line": {
              "color": "white"
             }
            },
            "header": {
             "fill": {
              "color": "#C8D4E3"
             },
             "line": {
              "color": "white"
             }
            },
            "type": "table"
           }
          ]
         },
         "layout": {
          "annotationdefaults": {
           "arrowcolor": "#2a3f5f",
           "arrowhead": 0,
           "arrowwidth": 1
          },
          "coloraxis": {
           "colorbar": {
            "outlinewidth": 0,
            "ticks": ""
           }
          },
          "colorscale": {
           "diverging": [
            [
             0,
             "#8e0152"
            ],
            [
             0.1,
             "#c51b7d"
            ],
            [
             0.2,
             "#de77ae"
            ],
            [
             0.3,
             "#f1b6da"
            ],
            [
             0.4,
             "#fde0ef"
            ],
            [
             0.5,
             "#f7f7f7"
            ],
            [
             0.6,
             "#e6f5d0"
            ],
            [
             0.7,
             "#b8e186"
            ],
            [
             0.8,
             "#7fbc41"
            ],
            [
             0.9,
             "#4d9221"
            ],
            [
             1,
             "#276419"
            ]
           ],
           "sequential": [
            [
             0,
             "#0d0887"
            ],
            [
             0.1111111111111111,
             "#46039f"
            ],
            [
             0.2222222222222222,
             "#7201a8"
            ],
            [
             0.3333333333333333,
             "#9c179e"
            ],
            [
             0.4444444444444444,
             "#bd3786"
            ],
            [
             0.5555555555555556,
             "#d8576b"
            ],
            [
             0.6666666666666666,
             "#ed7953"
            ],
            [
             0.7777777777777778,
             "#fb9f3a"
            ],
            [
             0.8888888888888888,
             "#fdca26"
            ],
            [
             1,
             "#f0f921"
            ]
           ],
           "sequentialminus": [
            [
             0,
             "#0d0887"
            ],
            [
             0.1111111111111111,
             "#46039f"
            ],
            [
             0.2222222222222222,
             "#7201a8"
            ],
            [
             0.3333333333333333,
             "#9c179e"
            ],
            [
             0.4444444444444444,
             "#bd3786"
            ],
            [
             0.5555555555555556,
             "#d8576b"
            ],
            [
             0.6666666666666666,
             "#ed7953"
            ],
            [
             0.7777777777777778,
             "#fb9f3a"
            ],
            [
             0.8888888888888888,
             "#fdca26"
            ],
            [
             1,
             "#f0f921"
            ]
           ]
          },
          "colorway": [
           "#636efa",
           "#EF553B",
           "#00cc96",
           "#ab63fa",
           "#FFA15A",
           "#19d3f3",
           "#FF6692",
           "#B6E880",
           "#FF97FF",
           "#FECB52"
          ],
          "font": {
           "color": "#2a3f5f"
          },
          "geo": {
           "bgcolor": "white",
           "lakecolor": "white",
           "landcolor": "#E5ECF6",
           "showlakes": true,
           "showland": true,
           "subunitcolor": "white"
          },
          "hoverlabel": {
           "align": "left"
          },
          "hovermode": "closest",
          "mapbox": {
           "style": "light"
          },
          "paper_bgcolor": "white",
          "plot_bgcolor": "#E5ECF6",
          "polar": {
           "angularaxis": {
            "gridcolor": "white",
            "linecolor": "white",
            "ticks": ""
           },
           "bgcolor": "#E5ECF6",
           "radialaxis": {
            "gridcolor": "white",
            "linecolor": "white",
            "ticks": ""
           }
          },
          "scene": {
           "xaxis": {
            "backgroundcolor": "#E5ECF6",
            "gridcolor": "white",
            "gridwidth": 2,
            "linecolor": "white",
            "showbackground": true,
            "ticks": "",
            "zerolinecolor": "white"
           },
           "yaxis": {
            "backgroundcolor": "#E5ECF6",
            "gridcolor": "white",
            "gridwidth": 2,
            "linecolor": "white",
            "showbackground": true,
            "ticks": "",
            "zerolinecolor": "white"
           },
           "zaxis": {
            "backgroundcolor": "#E5ECF6",
            "gridcolor": "white",
            "gridwidth": 2,
            "linecolor": "white",
            "showbackground": true,
            "ticks": "",
            "zerolinecolor": "white"
           }
          },
          "shapedefaults": {
           "line": {
            "color": "#2a3f5f"
           }
          },
          "ternary": {
           "aaxis": {
            "gridcolor": "white",
            "linecolor": "white",
            "ticks": ""
           },
           "baxis": {
            "gridcolor": "white",
            "linecolor": "white",
            "ticks": ""
           },
           "bgcolor": "#E5ECF6",
           "caxis": {
            "gridcolor": "white",
            "linecolor": "white",
            "ticks": ""
           }
          },
          "title": {
           "x": 0.05
          },
          "xaxis": {
           "automargin": true,
           "gridcolor": "white",
           "linecolor": "white",
           "ticks": "",
           "title": {
            "standoff": 15
           },
           "zerolinecolor": "white",
           "zerolinewidth": 2
          },
          "yaxis": {
           "automargin": true,
           "gridcolor": "white",
           "linecolor": "white",
           "ticks": "",
           "title": {
            "standoff": 15
           },
           "zerolinecolor": "white",
           "zerolinewidth": 2
          }
         }
        },
        "title": {
         "text": "Impacto de las palabras usadas en la descripcion - Permutation Importance"
        },
        "xaxis": {
         "anchor": "y",
         "domain": [
          0,
          0.16799999999999998
         ]
        },
        "xaxis2": {
         "anchor": "y2",
         "domain": [
          0.208,
          0.376
         ]
        },
        "xaxis3": {
         "anchor": "y3",
         "domain": [
          0.416,
          0.584
         ]
        },
        "xaxis4": {
         "anchor": "y4",
         "domain": [
          0.624,
          0.792
         ]
        },
        "xaxis5": {
         "anchor": "y5",
         "domain": [
          0.832,
          1
         ]
        },
        "yaxis": {
         "anchor": "x",
         "domain": [
          0,
          1
         ]
        },
        "yaxis2": {
         "anchor": "x2",
         "domain": [
          0,
          1
         ]
        },
        "yaxis3": {
         "anchor": "x3",
         "domain": [
          0,
          1
         ]
        },
        "yaxis4": {
         "anchor": "x4",
         "domain": [
          0,
          1
         ]
        },
        "yaxis5": {
         "anchor": "x5",
         "domain": [
          0,
          1
         ]
        }
       }
      },
      "text/html": [
       "<div>                            <div id=\"93d63544-36ce-4a45-8fbf-367f54c53906\" class=\"plotly-graph-div\" style=\"height:525px; width:100%;\"></div>            <script type=\"text/javascript\">                require([\"plotly\"], function(Plotly) {                    window.PLOTLYENV=window.PLOTLYENV || {};                                    if (document.getElementById(\"93d63544-36ce-4a45-8fbf-367f54c53906\")) {                    Plotly.newPlot(                        \"93d63544-36ce-4a45-8fbf-367f54c53906\",                        [{\"error_x\": {\"array\": [0.0006324555320336764, 0.0, 0.0006324555320336764, 0.0, 0.0, 0.0, 0.0, 0.0008944271909999167, 0.0, 0.0010954451150103333, 0.00040000000000000034, 0.00040000000000000034, 0.00040000000000000034, 0.00040000000000000034, 0.0], \"color\": \"#9fa3a3\", \"type\": \"data\", \"visible\": true}, \"marker\": {\"color\": \"green\", \"opacity\": 0.4}, \"orientation\": \"h\", \"type\": \"bar\", \"x\": [0.0010000000000000009, 0.0010000000000000009, 0.0010000000000000009, 0.0010000000000000009, 0.0010000000000000009, 0.0010000000000000009, 0.0010000000000000009, 0.0010000000000000009, 0.0010000000000000009, 0.0010000000000000009, 0.001200000000000001, 0.001200000000000001, 0.001200000000000001, 0.001200000000000001, 0.0020000000000000018], \"xaxis\": \"x\", \"y\": [\"feature\", \"city\", \"story\", \"documentary\", \"kids\", \"feature film\", \"man\", \"new\", \"journey\", \"art\", \"design\", \"edition\", \"recording\", \"card\", \"band\"], \"yaxis\": \"y\"}, {\"error_x\": {\"array\": [0.0004000000000000003, 0.0004000000000000003, 0.0004000000000000003, 0.0004000000000000003, 0.0004000000000000003, 0.00040000000000000034, 0.0007483314773547889, 0.0004000000000000003, 0.0004000000000000003, 0.0004000000000000003, 0.000489897948556636, 0.0008000000000000007, 0.000489897948556636, 0.0014966629547095778, 0.00040000000000000034], \"color\": \"#9fa3a3\", \"type\": \"data\", \"visible\": true}, \"marker\": {\"color\": \"yellow\", \"opacity\": 0.4}, \"orientation\": \"h\", \"type\": \"bar\", \"x\": [0.00020000000000000017, 0.00020000000000000017, 0.00020000000000000017, 0.00020000000000000017, 0.00020000000000000017, 0.00020000000000000017, 0.00020000000000000017, 0.00020000000000000017, 0.00020000000000000017, 0.00020000000000000017, 0.00040000000000000034, 0.00040000000000000034, 0.00040000000000000034, 0.0006000000000000005, 0.0008000000000000007], \"xaxis\": \"x3\", \"y\": [\"time\", \"dance\", \"release\", \"black\", \"love\", \"launch\", \"cd\", \"free\", \"horror\", \"coffee\", \"new album\", \"film\", \"live\", \"make\", \"record\"], \"yaxis\": \"y3\"}, {\"error_x\": {\"array\": [0.001264911064067353, 0.000489897948556636, 0.0006324555320336764, 0.0008000000000000007, 0.0018547236990991425, 0.0004898979485566361, 0.0007483314773547889, 0.0007483314773547889, 0.00040000000000000034, 0.00040000000000000034, 0.0006324555320336764, 0.0, 0.0, 0.0, 0.0008944271909999167, 0.0004000000000000003, 0.00040000000000000034, 0.0009797958971132722, 0.000979795897113272, 0.00040000000000000034, 0.001496662954709578, 0.0004898979485566361, 0.0004898979485566361, 0.0013564659966250547], \"color\": \"#9fa3a3\", \"type\": \"data\", \"visible\": true}, \"marker\": {\"color\": \"red\", \"opacity\": 0.4}, \"orientation\": \"h\", \"type\": \"bar\", \"x\": [-0.0006000000000000005, -0.0006000000000000005, -0.0006000000000000005, -0.0006000000000000005, -0.0008000000000000007, -0.0008000000000000007, -0.0008000000000000007, -0.0008000000000000007, -0.0008000000000000007, -0.0010000000000000009, -0.0010000000000000009, -0.0010000000000000009, -0.0010000000000000009, -0.0010000000000000009, -0.001200000000000001, -0.001200000000000001, -0.001200000000000001, -0.001200000000000001, -0.0014000000000000013, -0.0014000000000000013, -0.0016000000000000014, -0.0020000000000000018, -0.0026000000000000025, -0.0030000000000000027], \"xaxis\": \"x5\", \"y\": [\"video\", \"music\", \"dream\", \"project\", \"tour\", \"short\", \"series\", \"cards\", \"magazine\", \"debut\", \"season\", \"length\", \"music video\", \"play\", \"artist\", \"home\", \"children\", \"help\", \"short film\", \"album\", \"game\", \"ep\", \"playing\", \"book\"], \"yaxis\": \"y5\"}],                        {\"annotations\": [{\"font\": {\"size\": 16}, \"showarrow\": false, \"text\": \"Impacto Positivo\", \"x\": 0.08399999999999999, \"xanchor\": \"center\", \"xref\": \"paper\", \"y\": 1.0, \"yanchor\": \"bottom\", \"yref\": \"paper\"}, {\"font\": {\"size\": 16}, \"showarrow\": false, \"text\": \"Moderado\", \"x\": 0.5, \"xanchor\": \"center\", \"xref\": \"paper\", \"y\": 1.0, \"yanchor\": \"bottom\", \"yref\": \"paper\"}, {\"font\": {\"size\": 16}, \"showarrow\": false, \"text\": \"Impacto Negativo\", \"x\": 0.9159999999999999, \"xanchor\": \"center\", \"xref\": \"paper\", \"y\": 1.0, \"yanchor\": \"bottom\", \"yref\": \"paper\"}], \"showlegend\": false, \"template\": {\"data\": {\"bar\": [{\"error_x\": {\"color\": \"#2a3f5f\"}, \"error_y\": {\"color\": \"#2a3f5f\"}, \"marker\": {\"line\": {\"color\": \"#E5ECF6\", \"width\": 0.5}}, \"type\": \"bar\"}], \"barpolar\": [{\"marker\": {\"line\": {\"color\": \"#E5ECF6\", \"width\": 0.5}}, \"type\": \"barpolar\"}], \"carpet\": [{\"aaxis\": {\"endlinecolor\": \"#2a3f5f\", \"gridcolor\": \"white\", \"linecolor\": \"white\", \"minorgridcolor\": \"white\", \"startlinecolor\": \"#2a3f5f\"}, \"baxis\": {\"endlinecolor\": \"#2a3f5f\", \"gridcolor\": \"white\", \"linecolor\": \"white\", \"minorgridcolor\": \"white\", \"startlinecolor\": \"#2a3f5f\"}, \"type\": \"carpet\"}], \"choropleth\": [{\"colorbar\": {\"outlinewidth\": 0, \"ticks\": \"\"}, \"type\": \"choropleth\"}], \"contour\": [{\"colorbar\": {\"outlinewidth\": 0, \"ticks\": \"\"}, \"colorscale\": [[0.0, \"#0d0887\"], [0.1111111111111111, \"#46039f\"], [0.2222222222222222, \"#7201a8\"], [0.3333333333333333, \"#9c179e\"], [0.4444444444444444, \"#bd3786\"], [0.5555555555555556, \"#d8576b\"], [0.6666666666666666, \"#ed7953\"], [0.7777777777777778, \"#fb9f3a\"], [0.8888888888888888, \"#fdca26\"], [1.0, \"#f0f921\"]], \"type\": \"contour\"}], \"contourcarpet\": [{\"colorbar\": {\"outlinewidth\": 0, \"ticks\": \"\"}, \"type\": \"contourcarpet\"}], \"heatmap\": [{\"colorbar\": {\"outlinewidth\": 0, \"ticks\": \"\"}, \"colorscale\": [[0.0, \"#0d0887\"], [0.1111111111111111, \"#46039f\"], [0.2222222222222222, \"#7201a8\"], [0.3333333333333333, \"#9c179e\"], [0.4444444444444444, \"#bd3786\"], [0.5555555555555556, \"#d8576b\"], [0.6666666666666666, \"#ed7953\"], [0.7777777777777778, \"#fb9f3a\"], [0.8888888888888888, \"#fdca26\"], [1.0, \"#f0f921\"]], \"type\": \"heatmap\"}], \"heatmapgl\": [{\"colorbar\": {\"outlinewidth\": 0, \"ticks\": \"\"}, \"colorscale\": [[0.0, \"#0d0887\"], [0.1111111111111111, \"#46039f\"], [0.2222222222222222, \"#7201a8\"], [0.3333333333333333, \"#9c179e\"], [0.4444444444444444, \"#bd3786\"], [0.5555555555555556, \"#d8576b\"], [0.6666666666666666, \"#ed7953\"], [0.7777777777777778, \"#fb9f3a\"], [0.8888888888888888, \"#fdca26\"], [1.0, \"#f0f921\"]], \"type\": \"heatmapgl\"}], \"histogram\": [{\"marker\": {\"colorbar\": {\"outlinewidth\": 0, \"ticks\": \"\"}}, \"type\": \"histogram\"}], \"histogram2d\": [{\"colorbar\": {\"outlinewidth\": 0, \"ticks\": \"\"}, \"colorscale\": [[0.0, \"#0d0887\"], [0.1111111111111111, \"#46039f\"], [0.2222222222222222, \"#7201a8\"], [0.3333333333333333, \"#9c179e\"], [0.4444444444444444, \"#bd3786\"], [0.5555555555555556, \"#d8576b\"], [0.6666666666666666, \"#ed7953\"], [0.7777777777777778, \"#fb9f3a\"], [0.8888888888888888, \"#fdca26\"], [1.0, \"#f0f921\"]], \"type\": \"histogram2d\"}], \"histogram2dcontour\": [{\"colorbar\": {\"outlinewidth\": 0, \"ticks\": \"\"}, \"colorscale\": [[0.0, \"#0d0887\"], [0.1111111111111111, \"#46039f\"], [0.2222222222222222, \"#7201a8\"], [0.3333333333333333, \"#9c179e\"], [0.4444444444444444, \"#bd3786\"], [0.5555555555555556, \"#d8576b\"], [0.6666666666666666, \"#ed7953\"], [0.7777777777777778, \"#fb9f3a\"], [0.8888888888888888, \"#fdca26\"], [1.0, \"#f0f921\"]], \"type\": \"histogram2dcontour\"}], \"mesh3d\": [{\"colorbar\": {\"outlinewidth\": 0, \"ticks\": \"\"}, \"type\": \"mesh3d\"}], \"parcoords\": [{\"line\": {\"colorbar\": {\"outlinewidth\": 0, \"ticks\": \"\"}}, \"type\": \"parcoords\"}], \"pie\": [{\"automargin\": true, \"type\": \"pie\"}], \"scatter\": [{\"marker\": {\"colorbar\": {\"outlinewidth\": 0, \"ticks\": \"\"}}, \"type\": \"scatter\"}], \"scatter3d\": [{\"line\": {\"colorbar\": {\"outlinewidth\": 0, \"ticks\": \"\"}}, \"marker\": {\"colorbar\": {\"outlinewidth\": 0, \"ticks\": \"\"}}, \"type\": \"scatter3d\"}], \"scattercarpet\": [{\"marker\": {\"colorbar\": {\"outlinewidth\": 0, \"ticks\": \"\"}}, \"type\": \"scattercarpet\"}], \"scattergeo\": [{\"marker\": {\"colorbar\": {\"outlinewidth\": 0, \"ticks\": \"\"}}, \"type\": \"scattergeo\"}], \"scattergl\": [{\"marker\": {\"colorbar\": {\"outlinewidth\": 0, \"ticks\": \"\"}}, \"type\": \"scattergl\"}], \"scattermapbox\": [{\"marker\": {\"colorbar\": {\"outlinewidth\": 0, \"ticks\": \"\"}}, \"type\": \"scattermapbox\"}], \"scatterpolar\": [{\"marker\": {\"colorbar\": {\"outlinewidth\": 0, \"ticks\": \"\"}}, \"type\": \"scatterpolar\"}], \"scatterpolargl\": [{\"marker\": {\"colorbar\": {\"outlinewidth\": 0, \"ticks\": \"\"}}, \"type\": \"scatterpolargl\"}], \"scatterternary\": [{\"marker\": {\"colorbar\": {\"outlinewidth\": 0, \"ticks\": \"\"}}, \"type\": \"scatterternary\"}], \"surface\": [{\"colorbar\": {\"outlinewidth\": 0, \"ticks\": \"\"}, \"colorscale\": [[0.0, \"#0d0887\"], [0.1111111111111111, \"#46039f\"], [0.2222222222222222, \"#7201a8\"], [0.3333333333333333, \"#9c179e\"], [0.4444444444444444, \"#bd3786\"], [0.5555555555555556, \"#d8576b\"], [0.6666666666666666, \"#ed7953\"], [0.7777777777777778, \"#fb9f3a\"], [0.8888888888888888, \"#fdca26\"], [1.0, \"#f0f921\"]], \"type\": \"surface\"}], \"table\": [{\"cells\": {\"fill\": {\"color\": \"#EBF0F8\"}, \"line\": {\"color\": \"white\"}}, \"header\": {\"fill\": {\"color\": \"#C8D4E3\"}, \"line\": {\"color\": \"white\"}}, \"type\": \"table\"}]}, \"layout\": {\"annotationdefaults\": {\"arrowcolor\": \"#2a3f5f\", \"arrowhead\": 0, \"arrowwidth\": 1}, \"coloraxis\": {\"colorbar\": {\"outlinewidth\": 0, \"ticks\": \"\"}}, \"colorscale\": {\"diverging\": [[0, \"#8e0152\"], [0.1, \"#c51b7d\"], [0.2, \"#de77ae\"], [0.3, \"#f1b6da\"], [0.4, \"#fde0ef\"], [0.5, \"#f7f7f7\"], [0.6, \"#e6f5d0\"], [0.7, \"#b8e186\"], [0.8, \"#7fbc41\"], [0.9, \"#4d9221\"], [1, \"#276419\"]], \"sequential\": [[0.0, \"#0d0887\"], [0.1111111111111111, \"#46039f\"], [0.2222222222222222, \"#7201a8\"], [0.3333333333333333, \"#9c179e\"], [0.4444444444444444, \"#bd3786\"], [0.5555555555555556, \"#d8576b\"], [0.6666666666666666, \"#ed7953\"], [0.7777777777777778, \"#fb9f3a\"], [0.8888888888888888, \"#fdca26\"], [1.0, \"#f0f921\"]], \"sequentialminus\": [[0.0, \"#0d0887\"], [0.1111111111111111, \"#46039f\"], [0.2222222222222222, \"#7201a8\"], [0.3333333333333333, \"#9c179e\"], [0.4444444444444444, \"#bd3786\"], [0.5555555555555556, \"#d8576b\"], [0.6666666666666666, \"#ed7953\"], [0.7777777777777778, \"#fb9f3a\"], [0.8888888888888888, \"#fdca26\"], [1.0, \"#f0f921\"]]}, \"colorway\": [\"#636efa\", \"#EF553B\", \"#00cc96\", \"#ab63fa\", \"#FFA15A\", \"#19d3f3\", \"#FF6692\", \"#B6E880\", \"#FF97FF\", \"#FECB52\"], \"font\": {\"color\": \"#2a3f5f\"}, \"geo\": {\"bgcolor\": \"white\", \"lakecolor\": \"white\", \"landcolor\": \"#E5ECF6\", \"showlakes\": true, \"showland\": true, \"subunitcolor\": \"white\"}, \"hoverlabel\": {\"align\": \"left\"}, \"hovermode\": \"closest\", \"mapbox\": {\"style\": \"light\"}, \"paper_bgcolor\": \"white\", \"plot_bgcolor\": \"#E5ECF6\", \"polar\": {\"angularaxis\": {\"gridcolor\": \"white\", \"linecolor\": \"white\", \"ticks\": \"\"}, \"bgcolor\": \"#E5ECF6\", \"radialaxis\": {\"gridcolor\": \"white\", \"linecolor\": \"white\", \"ticks\": \"\"}}, \"scene\": {\"xaxis\": {\"backgroundcolor\": \"#E5ECF6\", \"gridcolor\": \"white\", \"gridwidth\": 2, \"linecolor\": \"white\", \"showbackground\": true, \"ticks\": \"\", \"zerolinecolor\": \"white\"}, \"yaxis\": {\"backgroundcolor\": \"#E5ECF6\", \"gridcolor\": \"white\", \"gridwidth\": 2, \"linecolor\": \"white\", \"showbackground\": true, \"ticks\": \"\", \"zerolinecolor\": \"white\"}, \"zaxis\": {\"backgroundcolor\": \"#E5ECF6\", \"gridcolor\": \"white\", \"gridwidth\": 2, \"linecolor\": \"white\", \"showbackground\": true, \"ticks\": \"\", \"zerolinecolor\": \"white\"}}, \"shapedefaults\": {\"line\": {\"color\": \"#2a3f5f\"}}, \"ternary\": {\"aaxis\": {\"gridcolor\": \"white\", \"linecolor\": \"white\", \"ticks\": \"\"}, \"baxis\": {\"gridcolor\": \"white\", \"linecolor\": \"white\", \"ticks\": \"\"}, \"bgcolor\": \"#E5ECF6\", \"caxis\": {\"gridcolor\": \"white\", \"linecolor\": \"white\", \"ticks\": \"\"}}, \"title\": {\"x\": 0.05}, \"xaxis\": {\"automargin\": true, \"gridcolor\": \"white\", \"linecolor\": \"white\", \"ticks\": \"\", \"title\": {\"standoff\": 15}, \"zerolinecolor\": \"white\", \"zerolinewidth\": 2}, \"yaxis\": {\"automargin\": true, \"gridcolor\": \"white\", \"linecolor\": \"white\", \"ticks\": \"\", \"title\": {\"standoff\": 15}, \"zerolinecolor\": \"white\", \"zerolinewidth\": 2}}}, \"title\": {\"text\": \"Impacto de las palabras usadas en la descripcion - Permutation Importance\"}, \"xaxis\": {\"anchor\": \"y\", \"domain\": [0.0, 0.16799999999999998]}, \"xaxis2\": {\"anchor\": \"y2\", \"domain\": [0.208, 0.376]}, \"xaxis3\": {\"anchor\": \"y3\", \"domain\": [0.416, 0.584]}, \"xaxis4\": {\"anchor\": \"y4\", \"domain\": [0.624, 0.792]}, \"xaxis5\": {\"anchor\": \"y5\", \"domain\": [0.832, 1.0]}, \"yaxis\": {\"anchor\": \"x\", \"domain\": [0.0, 1.0]}, \"yaxis2\": {\"anchor\": \"x2\", \"domain\": [0.0, 1.0]}, \"yaxis3\": {\"anchor\": \"x3\", \"domain\": [0.0, 1.0]}, \"yaxis4\": {\"anchor\": \"x4\", \"domain\": [0.0, 1.0]}, \"yaxis5\": {\"anchor\": \"x5\", \"domain\": [0.0, 1.0]}},                        {\"responsive\": true}                    ).then(function(){\n",
       "                            \n",
       "var gd = document.getElementById('93d63544-36ce-4a45-8fbf-367f54c53906');\n",
       "var x = new MutationObserver(function (mutations, observer) {{\n",
       "        var display = window.getComputedStyle(gd).display;\n",
       "        if (!display || display === 'none') {{\n",
       "            console.log([gd, 'removed!']);\n",
       "            Plotly.purge(gd);\n",
       "            observer.disconnect();\n",
       "        }}\n",
       "}});\n",
       "\n",
       "// Listen for the removal of the full notebook cells\n",
       "var notebookContainer = gd.closest('#notebook-container');\n",
       "if (notebookContainer) {{\n",
       "    x.observe(notebookContainer, {childList: true});\n",
       "}}\n",
       "\n",
       "// Listen for the clearing of the current output cell\n",
       "var outputEl = gd.closest('.output');\n",
       "if (outputEl) {{\n",
       "    x.observe(outputEl, {childList: true});\n",
       "}}\n",
       "\n",
       "                        })                };                });            </script>        </div>"
      ]
     },
     "metadata": {},
     "output_type": "display_data"
    }
   ],
   "source": [
    "def clean_name(x):\n",
    "    words = x.lower().split()\n",
    "    cln = [wrd for wrd in words if not wrd[0].isdigit()]\n",
    "    return \" \".join(cln)\n",
    "projects[\"cleaned_name\"] = projects[\"name\"].apply(lambda x : clean_name(x))\n",
    "\n",
    "## agregando caracteristicas : top 100\n",
    "vec = TfidfVectorizer(max_features=100, ngram_range=(1, 2), lowercase=True, stop_words=\"english\", min_df=6)\n",
    "X = vec.fit_transform(projects['cleaned_name'].values)\n",
    "\n",
    "## append to original dataframe\n",
    "vectors_df = pd.DataFrame(X.toarray(), columns=[\"_\"+xx for xx in vec.get_feature_names()])\n",
    "projects1_df = pd.concat([projects[features], vectors_df], axis=1)\n",
    "\n",
    "## train the model\n",
    "X_train, X_test, y_train, y_test = train_test_split(projects1_df, label, test_size = 0.25, random_state = 2)\n",
    "X_train2, y_train2 = X_train[:15000], y_train[:15000]\n",
    "X_test2, y_test2 = X_test[:1000], y_test[:1000]\n",
    "model2 = RandomForestClassifier(random_state=1).fit(X_train2, y_train2)\n",
    "y_pred = model2.predict(X_test2)\n",
    "\n",
    "\n",
    "\n",
    "from plotly import tools\n",
    "\n",
    "perm = PermutationImportance(model2, random_state=1).fit(X_test2, y_test2)\n",
    "pi_df = eli5.explain_weights_df(perm, feature_names = X_test2.columns.tolist(), feature_filter=lambda x: x[0] == '_')\n",
    "pi_df[\"feature\"] = pi_df[\"feature\"].apply(lambda x : x[1:])\n",
    "highs = pi_df[pi_df.weight >= 0.001]\n",
    "med = pi_df[(pi_df.weight > -0.0005) & (pi_df.weight < 0.001)]\n",
    "lows = pi_df[pi_df.weight <= -0.0005]\n",
    "\n",
    "trace1 = go.Bar(\n",
    "        orientation = \"h\",\n",
    "        y = highs.feature[::-1],\n",
    "        x = highs.weight[::-1],\n",
    "        marker = dict(opacity = 0.4, color = \"green\" ), error_x = dict(type='data', color=\"#9fa3a3\", array=list(highs[\"std\"][::-1]), visible=True))\n",
    "trace2 = go.Bar(\n",
    "        orientation = \"h\",\n",
    "        y = med.feature[:15][::-1],\n",
    "        x = med.weight[:15][::-1],\n",
    "        marker = dict(opacity = 0.4, color = \"yellow\"), error_x = dict(type='data', color=\"#9fa3a3\", array=list(med[\"std\"][:15][::-1]), visible=True))\n",
    "trace3 = go.Bar(\n",
    "        orientation = \"h\",\n",
    "        y = lows.feature,\n",
    "        x = lows.weight,\n",
    "        marker = dict(opacity = 0.4, color = \"red\"), error_x = dict(type='data', color=\"#9fa3a3\", array=list(lows[\"std\"][::-1]), visible=True))\n",
    "\n",
    "ttls = [\"Impacto Positivo\",\"\", \"Moderado\" ,\"\", \"Impacto Negativo\"]\n",
    "fig = tools.make_subplots(rows=1, cols=5, print_grid=False, subplot_titles = ttls)\n",
    "fig.append_trace(trace1, 1, 1)\n",
    "fig.append_trace(trace2, 1, 3)\n",
    "fig.append_trace(trace3, 1, 5)\n",
    "\n",
    "fig['layout'].update(showlegend=False, title='Impacto de las palabras usadas en la descripcion - Permutation Importance')\n",
    "iplot(fig, filename='simple-subplot-with-annotations')"
   ]
  },
  {
   "cell_type": "markdown",
   "metadata": {},
   "source": [
    "Inferencias\n",
    "\n",
    "- Desde el primer gráfico, podemos observar que hay ciertas palabras clave que, cuando se usan en el nombre del proyecto, probablemente aumenten la probabilidad de éxito de un proyecto. Ejemplo: \"project\", \"film\", and \"community\". Mientras que, por otro lado, es probable que palabras clave como \"game\", \"series\", \"dream\" generen menos atracción. Esto implica que los proyectos de crowdfunding relacionados con juegos o entretenimiento como \"series\" o \"dream\" pueden no tener mucho éxito en comparación con los relacionados con el arte, el diseño, etc.\n"
   ]
  },
  {
   "cell_type": "markdown",
   "metadata": {},
   "source": [
    "## 3. ¿Cómo los cambios en las características conducen a cambios en el resultado del modelo?\n",
    "\n",
    "Hasta ahora solo hemos hablado de las características más o menos importantes de un conjunto de muchas características. Por ejemplo, observamos que el objetivo del proyecto, la duración del proyecto, la cantidad de caracteres utilizados, etc. son algunas de las características importantes relacionadas con el éxito del proyecto. Ahora veremos cuáles son los valores o rangos de características específicos que conducen al éxito o al fracaso del proyecto. Específicamente, observaremos cómo la realización de cambios como aumentar o disminuir los valores afecta los resultados del modelo. Estos efectos pueden obtenerse trazando las gráficas de dependencia parcial de diferentes características."
   ]
  },
  {
   "cell_type": "markdown",
   "metadata": {},
   "source": [
    "cols_of_interest = ['num_words', 'num_chars', 'syllable_count',\n",
    "                    'duration', 'launched_month', 'launched_day',\n",
    "                    'category_count', 'main_category_count']\n",
    "                    \n",
    "- Posibles campos sobre los cuales realizar la verificacion"
   ]
  },
  {
   "cell_type": "markdown",
   "metadata": {},
   "source": [
    "### Sobre el campo Nombre del proyecto"
   ]
  },
  {
   "cell_type": "code",
   "execution_count": null,
   "metadata": {},
   "outputs": [],
   "source": [
    "def _plot_pdp(feature, pdp_color, fill_color):\n",
    "    plot_params = {\n",
    "        'title': feature.title() + ' - Plot de depencia',\n",
    "        'title_fontsize': 15,\n",
    "        'subtitle': 'Como cambios en \"%s\" afectan el modelo de prediccion' % feature.title(),\n",
    "        'subtitle_fontsize': 12,\n",
    "        'font_family': 'Calibri',\n",
    "        'xticks_rotation': 0,\n",
    "        'line_cmap': 'cool',\n",
    "        'zero_color': '#a2a5a0',\n",
    "        'zero_linewidth': 1.0,\n",
    "        'pdp_linewidth': 2.0,\n",
    "        'fill_alpha': 0.25,\n",
    "        'markersize': 5.5,\n",
    "        'pdp_hl_color': 'green',\n",
    "        'pdp_color': pdp_color,\n",
    "        'fill_color': fill_color,\n",
    "\n",
    "    }\n",
    "    pdp_goals = pdp.pdp_isolate(model=model1, dataset=X_test1, model_features=X_test1.columns, feature=feature)\n",
    "    pdp.pdp_plot(pdp_goals, feature, plot_params = plot_params)\n",
    "    plt.ylabel(\"Cambios en el modelo de prediccion\");\n",
    "    plt.show();\n",
    "    \n",
    "cols_of_interest = ['num_words', 'num_chars', 'syllable_count',\n",
    "                    'duration', 'launched_month', 'launched_day',\n",
    "                    'category_count', 'main_category_count']\n",
    "\n",
    "_plot_pdp(cols_of_interest[0], \"#f442b3\", \"#efaad6\")"
   ]
  },
  {
   "cell_type": "markdown",
   "metadata": {},
   "source": [
    "- Observamos que los proyectos que tienen menor número de palabras (<= 3) en el nombre no muestran ninguna mejora en el éxito del modelo. Sin embargo, si uno comienza a aumentar el número de palabras en el nombre del proyecto, la mejora del modelo correspondiente también aumenta linealmente. Para todos los proyectos que tienen más de 10 palabras en el nombre, el modelo se satura y muestra predicciones similares. Por lo tanto, el límite de palabras ideal es de alrededor de 7 a 10."
   ]
  },
  {
   "cell_type": "markdown",
   "metadata": {},
   "source": [
    "### Sobre el campo Duracion y dia de lanzamiento (DateTime)"
   ]
  },
  {
   "cell_type": "code",
   "execution_count": null,
   "metadata": {},
   "outputs": [],
   "source": [
    "_plot_pdp(cols_of_interest[3], \"#ff0077\", \"#fcb3d5\")"
   ]
  },
  {
   "cell_type": "markdown",
   "metadata": {},
   "source": [
    "- Para una duración de proyecto más corta (menos de 20 días), las posibilidades de que el proyecto tenga éxito son mayores. Sin embargo, si se aumenta la duración de un proyecto a 60-90 días, es menos probable que logre su objetivo."
   ]
  },
  {
   "cell_type": "markdown",
   "metadata": {},
   "source": [
    "### Sobre el campo categoria principal"
   ]
  },
  {
   "cell_type": "code",
   "execution_count": null,
   "metadata": {},
   "outputs": [],
   "source": [
    "_plot_pdp(cols_of_interest[7], \"#0800ff\", \"#cac9f2\")"
   ]
  },
  {
   "cell_type": "markdown",
   "metadata": {},
   "source": [
    "- Según la definición de la característica, el recuento de categorías es una característica que actúa como proxy de la popularidad de una categoría de proyecto. Por ejemplo, si en la categoría Viajes se publica una gran cantidad de proyectos, su category_count será mayor, por lo que es una categoría popular en Kickstarter. Por otro lado, si en la categoría Entretenimiento, muy raramente alguien agrega un proyecto, su category_count será menor y también lo será su popularidad. A partir de la trama, podemos observar que las posibilidades de que un proyecto tenga éxito serán mayores si pertenece a una categoría popular. También es válido para la categoría principal."
   ]
  },
  {
   "cell_type": "markdown",
   "metadata": {},
   "source": [
    "## 4. Entender las decisiones tomadas por el modelo.\n",
    "\n",
    "En esta sección, hacemos las predicciones finales de nuestro modelo y las interpretamos. Para este propósito usaremos valores SHAP que son el promedio de contribuciones marginales de valores de características individuales en todas las coaliciones posibles. Tratemos de entender esto en términos simples. Considere un proyecto aleatorio del conjunto de datos con las siguientes características:\n",
    "\n",
    "- El título contiene 8 palabras\n",
    "- El título contiene \"aprendizaje automático\"\n",
    "- El objetivo del proyecto es de 10000 dólares estadounidenses\n",
    "- El proyecto se lanza en un día laborable\n",
    "\n",
    "El modelo entrenado predice que es probable que este proyecto tenga éxito con una probabilidad del 75%. Pero, alguien hace la pregunta: ¿Por qué este proyecto tiene una probabilidad de éxito del 75% y no del 95%? Para responder a esta pregunta, obtenemos los valores de forma para la predicción realizada por el modelo para este proyecto. Los valores de Shap indican la cantidad de aumento o disminución en el valor de resultado del modelo del valor promedio de las predicciones en todo el conjunto de datos. \n",
    "Por ejemplo: \n",
    "- El valor de predicción promedio para este proyecto habría sido del 45% sin ningún modelo.\n",
    "- Debido a la presencia de 8 palabras clave en el título del proyecto, la probabilidad de éxito aumenta al 60%.\n",
    "- Dado que el título contiene el texto \"aprendizaje automático\", la probabilidad de éxito aumenta aún más al 88%.\n",
    "- Dado que el proyecto se lanza en un día laborable, la probabilidad de éxito aumenta entre un 2% y un 90%\n",
    "- Sin embargo, dado que el objetivo del proyecto es demasiado alto (en comparación con el promedio del universo), la probabilidad de éxito se reduce del 90% al 75%."
   ]
  },
  {
   "cell_type": "code",
   "execution_count": null,
   "metadata": {},
   "outputs": [],
   "source": [
    "preds = model1.predict(X_test1)\n",
    "dict(Counter(preds))"
   ]
  },
  {
   "cell_type": "markdown",
   "metadata": {},
   "source": [
    "- En una muestra de alrededor de 6500 proyectos de crowdfunding, el Modelo predice que alrededor de 4200 fallarán y solo alrededor de 2300 tendrán éxito. Ahora, nos interesa comprender qué está impulsando el éxito y el fracaso de estos proyectos. Grafiquemos los efectos de las características individuales en algunas de estas predicciones para que tengan sentido."
   ]
  },
  {
   "cell_type": "code",
   "execution_count": null,
   "metadata": {},
   "outputs": [],
   "source": [
    "import shap \n",
    "shap.initjs()\n",
    "data_for_prediction = X_test.iloc[1]\n",
    "explainer = shap.TreeExplainer(model1)\n",
    "shap_values = explainer.shap_values(data_for_prediction)\n",
    "shap.force_plot(explainer.expected_value[1], shap_values[1], data_for_prediction, plot_cmap=[\"#f04e4e\",\"#6677f9\"])"
   ]
  },
  {
   "cell_type": "markdown",
   "metadata": {},
   "source": [
    "- Para este proyecto en particular, el valor de predicción se incrementa a 0.58 desde el valor base de 0.4178. Esto implica que la presencia de ciertas características y sus valores correspondientes en este proyecto aumenta las probabilidades de éxito. Por ejemplo, la duración es 44, la cantidad de caracteres en el nombre del proyecto es 27 y la diferencia entre la cantidad objetivo y la cantidad objetivo promedio de la categoría es de aproximadamente 50K. Estas características aumentan la probabilidad."
   ]
  },
  {
   "cell_type": "code",
   "execution_count": null,
   "metadata": {},
   "outputs": [],
   "source": [
    "shap.initjs()\n",
    "data_for_prediction = X_test.iloc[10]\n",
    "explainer = shap.TreeExplainer(model1)\n",
    "shap_values = explainer.shap_values(data_for_prediction)\n",
    "shap.force_plot(explainer.expected_value[1], shap_values[1], data_for_prediction, plot_cmap=[\"#f79d2e\",\"#812df7\"])"
   ]
  },
  {
   "cell_type": "markdown",
   "metadata": {},
   "source": [
    "- Para este proyecto, una gran duración, la presencia de una categoría en particular disminuye las posibilidades de manera significativa. No muchas caracteristicas y los valores de las caracteristicas pueden aumentar las posibilidades de éxito del proyecto.\n",
    "\n",
    "Ahora, podemos agregar los valores de forma para cada característica para cada predicción realizada por el modelo. Esto ayuda a comprender un efecto agregado general de las características del modelo. Hagamos la trama de resumen."
   ]
  },
  {
   "cell_type": "code",
   "execution_count": null,
   "metadata": {},
   "outputs": [],
   "source": [
    "X_test_s = X_test.head(1000)\n",
    "shap_values = explainer.shap_values(X_test_s)\n",
    "shap.summary_plot(shap_values[1], X_test_s)"
   ]
  },
  {
   "cell_type": "markdown",
   "metadata": {},
   "source": [
    "- Podemos observar que los valores de SHAP son más altos para el mismo conjunto de características que vimos en importancia relativa de característica e importancia de permutación. Esto confirma que las características que influyen en gran medida en el éxito del proyecto están relacionadas con características del proyecto, como la duración o el objetivo."
   ]
  },
  {
   "cell_type": "markdown",
   "metadata": {},
   "source": [
    "# Conclusion"
   ]
  },
  {
   "cell_type": "markdown",
   "metadata": {},
   "source": [
    "Después de aplicar estas diferentes técnicas, entendimos que existen ciertos factores que aumentan o disminuyen las posibilidades de que un proyecto logre recaudar fondos. Tanto desde la perspectiva del propietario del proyecto como de la empresa, es importante establecer los valores óptimos del objetivo del proyecto y la duración. Es posible que una gran duración o una cantidad muy grande no sean completamente exitosas. Al mismo tiempo, es importante elegir el número correcto de palabras y caracteres en el nombre del proyecto. Por ejemplo, un proyecto que tenga muy pocas palabras y caracteres o una gran cantidad de palabras puede volverse menos intuitivo y menos explicativo. De manera similar, la categoría de proyecto también juega un papel fundamental. Habrá algunas categorías en la plataforma en las que el número total de proyectos es muy grande, estas son las llamadas categorías populares. Las posibilidades pueden ser mayores si el proyecto se publica en una categoría popular en lugar de en una categoría rara."
   ]
  }
 ],
 "metadata": {
  "kernelspec": {
   "display_name": "Python 3",
   "language": "python",
   "name": "python3"
  },
  "language_info": {
   "codemirror_mode": {
    "name": "ipython",
    "version": 3
   },
   "file_extension": ".py",
   "mimetype": "text/x-python",
   "name": "python",
   "nbconvert_exporter": "python",
   "pygments_lexer": "ipython3",
   "version": "3.7.8"
  }
 },
 "nbformat": 4,
 "nbformat_minor": 4
}
