{
 "cells": [
  {
   "cell_type": "markdown",
   "metadata": {},
   "source": [
    "# Análisis de datos IV"
   ]
  },
  {
   "cell_type": "markdown",
   "metadata": {},
   "source": [
    "## Selecciones y Frecuencias"
   ]
  },
  {
   "cell_type": "code",
   "execution_count": null,
   "metadata": {},
   "outputs": [],
   "source": [
    "import pandas as pd"
   ]
  },
  {
   "cell_type": "code",
   "execution_count": null,
   "metadata": {},
   "outputs": [],
   "source": [
    "datos = pd.read_csv('data/alquiler_residencial.csv', sep = ';')"
   ]
  },
  {
   "cell_type": "code",
   "execution_count": null,
   "metadata": {},
   "outputs": [],
   "source": [
    "datos.head(10)"
   ]
  },
  {
   "cell_type": "code",
   "execution_count": null,
   "metadata": {},
   "outputs": [],
   "source": [
    "# Seleccione solamente los inmuebles clasificados con tipo 'Apartamento'\n",
    "seleccion = datos['Tipo'] == 'Apartamento'\n",
    "n1 = datos[seleccion].shape[0]\n",
    "n1"
   ]
  },
  {
   "cell_type": "code",
   "execution_count": null,
   "metadata": {},
   "outputs": [],
   "source": [
    "# Seleccione los inmuebles classificados com tipos 'Casa', 'Casa de Condomínio' e 'Casa de Vila'\n",
    "seleccion = (datos['Tipo'] == 'Casa') | (datos['Tipo'] == 'Casa de Condomínio') | (datos['Tipo'] == 'Casa de Vila')\n",
    "n2 = datos[seleccion].shape[0]\n",
    "n2"
   ]
  },
  {
   "cell_type": "code",
   "execution_count": null,
   "metadata": {},
   "outputs": [],
   "source": [
    "# Seleccione los inmuebles con área entre 60 y 100 metros cuadrados, incluyendo los limites\n",
    "# 60 <= Area <= 100\n",
    "seleccion = (datos['Area'] >= 60) & (datos['Area'] <= 100)\n",
    "n3 = datos[seleccion].shape[0]\n",
    "n3"
   ]
  },
  {
   "cell_type": "code",
   "execution_count": null,
   "metadata": {},
   "outputs": [],
   "source": [
    "# Seleccione los inmuebles que tengan por lo menos 4 cuartos y alquiler menor que R$ 2.000,00\n",
    "seleccion = (datos['Quartos'] >= 4) & (datos['Valor'] < 2000)\n",
    "n4 = datos[seleccion].shape[0]\n",
    "n4"
   ]
  },
  {
   "cell_type": "code",
   "execution_count": null,
   "metadata": {},
   "outputs": [],
   "source": [
    "print(\"Nº de inmuebles clasificados con tipo 'Apartamento' -> {}\".format(n1))\n",
    "print(\"Nº de inmuebles clasificados con tipos 'Casa', 'Casa de Condomínio' y 'Casa de Vila' -> {}\".format(n2))\n",
    "print(\"Nº de inmuebles con área entre 60 y 100 metros cuadrados, incluyendo los limites -> {}\".format(n3))\n",
    "print(\"Nº de inmuebles que tengan por lo menos 4 cuartos y alquiler menor que R$ 2.000,00 -> {}\".format(n4))"
   ]
  }
 ],
 "metadata": {
  "kernelspec": {
   "display_name": "Python 3",
   "language": "python",
   "name": "python3"
  },
  "language_info": {
   "codemirror_mode": {
    "name": "ipython",
    "version": 3
   },
   "file_extension": ".py",
   "mimetype": "text/x-python",
   "name": "python",
   "nbconvert_exporter": "python",
   "pygments_lexer": "ipython3",
   "version": "3.7.4"
  }
 },
 "nbformat": 4,
 "nbformat_minor": 2
}
